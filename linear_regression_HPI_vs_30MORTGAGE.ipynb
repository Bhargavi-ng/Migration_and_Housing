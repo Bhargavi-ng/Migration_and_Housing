{
 "cells": [
  {
   "cell_type": "markdown",
   "id": "ed8edfc2-3cf7-46fe-b1ea-f532b515d284",
   "metadata": {},
   "source": [
    "# Linear Regression of house price on Mortgage Rate\n"
   ]
  },
  {
   "cell_type": "markdown",
   "id": "999a1af0-0ac7-42c0-a21c-67ac7ed24c5a",
   "metadata": {},
   "source": [
    "## Import dependencies"
   ]
  },
  {
   "cell_type": "code",
   "execution_count": 10,
   "id": "132f875c-af4c-43ec-8669-7400cffda307",
   "metadata": {},
   "outputs": [],
   "source": [
    "import warnings\n",
    "warnings.filterwarnings('ignore')"
   ]
  },
  {
   "cell_type": "code",
   "execution_count": 11,
   "id": "026a4052-c14b-464c-9d96-89c6b3dc01c4",
   "metadata": {},
   "outputs": [],
   "source": [
    "import numpy as np\n",
    "import pandas as pd\n",
    "import matplotlib.pyplot as plt\n",
    "from pathlib import Path\n",
    "from collections import Counter\n",
    "import mitosheet\n",
    "from datetime import datetime"
   ]
  },
  {
   "cell_type": "code",
   "execution_count": 12,
   "id": "869bc10a-bcc1-4942-b7f3-8c7431d9b7f8",
   "metadata": {},
   "outputs": [],
   "source": [
    "from sklearn.linear_model import LinearRegression\n",
    "from sklearn.metrics import mean_squared_error, r2_score"
   ]
  },
  {
   "cell_type": "markdown",
   "id": "ca0129ca",
   "metadata": {},
   "source": [
    "## Table 1: Mortgage Rate Table "
   ]
  },
  {
   "cell_type": "code",
   "execution_count": 13,
   "id": "0e945dd5-d696-43d7-b8d8-31be027ca9ea",
   "metadata": {},
   "outputs": [],
   "source": [
    "from mitosheet import *; register_analysis('UUID-18eca8ca-9187-4f3d-ad57-c2234e59c069')\n",
    "\n",
    "# import mortgage30US.csv\n",
    "import pandas as pd\n",
    "MORTGAGE30US_csv = pd.read_csv(r'Resources\\MORTGAGE30US.csv')\n",
    "\n",
    "# Changed DATE from object to datetime\n",
    "import pandas as pd\n",
    "MORTGAGE30US_csv['DATE'] = pd.to_datetime(MORTGAGE30US_csv['DATE'], infer_datetime_format=True, errors='coerce')\n",
    "\n",
    "# Added column new-column-dcm7 to MORTGAGE30US_csv\n",
    "MORTGAGE30US_csv.insert(1, 'new-column-dcm7', 0)\n",
    "\n",
    "# Renamed new-column-dcm7 to Quarter in MORTGAGE30US_csv\n",
    "MORTGAGE30US_csv.rename(columns={'new-column-dcm7': 'Quarter'}, inplace=True)\n",
    "\n",
    "# Set new-column-dcm7 in MORTGAGE30US_csv to =YEAR(DATE)\n",
    "MORTGAGE30US_csv['Quarter'] = YEAR(MORTGAGE30US_csv['DATE'])\n",
    "\n",
    "# Renamed new-column-dcm7 to YEAR in MORTGAGE30US_csv\n",
    "MORTGAGE30US_csv.rename(columns={'Quarter': 'YEAR'}, inplace=True)\n"
   ]
  },
  {
   "cell_type": "code",
   "execution_count": 14,
   "id": "a5d1a49c-d1ea-4f89-aac4-fc573249d1a6",
   "metadata": {},
   "outputs": [],
   "source": [
    "# Make a new column 'Quarter' in MORTGAGE30US csv \n",
    "MORTGAGE30US_csv['quarter'] = MORTGAGE30US_csv['DATE'].dt.quarter\n"
   ]
  },
  {
   "cell_type": "code",
   "execution_count": 15,
   "id": "4dc7efe5-803f-423d-a84f-e05db472c31e",
   "metadata": {},
   "outputs": [
    {
     "data": {
      "text/html": [
       "<div><div id=329da9f3-29f4-42fb-9118-4c34623fa4e4 style=\"display:none; background-color:#9D6CFF; color:white; width:200px; height:30px; padding-left:5px; border-radius:4px; flex-direction:row; justify-content:space-around; align-items:center;\" onmouseover=\"this.style.backgroundColor='#BA9BF8'\" onmouseout=\"this.style.backgroundColor='#9D6CFF'\" onclick=\"window.commands?.execute('create-mitosheet-from-dataframe-output');\">See Full Dataframe in Mito</div> <script> if (window.commands.hasCommand('create-mitosheet-from-dataframe-output')) document.getElementById('329da9f3-29f4-42fb-9118-4c34623fa4e4').style.display = 'flex' </script> <table border=\"1\" class=\"dataframe\">\n",
       "  <thead>\n",
       "    <tr style=\"text-align: right;\">\n",
       "      <th></th>\n",
       "      <th>DATE</th>\n",
       "      <th>YEAR</th>\n",
       "      <th>MORTGAGE30US</th>\n",
       "      <th>quarter</th>\n",
       "    </tr>\n",
       "  </thead>\n",
       "  <tbody>\n",
       "    <tr>\n",
       "      <th>0</th>\n",
       "      <td>1971-04-02</td>\n",
       "      <td>1971</td>\n",
       "      <td>7.33</td>\n",
       "      <td>2</td>\n",
       "    </tr>\n",
       "    <tr>\n",
       "      <th>1</th>\n",
       "      <td>1971-04-09</td>\n",
       "      <td>1971</td>\n",
       "      <td>7.31</td>\n",
       "      <td>2</td>\n",
       "    </tr>\n",
       "    <tr>\n",
       "      <th>2</th>\n",
       "      <td>1971-04-16</td>\n",
       "      <td>1971</td>\n",
       "      <td>7.31</td>\n",
       "      <td>2</td>\n",
       "    </tr>\n",
       "    <tr>\n",
       "      <th>3</th>\n",
       "      <td>1971-04-23</td>\n",
       "      <td>1971</td>\n",
       "      <td>7.31</td>\n",
       "      <td>2</td>\n",
       "    </tr>\n",
       "    <tr>\n",
       "      <th>4</th>\n",
       "      <td>1971-04-30</td>\n",
       "      <td>1971</td>\n",
       "      <td>7.29</td>\n",
       "      <td>2</td>\n",
       "    </tr>\n",
       "  </tbody>\n",
       "</table></div>"
      ],
      "text/plain": [
       "        DATE  YEAR  MORTGAGE30US  quarter\n",
       "0 1971-04-02  1971          7.33        2\n",
       "1 1971-04-09  1971          7.31        2\n",
       "2 1971-04-16  1971          7.31        2\n",
       "3 1971-04-23  1971          7.31        2\n",
       "4 1971-04-30  1971          7.29        2"
      ]
     },
     "execution_count": 15,
     "metadata": {},
     "output_type": "execute_result"
    }
   ],
   "source": [
    "MORTGAGE30US_csv.head()"
   ]
  },
  {
   "cell_type": "code",
   "execution_count": 16,
   "id": "b1b87404-d651-45ac-a05d-f14df4983b62",
   "metadata": {},
   "outputs": [],
   "source": [
    "# Reordered quarter in MORTGAGE30US_csv\n",
    "MORTGAGE30US_csv_columns = [col for col in MORTGAGE30US_csv.columns if col != 'quarter']\n",
    "MORTGAGE30US_csv_columns.insert(1, 'quarter')\n",
    "MORTGAGE30US_csv = MORTGAGE30US_csv[MORTGAGE30US_csv_columns]\n",
    "\n",
    "# Reordered quarter in MORTGAGE30US_csv\n",
    "MORTGAGE30US_csv_columns = [col for col in MORTGAGE30US_csv.columns if col != 'quarter']\n",
    "MORTGAGE30US_csv_columns.insert(1, 'quarter')\n",
    "MORTGAGE30US_csv = MORTGAGE30US_csv[MORTGAGE30US_csv_columns]\n"
   ]
  },
  {
   "cell_type": "code",
   "execution_count": 17,
   "id": "dd2d6755-557b-4b39-a13a-2604c88ca447",
   "metadata": {},
   "outputs": [
    {
     "data": {
      "text/html": [
       "<div><div id=e27d51e5-0e68-4bab-a55f-76dae21d9ebd style=\"display:none; background-color:#9D6CFF; color:white; width:200px; height:30px; padding-left:5px; border-radius:4px; flex-direction:row; justify-content:space-around; align-items:center;\" onmouseover=\"this.style.backgroundColor='#BA9BF8'\" onmouseout=\"this.style.backgroundColor='#9D6CFF'\" onclick=\"window.commands?.execute('create-mitosheet-from-dataframe-output');\">See Full Dataframe in Mito</div> <script> if (window.commands.hasCommand('create-mitosheet-from-dataframe-output')) document.getElementById('e27d51e5-0e68-4bab-a55f-76dae21d9ebd').style.display = 'flex' </script> <table border=\"1\" class=\"dataframe\">\n",
       "  <thead>\n",
       "    <tr style=\"text-align: right;\">\n",
       "      <th></th>\n",
       "      <th>DATE</th>\n",
       "      <th>quarter</th>\n",
       "      <th>YEAR</th>\n",
       "      <th>MORTGAGE30US</th>\n",
       "    </tr>\n",
       "  </thead>\n",
       "  <tbody>\n",
       "    <tr>\n",
       "      <th>0</th>\n",
       "      <td>1971-04-02</td>\n",
       "      <td>2</td>\n",
       "      <td>1971</td>\n",
       "      <td>7.33</td>\n",
       "    </tr>\n",
       "    <tr>\n",
       "      <th>1</th>\n",
       "      <td>1971-04-09</td>\n",
       "      <td>2</td>\n",
       "      <td>1971</td>\n",
       "      <td>7.31</td>\n",
       "    </tr>\n",
       "    <tr>\n",
       "      <th>2</th>\n",
       "      <td>1971-04-16</td>\n",
       "      <td>2</td>\n",
       "      <td>1971</td>\n",
       "      <td>7.31</td>\n",
       "    </tr>\n",
       "    <tr>\n",
       "      <th>3</th>\n",
       "      <td>1971-04-23</td>\n",
       "      <td>2</td>\n",
       "      <td>1971</td>\n",
       "      <td>7.31</td>\n",
       "    </tr>\n",
       "    <tr>\n",
       "      <th>4</th>\n",
       "      <td>1971-04-30</td>\n",
       "      <td>2</td>\n",
       "      <td>1971</td>\n",
       "      <td>7.29</td>\n",
       "    </tr>\n",
       "  </tbody>\n",
       "</table></div>"
      ],
      "text/plain": [
       "        DATE  quarter  YEAR  MORTGAGE30US\n",
       "0 1971-04-02        2  1971          7.33\n",
       "1 1971-04-09        2  1971          7.31\n",
       "2 1971-04-16        2  1971          7.31\n",
       "3 1971-04-23        2  1971          7.31\n",
       "4 1971-04-30        2  1971          7.29"
      ]
     },
     "execution_count": 17,
     "metadata": {},
     "output_type": "execute_result"
    }
   ],
   "source": [
    "MORTGAGE30US_csv.head()"
   ]
  },
  {
   "cell_type": "code",
   "execution_count": 18,
   "id": "bb57389b-1bf5-4dbc-9147-f3c2f17f6526",
   "metadata": {},
   "outputs": [
    {
     "data": {
      "text/html": [
       "<div><div id=e4de3674-1bde-4381-97a2-98aececb4bdc style=\"display:none; background-color:#9D6CFF; color:white; width:200px; height:30px; padding-left:5px; border-radius:4px; flex-direction:row; justify-content:space-around; align-items:center;\" onmouseover=\"this.style.backgroundColor='#BA9BF8'\" onmouseout=\"this.style.backgroundColor='#9D6CFF'\" onclick=\"window.commands?.execute('create-mitosheet-from-dataframe-output');\">See Full Dataframe in Mito</div> <script> if (window.commands.hasCommand('create-mitosheet-from-dataframe-output')) document.getElementById('e4de3674-1bde-4381-97a2-98aececb4bdc').style.display = 'flex' </script> <table border=\"1\" class=\"dataframe\">\n",
       "  <thead>\n",
       "    <tr style=\"text-align: right;\">\n",
       "      <th></th>\n",
       "      <th>DATE</th>\n",
       "      <th>quarter</th>\n",
       "      <th>YEAR</th>\n",
       "      <th>MORTGAGE30US</th>\n",
       "      <th>Quarter_Year</th>\n",
       "    </tr>\n",
       "  </thead>\n",
       "  <tbody>\n",
       "    <tr>\n",
       "      <th>0</th>\n",
       "      <td>1971-04-02</td>\n",
       "      <td>2</td>\n",
       "      <td>1971</td>\n",
       "      <td>7.33</td>\n",
       "      <td>2Q1971</td>\n",
       "    </tr>\n",
       "    <tr>\n",
       "      <th>1</th>\n",
       "      <td>1971-04-09</td>\n",
       "      <td>2</td>\n",
       "      <td>1971</td>\n",
       "      <td>7.31</td>\n",
       "      <td>2Q1971</td>\n",
       "    </tr>\n",
       "    <tr>\n",
       "      <th>2</th>\n",
       "      <td>1971-04-16</td>\n",
       "      <td>2</td>\n",
       "      <td>1971</td>\n",
       "      <td>7.31</td>\n",
       "      <td>2Q1971</td>\n",
       "    </tr>\n",
       "    <tr>\n",
       "      <th>3</th>\n",
       "      <td>1971-04-23</td>\n",
       "      <td>2</td>\n",
       "      <td>1971</td>\n",
       "      <td>7.31</td>\n",
       "      <td>2Q1971</td>\n",
       "    </tr>\n",
       "    <tr>\n",
       "      <th>4</th>\n",
       "      <td>1971-04-30</td>\n",
       "      <td>2</td>\n",
       "      <td>1971</td>\n",
       "      <td>7.29</td>\n",
       "      <td>2Q1971</td>\n",
       "    </tr>\n",
       "    <tr>\n",
       "      <th>...</th>\n",
       "      <td>...</td>\n",
       "      <td>...</td>\n",
       "      <td>...</td>\n",
       "      <td>...</td>\n",
       "      <td>...</td>\n",
       "    </tr>\n",
       "    <tr>\n",
       "      <th>2645</th>\n",
       "      <td>2021-12-09</td>\n",
       "      <td>4</td>\n",
       "      <td>2021</td>\n",
       "      <td>3.10</td>\n",
       "      <td>4Q2021</td>\n",
       "    </tr>\n",
       "    <tr>\n",
       "      <th>2646</th>\n",
       "      <td>2021-12-16</td>\n",
       "      <td>4</td>\n",
       "      <td>2021</td>\n",
       "      <td>3.12</td>\n",
       "      <td>4Q2021</td>\n",
       "    </tr>\n",
       "    <tr>\n",
       "      <th>2647</th>\n",
       "      <td>2021-12-23</td>\n",
       "      <td>4</td>\n",
       "      <td>2021</td>\n",
       "      <td>3.05</td>\n",
       "      <td>4Q2021</td>\n",
       "    </tr>\n",
       "    <tr>\n",
       "      <th>2648</th>\n",
       "      <td>2021-12-30</td>\n",
       "      <td>4</td>\n",
       "      <td>2021</td>\n",
       "      <td>3.11</td>\n",
       "      <td>4Q2021</td>\n",
       "    </tr>\n",
       "    <tr>\n",
       "      <th>2649</th>\n",
       "      <td>2022-01-06</td>\n",
       "      <td>1</td>\n",
       "      <td>2022</td>\n",
       "      <td>3.22</td>\n",
       "      <td>1Q2022</td>\n",
       "    </tr>\n",
       "  </tbody>\n",
       "</table></div>"
      ],
      "text/plain": [
       "           DATE  quarter  YEAR  MORTGAGE30US Quarter_Year\n",
       "0    1971-04-02        2  1971          7.33       2Q1971\n",
       "1    1971-04-09        2  1971          7.31       2Q1971\n",
       "2    1971-04-16        2  1971          7.31       2Q1971\n",
       "3    1971-04-23        2  1971          7.31       2Q1971\n",
       "4    1971-04-30        2  1971          7.29       2Q1971\n",
       "...         ...      ...   ...           ...          ...\n",
       "2645 2021-12-09        4  2021          3.10       4Q2021\n",
       "2646 2021-12-16        4  2021          3.12       4Q2021\n",
       "2647 2021-12-23        4  2021          3.05       4Q2021\n",
       "2648 2021-12-30        4  2021          3.11       4Q2021\n",
       "2649 2022-01-06        1  2022          3.22       1Q2022\n",
       "\n",
       "[2650 rows x 5 columns]"
      ]
     },
     "execution_count": 18,
     "metadata": {},
     "output_type": "execute_result"
    }
   ],
   "source": [
    "# Combine multiple column values into a single column: http://net-informations.com/ds/pd/comb.htm\n",
    "MORTGAGE30US_csv['Quarter_Year'] = MORTGAGE30US_csv['quarter'].astype(str) + 'Q' + MORTGAGE30US_csv['YEAR'].astype(str)\n",
    "MORTGAGE30US_csv"
   ]
  },
  {
   "cell_type": "code",
   "execution_count": 19,
   "id": "11f33767-9995-4f44-bd82-bd5adc39909c",
   "metadata": {},
   "outputs": [
    {
     "data": {
      "text/html": [
       "<div><div id=98497562-88f0-4e42-815f-595a0fd4b667 style=\"display:none; background-color:#9D6CFF; color:white; width:200px; height:30px; padding-left:5px; border-radius:4px; flex-direction:row; justify-content:space-around; align-items:center;\" onmouseover=\"this.style.backgroundColor='#BA9BF8'\" onmouseout=\"this.style.backgroundColor='#9D6CFF'\" onclick=\"window.commands?.execute('create-mitosheet-from-dataframe-output');\">See Full Dataframe in Mito</div> <script> if (window.commands.hasCommand('create-mitosheet-from-dataframe-output')) document.getElementById('98497562-88f0-4e42-815f-595a0fd4b667').style.display = 'flex' </script> <table border=\"1\" class=\"dataframe\">\n",
       "  <thead>\n",
       "    <tr style=\"text-align: right;\">\n",
       "      <th></th>\n",
       "      <th>Quarter_Year</th>\n",
       "      <th>Avg_Q_Mortgage</th>\n",
       "    </tr>\n",
       "  </thead>\n",
       "  <tbody>\n",
       "    <tr>\n",
       "      <th>0</th>\n",
       "      <td>1Q1972</td>\n",
       "      <td>7.349231</td>\n",
       "    </tr>\n",
       "    <tr>\n",
       "      <th>1</th>\n",
       "      <td>1Q1973</td>\n",
       "      <td>7.446154</td>\n",
       "    </tr>\n",
       "    <tr>\n",
       "      <th>2</th>\n",
       "      <td>1Q1974</td>\n",
       "      <td>8.462308</td>\n",
       "    </tr>\n",
       "    <tr>\n",
       "      <th>3</th>\n",
       "      <td>1Q1975</td>\n",
       "      <td>9.168462</td>\n",
       "    </tr>\n",
       "    <tr>\n",
       "      <th>4</th>\n",
       "      <td>1Q1976</td>\n",
       "      <td>8.873077</td>\n",
       "    </tr>\n",
       "    <tr>\n",
       "      <th>...</th>\n",
       "      <td>...</td>\n",
       "      <td>...</td>\n",
       "    </tr>\n",
       "    <tr>\n",
       "      <th>199</th>\n",
       "      <td>4Q2017</td>\n",
       "      <td>3.922308</td>\n",
       "    </tr>\n",
       "    <tr>\n",
       "      <th>200</th>\n",
       "      <td>4Q2018</td>\n",
       "      <td>4.784615</td>\n",
       "    </tr>\n",
       "    <tr>\n",
       "      <th>201</th>\n",
       "      <td>4Q2019</td>\n",
       "      <td>3.700000</td>\n",
       "    </tr>\n",
       "    <tr>\n",
       "      <th>202</th>\n",
       "      <td>4Q2020</td>\n",
       "      <td>2.760714</td>\n",
       "    </tr>\n",
       "    <tr>\n",
       "      <th>203</th>\n",
       "      <td>4Q2021</td>\n",
       "      <td>3.079231</td>\n",
       "    </tr>\n",
       "  </tbody>\n",
       "</table></div>"
      ],
      "text/plain": [
       "    Quarter_Year  Avg_Q_Mortgage\n",
       "0         1Q1972        7.349231\n",
       "1         1Q1973        7.446154\n",
       "2         1Q1974        8.462308\n",
       "3         1Q1975        9.168462\n",
       "4         1Q1976        8.873077\n",
       "..           ...             ...\n",
       "199       4Q2017        3.922308\n",
       "200       4Q2018        4.784615\n",
       "201       4Q2019        3.700000\n",
       "202       4Q2020        2.760714\n",
       "203       4Q2021        3.079231\n",
       "\n",
       "[204 rows x 2 columns]"
      ]
     },
     "execution_count": 19,
     "metadata": {},
     "output_type": "execute_result"
    }
   ],
   "source": [
    "# Example groupby https://stackoverflow.com/questions/49771181/how-can-i-calculate-quarterly-average-in-python-if-i-have-values-for-each-month\n",
    "# Groupby into dataframe https://technology.amis.nl/data-analytics/convert-groupby-result-on-pandas-data-frame-into-a-data-frame-using-to_frame/\n",
    "Q_MORTGAGE30US = MORTGAGE30US_csv.groupby(['Quarter_Year'])['MORTGAGE30US'].mean().to_frame(name = 'Avg_Q_Mortgage').reset_index()\n",
    "Q_MORTGAGE30US"
   ]
  },
  {
   "cell_type": "markdown",
   "id": "802e57f6",
   "metadata": {},
   "source": [
    "## Table 2: House Price Table"
   ]
  },
  {
   "cell_type": "code",
   "execution_count": 20,
   "id": "b621aa19-ea7b-427c-9751-9c7df8ad9107",
   "metadata": {},
   "outputs": [],
   "source": [
    "USSTHPI_csv = pd.read_csv(r'Resources\\USSTHPI.csv')\n",
    "\n",
    "# Changed DATE from object to datetime\n",
    "import pandas as pd\n",
    "USSTHPI_csv['DATE'] = pd.to_datetime(USSTHPI_csv['DATE'], infer_datetime_format=True, errors='coerce')\n",
    "\n",
    "# Added column new-column-4lw1 to USSTHPI_csv\n",
    "USSTHPI_csv.insert(2, 'new-column-4lw1', 0)\n",
    "\n",
    "# Reordered new-column-4lw1 in USSTHPI_csv\n",
    "USSTHPI_csv_columns = [col for col in USSTHPI_csv.columns if col != 'new-column-4lw1']\n",
    "USSTHPI_csv_columns.insert(2, 'new-column-4lw1')\n",
    "USSTHPI_csv = USSTHPI_csv[USSTHPI_csv_columns]\n",
    "\n",
    "# Renamed new-column-4lw1 to YEAR in USSTHPI_csv\n",
    "USSTHPI_csv.rename(columns={'new-column-4lw1': 'YEAR'}, inplace=True)\n",
    "\n",
    "# Added column new-column-9zd8 to USSTHPI_csv\n",
    "USSTHPI_csv.insert(3, 'new-column-9zd8', 0)\n",
    "\n",
    "# Renamed new-column-9zd8 to quarter in USSTHPI_csv\n",
    "USSTHPI_csv.rename(columns={'new-column-9zd8': 'quarter'}, inplace=True)\n",
    "\n",
    "# Added column new-column-u3ry to USSTHPI_csv\n",
    "USSTHPI_csv.insert(4, 'new-column-u3ry', 0)\n",
    "\n",
    "# Renamed new-column-u3ry to Quarter_Year in USSTHPI_csv\n",
    "USSTHPI_csv.rename(columns={'new-column-u3ry': 'Quarter_Year'}, inplace=True)\n",
    "\n",
    "# Set new-column-4lw1 in USSTHPI_csv to =YEAR(DATE)\n",
    "USSTHPI_csv['YEAR'] = YEAR(USSTHPI_csv['DATE'])\n"
   ]
  },
  {
   "cell_type": "code",
   "execution_count": 21,
   "id": "522ab4b7-ac5c-44d4-860c-8d851e19168d",
   "metadata": {},
   "outputs": [
    {
     "data": {
      "text/html": [
       "<div><div id=011555c9-5d39-42fb-9757-4530b73850fb style=\"display:none; background-color:#9D6CFF; color:white; width:200px; height:30px; padding-left:5px; border-radius:4px; flex-direction:row; justify-content:space-around; align-items:center;\" onmouseover=\"this.style.backgroundColor='#BA9BF8'\" onmouseout=\"this.style.backgroundColor='#9D6CFF'\" onclick=\"window.commands?.execute('create-mitosheet-from-dataframe-output');\">See Full Dataframe in Mito</div> <script> if (window.commands.hasCommand('create-mitosheet-from-dataframe-output')) document.getElementById('011555c9-5d39-42fb-9757-4530b73850fb').style.display = 'flex' </script> <table border=\"1\" class=\"dataframe\">\n",
       "  <thead>\n",
       "    <tr style=\"text-align: right;\">\n",
       "      <th></th>\n",
       "      <th>DATE</th>\n",
       "      <th>USSTHPI</th>\n",
       "      <th>YEAR</th>\n",
       "      <th>quarter</th>\n",
       "      <th>Quarter_Year</th>\n",
       "    </tr>\n",
       "  </thead>\n",
       "  <tbody>\n",
       "    <tr>\n",
       "      <th>0</th>\n",
       "      <td>1975-01-01</td>\n",
       "      <td>59.86</td>\n",
       "      <td>1975</td>\n",
       "      <td>1</td>\n",
       "      <td>0</td>\n",
       "    </tr>\n",
       "    <tr>\n",
       "      <th>1</th>\n",
       "      <td>1975-04-01</td>\n",
       "      <td>60.85</td>\n",
       "      <td>1975</td>\n",
       "      <td>2</td>\n",
       "      <td>0</td>\n",
       "    </tr>\n",
       "    <tr>\n",
       "      <th>2</th>\n",
       "      <td>1975-07-01</td>\n",
       "      <td>61.16</td>\n",
       "      <td>1975</td>\n",
       "      <td>3</td>\n",
       "      <td>0</td>\n",
       "    </tr>\n",
       "    <tr>\n",
       "      <th>3</th>\n",
       "      <td>1975-10-01</td>\n",
       "      <td>62.24</td>\n",
       "      <td>1975</td>\n",
       "      <td>4</td>\n",
       "      <td>0</td>\n",
       "    </tr>\n",
       "    <tr>\n",
       "      <th>4</th>\n",
       "      <td>1976-01-01</td>\n",
       "      <td>62.88</td>\n",
       "      <td>1976</td>\n",
       "      <td>1</td>\n",
       "      <td>0</td>\n",
       "    </tr>\n",
       "    <tr>\n",
       "      <th>...</th>\n",
       "      <td>...</td>\n",
       "      <td>...</td>\n",
       "      <td>...</td>\n",
       "      <td>...</td>\n",
       "      <td>...</td>\n",
       "    </tr>\n",
       "    <tr>\n",
       "      <th>182</th>\n",
       "      <td>2020-07-01</td>\n",
       "      <td>463.49</td>\n",
       "      <td>2020</td>\n",
       "      <td>3</td>\n",
       "      <td>0</td>\n",
       "    </tr>\n",
       "    <tr>\n",
       "      <th>183</th>\n",
       "      <td>2020-10-01</td>\n",
       "      <td>473.58</td>\n",
       "      <td>2020</td>\n",
       "      <td>4</td>\n",
       "      <td>0</td>\n",
       "    </tr>\n",
       "    <tr>\n",
       "      <th>184</th>\n",
       "      <td>2021-01-01</td>\n",
       "      <td>484.41</td>\n",
       "      <td>2021</td>\n",
       "      <td>1</td>\n",
       "      <td>0</td>\n",
       "    </tr>\n",
       "    <tr>\n",
       "      <th>185</th>\n",
       "      <td>2021-04-01</td>\n",
       "      <td>510.86</td>\n",
       "      <td>2021</td>\n",
       "      <td>2</td>\n",
       "      <td>0</td>\n",
       "    </tr>\n",
       "    <tr>\n",
       "      <th>186</th>\n",
       "      <td>2021-07-01</td>\n",
       "      <td>539.53</td>\n",
       "      <td>2021</td>\n",
       "      <td>3</td>\n",
       "      <td>0</td>\n",
       "    </tr>\n",
       "  </tbody>\n",
       "</table></div>"
      ],
      "text/plain": [
       "          DATE  USSTHPI  YEAR  quarter  Quarter_Year\n",
       "0   1975-01-01    59.86  1975        1             0\n",
       "1   1975-04-01    60.85  1975        2             0\n",
       "2   1975-07-01    61.16  1975        3             0\n",
       "3   1975-10-01    62.24  1975        4             0\n",
       "4   1976-01-01    62.88  1976        1             0\n",
       "..         ...      ...   ...      ...           ...\n",
       "182 2020-07-01   463.49  2020        3             0\n",
       "183 2020-10-01   473.58  2020        4             0\n",
       "184 2021-01-01   484.41  2021        1             0\n",
       "185 2021-04-01   510.86  2021        2             0\n",
       "186 2021-07-01   539.53  2021        3             0\n",
       "\n",
       "[187 rows x 5 columns]"
      ]
     },
     "execution_count": 21,
     "metadata": {},
     "output_type": "execute_result"
    }
   ],
   "source": [
    "# Make new column \"Quarter\" in USSTHPI dataframe\n",
    "USSTHPI_csv['quarter'] = USSTHPI_csv['DATE'].dt.quarter\n",
    "USSTHPI_csv"
   ]
  },
  {
   "cell_type": "code",
   "execution_count": 22,
   "id": "bc8bc709-2f17-4504-b6da-e75e4fcb7b43",
   "metadata": {},
   "outputs": [
    {
     "data": {
      "text/html": [
       "<div><div id=ab4915b9-138e-4ff9-b2ba-21455e53adab style=\"display:none; background-color:#9D6CFF; color:white; width:200px; height:30px; padding-left:5px; border-radius:4px; flex-direction:row; justify-content:space-around; align-items:center;\" onmouseover=\"this.style.backgroundColor='#BA9BF8'\" onmouseout=\"this.style.backgroundColor='#9D6CFF'\" onclick=\"window.commands?.execute('create-mitosheet-from-dataframe-output');\">See Full Dataframe in Mito</div> <script> if (window.commands.hasCommand('create-mitosheet-from-dataframe-output')) document.getElementById('ab4915b9-138e-4ff9-b2ba-21455e53adab').style.display = 'flex' </script> <table border=\"1\" class=\"dataframe\">\n",
       "  <thead>\n",
       "    <tr style=\"text-align: right;\">\n",
       "      <th></th>\n",
       "      <th>DATE</th>\n",
       "      <th>USSTHPI</th>\n",
       "      <th>YEAR</th>\n",
       "      <th>quarter</th>\n",
       "      <th>Quarter_Year</th>\n",
       "    </tr>\n",
       "  </thead>\n",
       "  <tbody>\n",
       "    <tr>\n",
       "      <th>0</th>\n",
       "      <td>1975-01-01</td>\n",
       "      <td>59.86</td>\n",
       "      <td>1975</td>\n",
       "      <td>1</td>\n",
       "      <td>1Q1975</td>\n",
       "    </tr>\n",
       "    <tr>\n",
       "      <th>1</th>\n",
       "      <td>1975-04-01</td>\n",
       "      <td>60.85</td>\n",
       "      <td>1975</td>\n",
       "      <td>2</td>\n",
       "      <td>2Q1975</td>\n",
       "    </tr>\n",
       "    <tr>\n",
       "      <th>2</th>\n",
       "      <td>1975-07-01</td>\n",
       "      <td>61.16</td>\n",
       "      <td>1975</td>\n",
       "      <td>3</td>\n",
       "      <td>3Q1975</td>\n",
       "    </tr>\n",
       "    <tr>\n",
       "      <th>3</th>\n",
       "      <td>1975-10-01</td>\n",
       "      <td>62.24</td>\n",
       "      <td>1975</td>\n",
       "      <td>4</td>\n",
       "      <td>4Q1975</td>\n",
       "    </tr>\n",
       "    <tr>\n",
       "      <th>4</th>\n",
       "      <td>1976-01-01</td>\n",
       "      <td>62.88</td>\n",
       "      <td>1976</td>\n",
       "      <td>1</td>\n",
       "      <td>1Q1976</td>\n",
       "    </tr>\n",
       "    <tr>\n",
       "      <th>...</th>\n",
       "      <td>...</td>\n",
       "      <td>...</td>\n",
       "      <td>...</td>\n",
       "      <td>...</td>\n",
       "      <td>...</td>\n",
       "    </tr>\n",
       "    <tr>\n",
       "      <th>182</th>\n",
       "      <td>2020-07-01</td>\n",
       "      <td>463.49</td>\n",
       "      <td>2020</td>\n",
       "      <td>3</td>\n",
       "      <td>3Q2020</td>\n",
       "    </tr>\n",
       "    <tr>\n",
       "      <th>183</th>\n",
       "      <td>2020-10-01</td>\n",
       "      <td>473.58</td>\n",
       "      <td>2020</td>\n",
       "      <td>4</td>\n",
       "      <td>4Q2020</td>\n",
       "    </tr>\n",
       "    <tr>\n",
       "      <th>184</th>\n",
       "      <td>2021-01-01</td>\n",
       "      <td>484.41</td>\n",
       "      <td>2021</td>\n",
       "      <td>1</td>\n",
       "      <td>1Q2021</td>\n",
       "    </tr>\n",
       "    <tr>\n",
       "      <th>185</th>\n",
       "      <td>2021-04-01</td>\n",
       "      <td>510.86</td>\n",
       "      <td>2021</td>\n",
       "      <td>2</td>\n",
       "      <td>2Q2021</td>\n",
       "    </tr>\n",
       "    <tr>\n",
       "      <th>186</th>\n",
       "      <td>2021-07-01</td>\n",
       "      <td>539.53</td>\n",
       "      <td>2021</td>\n",
       "      <td>3</td>\n",
       "      <td>3Q2021</td>\n",
       "    </tr>\n",
       "  </tbody>\n",
       "</table></div>"
      ],
      "text/plain": [
       "          DATE  USSTHPI  YEAR  quarter Quarter_Year\n",
       "0   1975-01-01    59.86  1975        1       1Q1975\n",
       "1   1975-04-01    60.85  1975        2       2Q1975\n",
       "2   1975-07-01    61.16  1975        3       3Q1975\n",
       "3   1975-10-01    62.24  1975        4       4Q1975\n",
       "4   1976-01-01    62.88  1976        1       1Q1976\n",
       "..         ...      ...   ...      ...          ...\n",
       "182 2020-07-01   463.49  2020        3       3Q2020\n",
       "183 2020-10-01   473.58  2020        4       4Q2020\n",
       "184 2021-01-01   484.41  2021        1       1Q2021\n",
       "185 2021-04-01   510.86  2021        2       2Q2021\n",
       "186 2021-07-01   539.53  2021        3       3Q2021\n",
       "\n",
       "[187 rows x 5 columns]"
      ]
     },
     "execution_count": 22,
     "metadata": {},
     "output_type": "execute_result"
    }
   ],
   "source": [
    "# Set the quarter_year column as format #Q_Year\n",
    "USSTHPI_csv['Quarter_Year'] = USSTHPI_csv['quarter'].astype(str) + 'Q' + USSTHPI_csv['YEAR'].astype(str)\n",
    "USSTHPI_csv"
   ]
  },
  {
   "cell_type": "markdown",
   "id": "9a2aa180",
   "metadata": {},
   "source": [
    "## Table 3: Merge Table of Housing Price and Mortgage Rate Table"
   ]
  },
  {
   "cell_type": "code",
   "execution_count": 23,
   "id": "6b177d73-2abe-4c4d-803e-d81815616a92",
   "metadata": {},
   "outputs": [],
   "source": [
    "from mitosheet import *; register_analysis('UUID-5ea90577-0aad-48dc-abe4-ef00971f2ae1')\n",
    "\n",
    "# Merged USSTHPI_csv and Q_MORTGAGE30US\n",
    "USSTHPI_csv_tmp = USSTHPI_csv.drop(['quarter', 'YEAR', 'DATE'], axis=1)\n",
    "df3 = USSTHPI_csv_tmp.merge(Q_MORTGAGE30US, left_on=['Quarter_Year'], right_on=['Quarter_Year'], how='inner', suffixes=['_USSTHPI_csv', '_Q_MORTGAGE30US'])\n",
    "\n",
    "# Reordered Quarter_Year in df3\n",
    "df3_columns = [col for col in df3.columns if col != 'Quarter_Year']\n",
    "df3_columns.insert(0, 'Quarter_Year')\n",
    "df3 = df3[df3_columns]\n",
    "\n",
    "# Renamed df3 to HPI_mortgage\n",
    "HPI_mortgage = df3\n"
   ]
  },
  {
   "cell_type": "code",
   "execution_count": 24,
   "id": "9d434bd5-17f4-430c-97f2-b2b4a53e0051",
   "metadata": {},
   "outputs": [
    {
     "data": {
      "text/html": [
       "<div><div id=c2af1203-c186-4644-af1e-b3d61dd41610 style=\"display:none; background-color:#9D6CFF; color:white; width:200px; height:30px; padding-left:5px; border-radius:4px; flex-direction:row; justify-content:space-around; align-items:center;\" onmouseover=\"this.style.backgroundColor='#BA9BF8'\" onmouseout=\"this.style.backgroundColor='#9D6CFF'\" onclick=\"window.commands?.execute('create-mitosheet-from-dataframe-output');\">See Full Dataframe in Mito</div> <script> if (window.commands.hasCommand('create-mitosheet-from-dataframe-output')) document.getElementById('c2af1203-c186-4644-af1e-b3d61dd41610').style.display = 'flex' </script> <table border=\"1\" class=\"dataframe\">\n",
       "  <thead>\n",
       "    <tr style=\"text-align: right;\">\n",
       "      <th></th>\n",
       "      <th>Quarter_Year</th>\n",
       "      <th>USSTHPI</th>\n",
       "      <th>Avg_Q_Mortgage</th>\n",
       "    </tr>\n",
       "  </thead>\n",
       "  <tbody>\n",
       "    <tr>\n",
       "      <th>0</th>\n",
       "      <td>1Q1975</td>\n",
       "      <td>59.86</td>\n",
       "      <td>9.168462</td>\n",
       "    </tr>\n",
       "    <tr>\n",
       "      <th>1</th>\n",
       "      <td>2Q1975</td>\n",
       "      <td>60.85</td>\n",
       "      <td>8.875385</td>\n",
       "    </tr>\n",
       "    <tr>\n",
       "      <th>2</th>\n",
       "      <td>3Q1975</td>\n",
       "      <td>61.16</td>\n",
       "      <td>8.983846</td>\n",
       "    </tr>\n",
       "    <tr>\n",
       "      <th>3</th>\n",
       "      <td>4Q1975</td>\n",
       "      <td>62.24</td>\n",
       "      <td>9.160769</td>\n",
       "    </tr>\n",
       "    <tr>\n",
       "      <th>4</th>\n",
       "      <td>1Q1976</td>\n",
       "      <td>62.88</td>\n",
       "      <td>8.873077</td>\n",
       "    </tr>\n",
       "  </tbody>\n",
       "</table></div>"
      ],
      "text/plain": [
       "  Quarter_Year  USSTHPI  Avg_Q_Mortgage\n",
       "0       1Q1975    59.86        9.168462\n",
       "1       2Q1975    60.85        8.875385\n",
       "2       3Q1975    61.16        8.983846\n",
       "3       4Q1975    62.24        9.160769\n",
       "4       1Q1976    62.88        8.873077"
      ]
     },
     "execution_count": 24,
     "metadata": {},
     "output_type": "execute_result"
    }
   ],
   "source": [
    "HPI_mortgage.head()\n"
   ]
  },
  {
   "cell_type": "code",
   "execution_count": 25,
   "id": "514cb721-9182-4149-9cdb-42cbd33088a7",
   "metadata": {},
   "outputs": [
    {
     "data": {
      "application/vnd.jupyter.widget-view+json": {
       "model_id": "a93f4b9e2dbc4f6d881ece2e1a72d77c",
       "version_major": 2,
       "version_minor": 0
      },
      "text/plain": [
       "MitoWidget(analysis_data_json='{\"analysisName\": \"UUID-0bc38b32-4362-4b64-83d8-2853d12f8afc\", \"code\": {\"imports…"
      ]
     },
     "metadata": {},
     "output_type": "display_data"
    }
   ],
   "source": [
    "import mitosheet\n",
    "mitosheet.sheet(HPI_mortgage, view_df=True)"
   ]
  },
  {
   "cell_type": "code",
   "execution_count": 26,
   "id": "d1afa7f5-c6d2-444c-8401-58ccc29218b4",
   "metadata": {},
   "outputs": [
    {
     "data": {
      "text/html": [
       "<div><div id=ad221a3e-a055-4cb7-8dd8-e5bf7ca412b6 style=\"display:none; background-color:#9D6CFF; color:white; width:200px; height:30px; padding-left:5px; border-radius:4px; flex-direction:row; justify-content:space-around; align-items:center;\" onmouseover=\"this.style.backgroundColor='#BA9BF8'\" onmouseout=\"this.style.backgroundColor='#9D6CFF'\" onclick=\"window.commands?.execute('create-mitosheet-from-dataframe-output');\">See Full Dataframe in Mito</div> <script> if (window.commands.hasCommand('create-mitosheet-from-dataframe-output')) document.getElementById('ad221a3e-a055-4cb7-8dd8-e5bf7ca412b6').style.display = 'flex' </script> <table border=\"1\" class=\"dataframe\">\n",
       "  <thead>\n",
       "    <tr style=\"text-align: right;\">\n",
       "      <th></th>\n",
       "      <th>USSTHPI</th>\n",
       "      <th>Avg_Q_Mortgage</th>\n",
       "    </tr>\n",
       "  </thead>\n",
       "  <tbody>\n",
       "    <tr>\n",
       "      <th>count</th>\n",
       "      <td>187.000000</td>\n",
       "      <td>187.000000</td>\n",
       "    </tr>\n",
       "    <tr>\n",
       "      <th>mean</th>\n",
       "      <td>238.514171</td>\n",
       "      <td>7.806211</td>\n",
       "    </tr>\n",
       "    <tr>\n",
       "      <th>std</th>\n",
       "      <td>117.692044</td>\n",
       "      <td>3.398563</td>\n",
       "    </tr>\n",
       "    <tr>\n",
       "      <th>min</th>\n",
       "      <td>59.860000</td>\n",
       "      <td>2.760714</td>\n",
       "    </tr>\n",
       "    <tr>\n",
       "      <th>25%</th>\n",
       "      <td>138.635000</td>\n",
       "      <td>4.959071</td>\n",
       "    </tr>\n",
       "    <tr>\n",
       "      <th>50%</th>\n",
       "      <td>209.850000</td>\n",
       "      <td>7.295833</td>\n",
       "    </tr>\n",
       "    <tr>\n",
       "      <th>75%</th>\n",
       "      <td>336.110000</td>\n",
       "      <td>9.786923</td>\n",
       "    </tr>\n",
       "    <tr>\n",
       "      <th>max</th>\n",
       "      <td>539.530000</td>\n",
       "      <td>17.735714</td>\n",
       "    </tr>\n",
       "  </tbody>\n",
       "</table></div>"
      ],
      "text/plain": [
       "          USSTHPI  Avg_Q_Mortgage\n",
       "count  187.000000      187.000000\n",
       "mean   238.514171        7.806211\n",
       "std    117.692044        3.398563\n",
       "min     59.860000        2.760714\n",
       "25%    138.635000        4.959071\n",
       "50%    209.850000        7.295833\n",
       "75%    336.110000        9.786923\n",
       "max    539.530000       17.735714"
      ]
     },
     "execution_count": 26,
     "metadata": {},
     "output_type": "execute_result"
    }
   ],
   "source": [
    "# Descriptive statistics\n",
    "HPI_mortgage.describe()"
   ]
  },
  {
   "cell_type": "markdown",
   "id": "c0a9fb1a-cf88-4c36-8812-e0cedfa410ed",
   "metadata": {},
   "source": [
    "## Create linear regression model"
   ]
  },
  {
   "cell_type": "code",
   "execution_count": 27,
   "id": "59960f82-21da-47da-84bc-5cfcadf25a72",
   "metadata": {},
   "outputs": [],
   "source": [
    "# Set X to HPI Data, set Y to MORTGAGE data \n",
    "X = HPI_mortgage['Avg_Q_Mortgage'].values.reshape(-1, 1)\n",
    "y = HPI_mortgage['USSTHPI']\n"
   ]
  },
  {
   "cell_type": "code",
   "execution_count": 28,
   "id": "3f434c16-d4aa-46b4-a39c-fd0a32eb0f62",
   "metadata": {},
   "outputs": [
    {
     "data": {
      "text/plain": [
       "(187, 1)"
      ]
     },
     "execution_count": 28,
     "metadata": {},
     "output_type": "execute_result"
    }
   ],
   "source": [
    "X.shape"
   ]
  },
  {
   "cell_type": "code",
   "execution_count": 29,
   "id": "d9799873",
   "metadata": {},
   "outputs": [],
   "source": [
    "# Use sklearn to split dataset\n",
    "from sklearn.model_selection import train_test_split\n",
    "X_train, X_test, y_train, y_test = train_test_split(X, y, random_state=78)"
   ]
  },
  {
   "cell_type": "code",
   "execution_count": 30,
   "id": "c11555a7-382d-4c73-ba07-9c6db3ad45f6",
   "metadata": {},
   "outputs": [
    {
     "name": "stdout",
     "output_type": "stream",
     "text": [
      "(47,)\n"
     ]
    }
   ],
   "source": [
    "# use linear regression model to train x and y variables\n",
    "model = LinearRegression()\n",
    "model.fit(X_train, y_train)\n",
    "# define y_pred and use model.predict to evaluate the model's prediction \n",
    "y_pred = model.predict(X_test)\n",
    "print(y_pred.shape)"
   ]
  },
  {
   "cell_type": "code",
   "execution_count": 33,
   "id": "054e7aad-c145-4389-9609-7bd3b52cc279",
   "metadata": {},
   "outputs": [
    {
     "data": {
      "image/png": "[encoded data removed]",
      "text/plain": [
       "<Figure size 720x504 with 1 Axes>"
      ]
     },
     "metadata": {
      "needs_background": "light"
     },
     "output_type": "display_data"
    }
   ],
   "source": [
    "# plot the linear regression model \n",
    "linear_regression = plt.scatter(X, y)\n",
    "plt.plot(X_test, y_pred, color='red')\n",
    "\n",
    "# Import the style from Matplotlib.\n",
    "from matplotlib import style\n",
    "\n",
    "plt.xlabel('Average 30-Year Fixed Mortgage Rate (Quarterly)')\n",
    "plt.ylabel('US Housing Price Index')\n",
    "plt.title('Regression of House Price on Mortgage Rate')\n",
    "plt.gcf().set_size_inches(10, 7)\n",
    "plt.savefig('Images/linear_regression_HPI_vs_MORTGAGE.png')\n",
    "plt.show()"
   ]
  },
  {
   "cell_type": "markdown",
   "id": "42eea092-7385-4864-bc3a-a3f52ec14d10",
   "metadata": {},
   "source": [
    "## Evaluate model quality"
   ]
  },
  {
   "cell_type": "code",
   "execution_count": 34,
   "id": "b84f3b8a-9a5c-4651-a322-0d1318e63a25",
   "metadata": {},
   "outputs": [
    {
     "name": "stdout",
     "output_type": "stream",
     "text": [
      "Coefficients: [-28.71172872]\n",
      "Intercept: 460.6436084301423\n",
      "R2: 0.6821607639113243\n",
      "mean squared error: 4338.59822802828\n"
     ]
    }
   ],
   "source": [
    "# print prediction results \n",
    "print('Coefficients:', model.coef_)\n",
    "print('Intercept:', model.intercept_)\n",
    "print('R2:', r2_score(y_test, y_pred))\n",
    "print('mean squared error:', mean_squared_error(y_test, y_pred))"
   ]
  }
 ],
 "metadata": {
  "kernelspec": {
   "display_name": "mlenv",
   "language": "python",
   "name": "mlenv"
  },
  "language_info": {
   "codemirror_mode": {
    "name": "ipython",
    "version": 3
   },
   "file_extension": ".py",
   "mimetype": "text/x-python",
   "name": "python",
   "nbconvert_exporter": "python",
   "pygments_lexer": "ipython3",
   "version": "3.7.11"
  }
 },
 "nbformat": 4,
 "nbformat_minor": 5
}
