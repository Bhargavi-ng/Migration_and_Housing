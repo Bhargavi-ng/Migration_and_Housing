{
 "cells": [
  {
   "cell_type": "code",
   "execution_count": 17,
   "id": "a69301f2-57fb-4392-8dd9-fe8c9cada493",
   "metadata": {},
   "outputs": [],
   "source": [
    "# Import dependencies \n",
    "import pandas as pd\n",
    "from pathlib import Path\n",
    "import mitosheet\n"
   ]
  },
  {
   "cell_type": "code",
   "execution_count": 18,
   "id": "f46f6cb0-aa8d-4f0a-b88a-9a1d5fa4e856",
   "metadata": {},
   "outputs": [],
   "source": [
    "# Read JSON file and convert into a dataframe object\n",
    "df_migration_flows = pd.read_json('Resources/acs_migration_flows_2015-2019.json')"
   ]
  },
  {
   "cell_type": "code",
   "execution_count": 19,
   "id": "819c1779-2419-479c-9ab8-1161ce83ba8e",
   "metadata": {},
   "outputs": [
    {
     "data": {
      "text/html": [
       "<div><div id=d3072c10-078d-499d-bbf0-dd3b80467dac style=\"display:none; background-color:#9D6CFF; color:white; width:200px; height:30px; padding-left:5px; border-radius:4px; flex-direction:row; justify-content:space-around; align-items:center;\" onmouseover=\"this.style.backgroundColor='#BA9BF8'\" onmouseout=\"this.style.backgroundColor='#9D6CFF'\" onclick=\"window.commands?.execute('create-mitosheet-from-dataframe-output');\">See Full Dataframe in Mito</div> <script> if (window.commands.hasCommand('create-mitosheet-from-dataframe-output')) document.getElementById('d3072c10-078d-499d-bbf0-dd3b80467dac').style.display = 'flex' </script> <table border=\"1\" class=\"dataframe\">\n",
       "  <thead>\n",
       "    <tr style=\"text-align: right;\">\n",
       "      <th></th>\n",
       "      <th>0</th>\n",
       "      <th>1</th>\n",
       "      <th>2</th>\n",
       "      <th>3</th>\n",
       "      <th>4</th>\n",
       "      <th>5</th>\n",
       "      <th>6</th>\n",
       "      <th>7</th>\n",
       "      <th>8</th>\n",
       "    </tr>\n",
       "  </thead>\n",
       "  <tbody>\n",
       "    <tr>\n",
       "      <th>0</th>\n",
       "      <td>MOVEDIN</td>\n",
       "      <td>GEOID1</td>\n",
       "      <td>GEOID2</td>\n",
       "      <td>MOVEDOUT</td>\n",
       "      <td>FULL1_NAME</td>\n",
       "      <td>FULL2_NAME</td>\n",
       "      <td>MOVEDNET</td>\n",
       "      <td>state</td>\n",
       "      <td>county</td>\n",
       "    </tr>\n",
       "    <tr>\n",
       "      <th>1</th>\n",
       "      <td>66</td>\n",
       "      <td>01001</td>\n",
       "      <td>None</td>\n",
       "      <td>None</td>\n",
       "      <td>Autauga County, Alabama</td>\n",
       "      <td>Asia</td>\n",
       "      <td>None</td>\n",
       "      <td>01</td>\n",
       "      <td>001</td>\n",
       "    </tr>\n",
       "    <tr>\n",
       "      <th>2</th>\n",
       "      <td>10</td>\n",
       "      <td>01001</td>\n",
       "      <td>None</td>\n",
       "      <td>None</td>\n",
       "      <td>Autauga County, Alabama</td>\n",
       "      <td>Europe</td>\n",
       "      <td>None</td>\n",
       "      <td>01</td>\n",
       "      <td>001</td>\n",
       "    </tr>\n",
       "    <tr>\n",
       "      <th>3</th>\n",
       "      <td>18</td>\n",
       "      <td>01001</td>\n",
       "      <td>None</td>\n",
       "      <td>None</td>\n",
       "      <td>Autauga County, Alabama</td>\n",
       "      <td>U.S. Island Areas</td>\n",
       "      <td>None</td>\n",
       "      <td>01</td>\n",
       "      <td>001</td>\n",
       "    </tr>\n",
       "    <tr>\n",
       "      <th>4</th>\n",
       "      <td>25</td>\n",
       "      <td>01001</td>\n",
       "      <td>01003</td>\n",
       "      <td>448</td>\n",
       "      <td>Autauga County, Alabama</td>\n",
       "      <td>Baldwin County, Alabama</td>\n",
       "      <td>-423</td>\n",
       "      <td>01</td>\n",
       "      <td>001</td>\n",
       "    </tr>\n",
       "  </tbody>\n",
       "</table></div>"
      ],
      "text/plain": [
       "         0       1       2         3                        4  \\\n",
       "0  MOVEDIN  GEOID1  GEOID2  MOVEDOUT               FULL1_NAME   \n",
       "1       66   01001    None      None  Autauga County, Alabama   \n",
       "2       10   01001    None      None  Autauga County, Alabama   \n",
       "3       18   01001    None      None  Autauga County, Alabama   \n",
       "4       25   01001   01003       448  Autauga County, Alabama   \n",
       "\n",
       "                         5         6      7       8  \n",
       "0               FULL2_NAME  MOVEDNET  state  county  \n",
       "1                     Asia      None     01     001  \n",
       "2                   Europe      None     01     001  \n",
       "3        U.S. Island Areas      None     01     001  \n",
       "4  Baldwin County, Alabama      -423     01     001  "
      ]
     },
     "execution_count": 19,
     "metadata": {},
     "output_type": "execute_result"
    }
   ],
   "source": [
    "df_migration_flows.head()"
   ]
  },
  {
   "cell_type": "code",
   "execution_count": 20,
   "id": "07be9358-fd5c-43a7-bd69-9c0a04d14433",
   "metadata": {},
   "outputs": [],
   "source": [
    "from mitosheet import *; register_analysis('UUID-edb2706a-690c-4437-aa67-fd55f16eabda')\n",
    "\n",
    "# Renamed 1 to GEOID1 in df_migration_flows\n",
    "df_migration_flows.rename(columns={1: 'GEOID1'}, inplace=True)\n",
    "\n",
    "# Renamed 0 to MOVEDIN in df_migration_flows\n",
    "df_migration_flows.rename(columns={0: 'MOVEDIN'}, inplace=True)\n",
    "\n",
    "# Renamed 2 to GEOID2 in df_migration_flows\n",
    "df_migration_flows.rename(columns={2: 'GEOID2'}, inplace=True)\n",
    "\n",
    "# Renamed 3 to MOVEDOUT in df_migration_flows\n",
    "df_migration_flows.rename(columns={3: 'MOVEDOUT'}, inplace=True)\n",
    "\n",
    "# Renamed 4 to FULL1_NAME in df_migration_flows\n",
    "df_migration_flows.rename(columns={4: 'FULL1_NAME'}, inplace=True)\n",
    "\n",
    "# Renamed 5 to FULL2_NAME in df_migration_flows\n",
    "df_migration_flows.rename(columns={5: 'FULL2_NAME'}, inplace=True)\n",
    "\n",
    "# Renamed 6 to MOVEDNET in df_migration_flows\n",
    "df_migration_flows.rename(columns={6: 'MOVEDNET'}, inplace=True)\n",
    "\n",
    "# Renamed 4 to REGION in df_migration_flows\n",
    "df_migration_flows.rename(columns={'FULL1_NAME': 'REGION'}, inplace=True)\n",
    "\n",
    "# Renamed 4 to REGION_1 in df_migration_flows\n",
    "df_migration_flows.rename(columns={'REGION': 'REGION_1'}, inplace=True)\n",
    "\n",
    "# Renamed 5 to REGION_2 in df_migration_flows\n",
    "df_migration_flows.rename(columns={'FULL2_NAME': 'REGION_2'}, inplace=True)\n",
    "\n",
    "# Renamed 7 to STATE in df_migration_flows\n",
    "df_migration_flows.rename(columns={7: 'STATE'}, inplace=True)\n",
    "\n",
    "# Renamed 8 to COUNTY in df_migration_flows\n",
    "df_migration_flows.rename(columns={8: 'COUNTY'}, inplace=True)\n",
    "\n",
    "# Deleted column 7 from df_migration_flows\n",
    "df_migration_flows.drop(['STATE'], axis=1, inplace=True)\n",
    "\n",
    "# Deleted column 8 from df_migration_flows\n",
    "df_migration_flows.drop(['COUNTY'], axis=1, inplace=True)\n"
   ]
  },
  {
   "cell_type": "code",
   "execution_count": 21,
   "id": "44fc7542-7308-4084-ae3b-3dcd60ce0324",
   "metadata": {},
   "outputs": [
    {
     "data": {
      "application/vnd.jupyter.widget-view+json": {
       "model_id": "2b6d2cd0f30d4a75b233262073d73ff7",
       "version_major": 2,
       "version_minor": 0
      },
      "text/plain": [
       "MitoWidget(analysis_data_json='{\"analysisName\": \"UUID-75807384-d4a9-4400-a4e9-d7660a75ff8b\", \"code\": {\"imports…"
      ]
     },
     "metadata": {},
     "output_type": "display_data"
    }
   ],
   "source": [
    "# Drop first row\n",
    "mitosheet.sheet(df_migration_flows.drop([0]), view_df=True)"
   ]
  },
  {
   "cell_type": "code",
   "execution_count": 26,
   "id": "f27aef90-9a20-412a-96e9-7ed52fd7aaa2",
   "metadata": {},
   "outputs": [],
   "source": [
    "# Export as a CSV file\n",
    "df_migration_flows.to_csv(\"Resources\\cleaned_migration_flows_2015-2019.csv\", header=True, index=False)"
   ]
  },
  {
   "cell_type": "code",
   "execution_count": null,
   "id": "6ef993f5-768e-4e2f-b540-7940fb1c6e03",
   "metadata": {},
   "outputs": [],
   "source": []
  }
 ],
 "metadata": {
  "kernelspec": {
   "display_name": "mlenv",
   "language": "python",
   "name": "mlenv"
  },
  "language_info": {
   "codemirror_mode": {
    "name": "ipython",
    "version": 3
   },
   "file_extension": ".py",
   "mimetype": "text/x-python",
   "name": "python",
   "nbconvert_exporter": "python",
   "pygments_lexer": "ipython3",
   "version": "3.7.11"
  }
 },
 "nbformat": 4,
 "nbformat_minor": 5
}
