{
 "cells": [
  {
   "cell_type": "markdown",
   "id": "ed8edfc2-3cf7-46fe-b1ea-f532b515d284",
   "metadata": {},
   "source": [
    "# Linear Regression on house price and migration"
   ]
  },
  {
   "cell_type": "markdown",
   "id": "999a1af0-0ac7-42c0-a21c-67ac7ed24c5a",
   "metadata": {},
   "source": [
    "## Import dependencies"
   ]
  },
  {
   "cell_type": "code",
   "execution_count": 72,
   "id": "132f875c-af4c-43ec-8669-7400cffda307",
   "metadata": {},
   "outputs": [],
   "source": [
    "import warnings\n",
    "warnings.filterwarnings('ignore')"
   ]
  },
  {
   "cell_type": "code",
   "execution_count": 73,
   "id": "026a4052-c14b-464c-9d96-89c6b3dc01c4",
   "metadata": {},
   "outputs": [],
   "source": [
    "import numpy as np\n",
    "import pandas as pd\n",
    "import matplotlib.pyplot as plt\n",
    "from pathlib import Path\n",
    "from collections import Counter\n",
    "import mitosheet\n",
    "import sqlalchemy as db\n",
    "from sqlalchemy import create_engine \n",
    "from config import host_name,db_password,user_name,db_name"
   ]
  },
  {
   "cell_type": "code",
   "execution_count": 74,
   "id": "869bc10a-bcc1-4942-b7f3-8c7431d9b7f8",
   "metadata": {},
   "outputs": [],
   "source": [
    "from sklearn.linear_model import LinearRegression\n",
    "from sklearn.metrics import mean_squared_error, r2_score"
   ]
  },
  {
   "cell_type": "code",
   "execution_count": 75,
   "id": "cf9bd171-d4b2-4684-93a2-7842b9d6021b",
   "metadata": {},
   "outputs": [
    {
     "data": {
      "text/html": [
       "<div><div id=1eedda30-6b26-4130-b7b6-372d5c0e735d style=\"display:none; background-color:#9D6CFF; color:white; width:200px; height:30px; padding-left:5px; border-radius:4px; flex-direction:row; justify-content:space-around; align-items:center;\" onmouseover=\"this.style.backgroundColor='#BA9BF8'\" onmouseout=\"this.style.backgroundColor='#9D6CFF'\" onclick=\"window.commands?.execute('create-mitosheet-from-dataframe-output');\">See Full Dataframe in Mito</div> <script> if (window.commands.hasCommand('create-mitosheet-from-dataframe-output')) document.getElementById('1eedda30-6b26-4130-b7b6-372d5c0e735d').style.display = 'flex' </script> <table border=\"1\" class=\"dataframe\">\n",
       "  <thead>\n",
       "    <tr style=\"text-align: right;\">\n",
       "      <th></th>\n",
       "      <th>State_and_County</th>\n",
       "      <th>%_Change_Due_to_Migration</th>\n",
       "      <th>percent_price_change_2015_19</th>\n",
       "    </tr>\n",
       "  </thead>\n",
       "  <tbody>\n",
       "    <tr>\n",
       "      <th>0</th>\n",
       "      <td>Abbeville County, South Carolina</td>\n",
       "      <td>0.004436</td>\n",
       "      <td>0.170454</td>\n",
       "    </tr>\n",
       "    <tr>\n",
       "      <th>1</th>\n",
       "      <td>Acadia Parish, Louisiana</td>\n",
       "      <td>-0.027138</td>\n",
       "      <td>0.100273</td>\n",
       "    </tr>\n",
       "    <tr>\n",
       "      <th>2</th>\n",
       "      <td>Accomack County, Virginia</td>\n",
       "      <td>-0.028954</td>\n",
       "      <td>0.073734</td>\n",
       "    </tr>\n",
       "    <tr>\n",
       "      <th>3</th>\n",
       "      <td>Ada County, Idaho</td>\n",
       "      <td>0.011338</td>\n",
       "      <td>0.632257</td>\n",
       "    </tr>\n",
       "    <tr>\n",
       "      <th>4</th>\n",
       "      <td>Adair County, Iowa</td>\n",
       "      <td>-0.057103</td>\n",
       "      <td>0.062842</td>\n",
       "    </tr>\n",
       "  </tbody>\n",
       "</table></div>"
      ],
      "text/plain": [
       "                   State_and_County  %_Change_Due_to_Migration  \\\n",
       "0  Abbeville County, South Carolina                   0.004436   \n",
       "1          Acadia Parish, Louisiana                  -0.027138   \n",
       "2         Accomack County, Virginia                  -0.028954   \n",
       "3                 Ada County, Idaho                   0.011338   \n",
       "4                Adair County, Iowa                  -0.057103   \n",
       "\n",
       "   percent_price_change_2015_19  \n",
       "0                      0.170454  \n",
       "1                      0.100273  \n",
       "2                      0.073734  \n",
       "3                      0.632257  \n",
       "4                      0.062842  "
      ]
     },
     "execution_count": 75,
     "metadata": {},
     "output_type": "execute_result"
    }
   ],
   "source": [
    "df_XY.head()"
   ]
  },
  {
   "cell_type": "markdown",
   "id": "0d9f82a0-65b7-4a9d-9368-ccf8a156d94f",
   "metadata": {},
   "source": [
    "## Create connection to SQL database and load table into dataframe"
   ]
  },
  {
   "cell_type": "code",
   "execution_count": 76,
   "id": "adfbf829-748f-4d66-9f13-cdaeda306394",
   "metadata": {},
   "outputs": [],
   "source": [
    "connection_string =f\"postgresql://{user_name}:{db_password}@{host_name}:5432/{db_name}\"\n",
    "engine = create_engine(connection_string) \n",
    "connection = engine.connect()\n",
    "metadata = db.MetaData()"
   ]
  },
  {
   "cell_type": "code",
   "execution_count": 77,
   "id": "e2bde006-79cd-4cdc-9f70-2cd03d638df3",
   "metadata": {},
   "outputs": [],
   "source": [
    "# Set up to read from Migration_house_price\n",
    "Migration_house_price = db.Table('house_price_migration_in_out', metadata, autoload=True, autoload_with=engine)"
   ]
  },
  {
   "cell_type": "code",
   "execution_count": 78,
   "id": "055afc9a-b3bb-415b-9ff1-c2c0dcc9fe08",
   "metadata": {},
   "outputs": [],
   "source": [
    "# Setup query to pull data from Postgres db table Migration_house_price\n",
    "query = db.select([Migration_house_price]) \n",
    "ResultProxy = connection.execute(query)\n",
    "ResultSet = ResultProxy.fetchall()"
   ]
  },
  {
   "cell_type": "code",
   "execution_count": 79,
   "id": "1078666b-7b6a-4bda-b791-2d34d802eb36",
   "metadata": {},
   "outputs": [],
   "source": [
    "# Convert to dataframe\n",
    "Migration_House_Price_df = pd.DataFrame(ResultSet)\n",
    "Migration_House_Price_df.columns = ResultSet[0].keys()"
   ]
  },
  {
   "cell_type": "code",
   "execution_count": 80,
   "id": "54638c88-6af2-484e-885a-50da3652573c",
   "metadata": {},
   "outputs": [
    {
     "data": {
      "text/html": [
       "<div><div id=ef690d5b-8336-4120-b5a8-55c8522e0ff7 style=\"display:none; background-color:#9D6CFF; color:white; width:200px; height:30px; padding-left:5px; border-radius:4px; flex-direction:row; justify-content:space-around; align-items:center;\" onmouseover=\"this.style.backgroundColor='#BA9BF8'\" onmouseout=\"this.style.backgroundColor='#9D6CFF'\" onclick=\"window.commands?.execute('create-mitosheet-from-dataframe-output');\">See Full Dataframe in Mito</div> <script> if (window.commands.hasCommand('create-mitosheet-from-dataframe-output')) document.getElementById('ef690d5b-8336-4120-b5a8-55c8522e0ff7').style.display = 'flex' </script> <table border=\"1\" class=\"dataframe\">\n",
       "  <thead>\n",
       "    <tr style=\"text-align: right;\">\n",
       "      <th></th>\n",
       "      <th>state_name_of_geography_a</th>\n",
       "      <th>county_name_of_geography_a</th>\n",
       "      <th>state_and_county_of_geography_a</th>\n",
       "      <th>region_code_geography_a</th>\n",
       "      <th>state_us_island_area_foreign_region_of_geography_b</th>\n",
       "      <th>county_name_of_geography_b</th>\n",
       "      <th>state_and_county_of_geography_b</th>\n",
       "      <th>flow_from_geography_b_to_geography_a</th>\n",
       "      <th>counterflow_from_geography_a_to_geography_b</th>\n",
       "      <th>net_migration_from_geography_b_to_geography_a1</th>\n",
       "      <th>...</th>\n",
       "      <th>2012</th>\n",
       "      <th>2013</th>\n",
       "      <th>2014</th>\n",
       "      <th>2015</th>\n",
       "      <th>2016</th>\n",
       "      <th>2017</th>\n",
       "      <th>2018</th>\n",
       "      <th>2019</th>\n",
       "      <th>2020</th>\n",
       "      <th>percent_price_change_2015_19</th>\n",
       "    </tr>\n",
       "  </thead>\n",
       "  <tbody>\n",
       "    <tr>\n",
       "      <th>0</th>\n",
       "      <td>Alabama</td>\n",
       "      <td>Autauga County</td>\n",
       "      <td>Autauga County, Alabama</td>\n",
       "      <td>1001</td>\n",
       "      <td>Alabama</td>\n",
       "      <td>Baldwin County</td>\n",
       "      <td>Baldwin County, Alabama</td>\n",
       "      <td>25</td>\n",
       "      <td>448.0</td>\n",
       "      <td>-423.0</td>\n",
       "      <td>...</td>\n",
       "      <td>120.7</td>\n",
       "      <td>121.5</td>\n",
       "      <td>121.33</td>\n",
       "      <td>122.87</td>\n",
       "      <td>125.49</td>\n",
       "      <td>129.26</td>\n",
       "      <td>130.31</td>\n",
       "      <td>135.3</td>\n",
       "      <td>135.86</td>\n",
       "      <td>0.115141</td>\n",
       "    </tr>\n",
       "    <tr>\n",
       "      <th>1</th>\n",
       "      <td>Alabama</td>\n",
       "      <td>Autauga County</td>\n",
       "      <td>Autauga County, Alabama</td>\n",
       "      <td>1001</td>\n",
       "      <td>Alabama</td>\n",
       "      <td>Barbour County</td>\n",
       "      <td>Barbour County, Alabama</td>\n",
       "      <td>4</td>\n",
       "      <td>0.0</td>\n",
       "      <td>4.0</td>\n",
       "      <td>...</td>\n",
       "      <td>120.7</td>\n",
       "      <td>121.5</td>\n",
       "      <td>121.33</td>\n",
       "      <td>122.87</td>\n",
       "      <td>125.49</td>\n",
       "      <td>129.26</td>\n",
       "      <td>130.31</td>\n",
       "      <td>135.3</td>\n",
       "      <td>135.86</td>\n",
       "      <td>0.115141</td>\n",
       "    </tr>\n",
       "    <tr>\n",
       "      <th>2</th>\n",
       "      <td>Alabama</td>\n",
       "      <td>Autauga County</td>\n",
       "      <td>Autauga County, Alabama</td>\n",
       "      <td>1001</td>\n",
       "      <td>Alabama</td>\n",
       "      <td>Bibb County</td>\n",
       "      <td>Bibb County, Alabama</td>\n",
       "      <td>10</td>\n",
       "      <td>34.0</td>\n",
       "      <td>-24.0</td>\n",
       "      <td>...</td>\n",
       "      <td>120.7</td>\n",
       "      <td>121.5</td>\n",
       "      <td>121.33</td>\n",
       "      <td>122.87</td>\n",
       "      <td>125.49</td>\n",
       "      <td>129.26</td>\n",
       "      <td>130.31</td>\n",
       "      <td>135.3</td>\n",
       "      <td>135.86</td>\n",
       "      <td>0.115141</td>\n",
       "    </tr>\n",
       "    <tr>\n",
       "      <th>3</th>\n",
       "      <td>Alabama</td>\n",
       "      <td>Autauga County</td>\n",
       "      <td>Autauga County, Alabama</td>\n",
       "      <td>1001</td>\n",
       "      <td>Alabama</td>\n",
       "      <td>Blount County</td>\n",
       "      <td>Blount County, Alabama</td>\n",
       "      <td>3</td>\n",
       "      <td>0.0</td>\n",
       "      <td>3.0</td>\n",
       "      <td>...</td>\n",
       "      <td>120.7</td>\n",
       "      <td>121.5</td>\n",
       "      <td>121.33</td>\n",
       "      <td>122.87</td>\n",
       "      <td>125.49</td>\n",
       "      <td>129.26</td>\n",
       "      <td>130.31</td>\n",
       "      <td>135.3</td>\n",
       "      <td>135.86</td>\n",
       "      <td>0.115141</td>\n",
       "    </tr>\n",
       "    <tr>\n",
       "      <th>4</th>\n",
       "      <td>Alabama</td>\n",
       "      <td>Autauga County</td>\n",
       "      <td>Autauga County, Alabama</td>\n",
       "      <td>1001</td>\n",
       "      <td>Alabama</td>\n",
       "      <td>Calhoun County</td>\n",
       "      <td>Calhoun County, Alabama</td>\n",
       "      <td>2</td>\n",
       "      <td>42.0</td>\n",
       "      <td>-40.0</td>\n",
       "      <td>...</td>\n",
       "      <td>120.7</td>\n",
       "      <td>121.5</td>\n",
       "      <td>121.33</td>\n",
       "      <td>122.87</td>\n",
       "      <td>125.49</td>\n",
       "      <td>129.26</td>\n",
       "      <td>130.31</td>\n",
       "      <td>135.3</td>\n",
       "      <td>135.86</td>\n",
       "      <td>0.115141</td>\n",
       "    </tr>\n",
       "  </tbody>\n",
       "</table></div>"
      ],
      "text/plain": [
       "  state_name_of_geography_a county_name_of_geography_a  \\\n",
       "0                   Alabama             Autauga County   \n",
       "1                   Alabama             Autauga County   \n",
       "2                   Alabama             Autauga County   \n",
       "3                   Alabama             Autauga County   \n",
       "4                   Alabama             Autauga County   \n",
       "\n",
       "  state_and_county_of_geography_a region_code_geography_a  \\\n",
       "0         Autauga County, Alabama                    1001   \n",
       "1         Autauga County, Alabama                    1001   \n",
       "2         Autauga County, Alabama                    1001   \n",
       "3         Autauga County, Alabama                    1001   \n",
       "4         Autauga County, Alabama                    1001   \n",
       "\n",
       "  state_us_island_area_foreign_region_of_geography_b  \\\n",
       "0                                            Alabama   \n",
       "1                                            Alabama   \n",
       "2                                            Alabama   \n",
       "3                                            Alabama   \n",
       "4                                            Alabama   \n",
       "\n",
       "  county_name_of_geography_b state_and_county_of_geography_b  \\\n",
       "0             Baldwin County         Baldwin County, Alabama   \n",
       "1             Barbour County         Barbour County, Alabama   \n",
       "2                Bibb County            Bibb County, Alabama   \n",
       "3              Blount County          Blount County, Alabama   \n",
       "4             Calhoun County         Calhoun County, Alabama   \n",
       "\n",
       "   flow_from_geography_b_to_geography_a  \\\n",
       "0                                    25   \n",
       "1                                     4   \n",
       "2                                    10   \n",
       "3                                     3   \n",
       "4                                     2   \n",
       "\n",
       "   counterflow_from_geography_a_to_geography_b  \\\n",
       "0                                        448.0   \n",
       "1                                          0.0   \n",
       "2                                         34.0   \n",
       "3                                          0.0   \n",
       "4                                         42.0   \n",
       "\n",
       "   net_migration_from_geography_b_to_geography_a1  ...   2012   2013    2014  \\\n",
       "0                                          -423.0  ...  120.7  121.5  121.33   \n",
       "1                                             4.0  ...  120.7  121.5  121.33   \n",
       "2                                           -24.0  ...  120.7  121.5  121.33   \n",
       "3                                             3.0  ...  120.7  121.5  121.33   \n",
       "4                                           -40.0  ...  120.7  121.5  121.33   \n",
       "\n",
       "     2015    2016    2017    2018   2019    2020  percent_price_change_2015_19  \n",
       "0  122.87  125.49  129.26  130.31  135.3  135.86                      0.115141  \n",
       "1  122.87  125.49  129.26  130.31  135.3  135.86                      0.115141  \n",
       "2  122.87  125.49  129.26  130.31  135.3  135.86                      0.115141  \n",
       "3  122.87  125.49  129.26  130.31  135.3  135.86                      0.115141  \n",
       "4  122.87  125.49  129.26  130.31  135.3  135.86                      0.115141  \n",
       "\n",
       "[5 rows x 33 columns]"
      ]
     },
     "execution_count": 80,
     "metadata": {},
     "output_type": "execute_result"
    }
   ],
   "source": [
    "Migration_House_Price_df.head()"
   ]
  },
  {
   "cell_type": "code",
   "execution_count": 81,
   "id": "48c80e5a-9a9a-4c39-8c05-986a32ad0eb6",
   "metadata": {},
   "outputs": [],
   "source": [
    "# close connection to SQL database\n",
    "connection.close()"
   ]
  },
  {
   "cell_type": "markdown",
   "id": "7a39c9c4-d57e-4877-bee5-2a96ca5879cd",
   "metadata": {},
   "source": [
    "## Clean dataframes"
   ]
  },
  {
   "cell_type": "markdown",
   "id": "b6bbe8e4-3723-45d2-ad7a-c59d90df7094",
   "metadata": {},
   "source": [
    "### Clean up price change"
   ]
  },
  {
   "cell_type": "code",
   "execution_count": 82,
   "id": "de9d91ed-ff26-4799-9d6a-625d3e69d1e7",
   "metadata": {},
   "outputs": [
    {
     "data": {
      "text/html": [
       "<div><div id=0a9efed5-d03d-43b5-b8bc-a5cf2ee7b5a7 style=\"display:none; background-color:#9D6CFF; color:white; width:200px; height:30px; padding-left:5px; border-radius:4px; flex-direction:row; justify-content:space-around; align-items:center;\" onmouseover=\"this.style.backgroundColor='#BA9BF8'\" onmouseout=\"this.style.backgroundColor='#9D6CFF'\" onclick=\"window.commands?.execute('create-mitosheet-from-dataframe-output');\">See Full Dataframe in Mito</div> <script> if (window.commands.hasCommand('create-mitosheet-from-dataframe-output')) document.getElementById('0a9efed5-d03d-43b5-b8bc-a5cf2ee7b5a7').style.display = 'flex' </script> <table border=\"1\" class=\"dataframe\">\n",
       "  <thead>\n",
       "    <tr style=\"text-align: right;\">\n",
       "      <th></th>\n",
       "      <th>state_and_county_of_geography_a</th>\n",
       "      <th>percent_price_change_2015_19</th>\n",
       "    </tr>\n",
       "  </thead>\n",
       "  <tbody>\n",
       "    <tr>\n",
       "      <th>0</th>\n",
       "      <td>Autauga County, Alabama</td>\n",
       "      <td>0.115141</td>\n",
       "    </tr>\n",
       "    <tr>\n",
       "      <th>1</th>\n",
       "      <td>Autauga County, Alabama</td>\n",
       "      <td>0.115141</td>\n",
       "    </tr>\n",
       "    <tr>\n",
       "      <th>2</th>\n",
       "      <td>Autauga County, Alabama</td>\n",
       "      <td>0.115141</td>\n",
       "    </tr>\n",
       "    <tr>\n",
       "      <th>3</th>\n",
       "      <td>Autauga County, Alabama</td>\n",
       "      <td>0.115141</td>\n",
       "    </tr>\n",
       "    <tr>\n",
       "      <th>4</th>\n",
       "      <td>Autauga County, Alabama</td>\n",
       "      <td>0.115141</td>\n",
       "    </tr>\n",
       "  </tbody>\n",
       "</table></div>"
      ],
      "text/plain": [
       "  state_and_county_of_geography_a  percent_price_change_2015_19\n",
       "0         Autauga County, Alabama                      0.115141\n",
       "1         Autauga County, Alabama                      0.115141\n",
       "2         Autauga County, Alabama                      0.115141\n",
       "3         Autauga County, Alabama                      0.115141\n",
       "4         Autauga County, Alabama                      0.115141"
      ]
     },
     "execution_count": 82,
     "metadata": {},
     "output_type": "execute_result"
    }
   ],
   "source": [
    "# Select columns for State and County A and housing price change percentage\n",
    "\n",
    "price_change_df = Migration_House_Price_df[['state_and_county_of_geography_a','percent_price_change_2015_19']]\n",
    "price_change_df.head()"
   ]
  },
  {
   "cell_type": "code",
   "execution_count": 83,
   "id": "ce918d85-ff90-43f3-86a3-e0a774f379f9",
   "metadata": {},
   "outputs": [
    {
     "data": {
      "text/html": [
       "<div><div id=c77bc181-76db-482a-9d02-54f8a4387849 style=\"display:none; background-color:#9D6CFF; color:white; width:200px; height:30px; padding-left:5px; border-radius:4px; flex-direction:row; justify-content:space-around; align-items:center;\" onmouseover=\"this.style.backgroundColor='#BA9BF8'\" onmouseout=\"this.style.backgroundColor='#9D6CFF'\" onclick=\"window.commands?.execute('create-mitosheet-from-dataframe-output');\">See Full Dataframe in Mito</div> <script> if (window.commands.hasCommand('create-mitosheet-from-dataframe-output')) document.getElementById('c77bc181-76db-482a-9d02-54f8a4387849').style.display = 'flex' </script> <table border=\"1\" class=\"dataframe\">\n",
       "  <thead>\n",
       "    <tr style=\"text-align: right;\">\n",
       "      <th></th>\n",
       "      <th>state_and_county_of_geography_a</th>\n",
       "      <th>percent_price_change_2015_19</th>\n",
       "    </tr>\n",
       "  </thead>\n",
       "  <tbody>\n",
       "    <tr>\n",
       "      <th>0</th>\n",
       "      <td>Abbeville County, South Carolina</td>\n",
       "      <td>0.170454</td>\n",
       "    </tr>\n",
       "    <tr>\n",
       "      <th>1</th>\n",
       "      <td>Acadia Parish, Louisiana</td>\n",
       "      <td>0.100273</td>\n",
       "    </tr>\n",
       "    <tr>\n",
       "      <th>2</th>\n",
       "      <td>Accomack County, Virginia</td>\n",
       "      <td>0.073734</td>\n",
       "    </tr>\n",
       "    <tr>\n",
       "      <th>3</th>\n",
       "      <td>Ada County, Idaho</td>\n",
       "      <td>0.632257</td>\n",
       "    </tr>\n",
       "    <tr>\n",
       "      <th>4</th>\n",
       "      <td>Adair County, Iowa</td>\n",
       "      <td>0.062842</td>\n",
       "    </tr>\n",
       "  </tbody>\n",
       "</table></div>"
      ],
      "text/plain": [
       "    state_and_county_of_geography_a  percent_price_change_2015_19\n",
       "0  Abbeville County, South Carolina                      0.170454\n",
       "1          Acadia Parish, Louisiana                      0.100273\n",
       "2         Accomack County, Virginia                      0.073734\n",
       "3                 Ada County, Idaho                      0.632257\n",
       "4                Adair County, Iowa                      0.062842"
      ]
     },
     "execution_count": 83,
     "metadata": {},
     "output_type": "execute_result"
    }
   ],
   "source": [
    "# Use groupby() and mean() to get rid of duplicate rows\n",
    "\n",
    "price_change_df = price_change_df.groupby(['state_and_county_of_geography_a'], as_index=False).mean()\n",
    "price_change_df.head()"
   ]
  },
  {
   "cell_type": "code",
   "execution_count": 84,
   "id": "c4671523-5a9e-4e10-947c-d10227998c58",
   "metadata": {},
   "outputs": [
    {
     "data": {
      "text/html": [
       "<div><div id=05c103d3-1e99-4cc3-a99a-75c05fdb84a1 style=\"display:none; background-color:#9D6CFF; color:white; width:200px; height:30px; padding-left:5px; border-radius:4px; flex-direction:row; justify-content:space-around; align-items:center;\" onmouseover=\"this.style.backgroundColor='#BA9BF8'\" onmouseout=\"this.style.backgroundColor='#9D6CFF'\" onclick=\"window.commands?.execute('create-mitosheet-from-dataframe-output');\">See Full Dataframe in Mito</div> <script> if (window.commands.hasCommand('create-mitosheet-from-dataframe-output')) document.getElementById('05c103d3-1e99-4cc3-a99a-75c05fdb84a1').style.display = 'flex' </script> <table border=\"1\" class=\"dataframe\">\n",
       "  <thead>\n",
       "    <tr style=\"text-align: right;\">\n",
       "      <th></th>\n",
       "      <th>State_and_County</th>\n",
       "      <th>percent_price_change_2015_19</th>\n",
       "    </tr>\n",
       "  </thead>\n",
       "  <tbody>\n",
       "    <tr>\n",
       "      <th>0</th>\n",
       "      <td>Abbeville County, South Carolina</td>\n",
       "      <td>0.170454</td>\n",
       "    </tr>\n",
       "    <tr>\n",
       "      <th>1</th>\n",
       "      <td>Acadia Parish, Louisiana</td>\n",
       "      <td>0.100273</td>\n",
       "    </tr>\n",
       "    <tr>\n",
       "      <th>2</th>\n",
       "      <td>Accomack County, Virginia</td>\n",
       "      <td>0.073734</td>\n",
       "    </tr>\n",
       "    <tr>\n",
       "      <th>3</th>\n",
       "      <td>Ada County, Idaho</td>\n",
       "      <td>0.632257</td>\n",
       "    </tr>\n",
       "    <tr>\n",
       "      <th>4</th>\n",
       "      <td>Adair County, Iowa</td>\n",
       "      <td>0.062842</td>\n",
       "    </tr>\n",
       "  </tbody>\n",
       "</table></div>"
      ],
      "text/plain": [
       "                   State_and_County  percent_price_change_2015_19\n",
       "0  Abbeville County, South Carolina                      0.170454\n",
       "1          Acadia Parish, Louisiana                      0.100273\n",
       "2         Accomack County, Virginia                      0.073734\n",
       "3                 Ada County, Idaho                      0.632257\n",
       "4                Adair County, Iowa                      0.062842"
      ]
     },
     "execution_count": 84,
     "metadata": {},
     "output_type": "execute_result"
    }
   ],
   "source": [
    "# rename column\n",
    "price_change_df.rename(columns={'state_and_county_of_geography_a':'State_and_County'}, inplace=True)\n",
    "price_change_df.head()"
   ]
  },
  {
   "cell_type": "code",
   "execution_count": null,
   "id": "21a60341-1616-443c-bdc9-e8388321a9f6",
   "metadata": {},
   "outputs": [],
   "source": []
  },
  {
   "cell_type": "markdown",
   "id": "9d5d4c7b-6c68-4e71-97a1-7556154979d9",
   "metadata": {},
   "source": [
    "### Clean up net migration"
   ]
  },
  {
   "cell_type": "code",
   "execution_count": 85,
   "id": "17dd1cdd-d63b-4814-949d-e074ea61d086",
   "metadata": {},
   "outputs": [
    {
     "data": {
      "text/html": [
       "<div><div id=4c4437b5-0ae7-4cae-a1f2-b24dba3fa060 style=\"display:none; background-color:#9D6CFF; color:white; width:200px; height:30px; padding-left:5px; border-radius:4px; flex-direction:row; justify-content:space-around; align-items:center;\" onmouseover=\"this.style.backgroundColor='#BA9BF8'\" onmouseout=\"this.style.backgroundColor='#9D6CFF'\" onclick=\"window.commands?.execute('create-mitosheet-from-dataframe-output');\">See Full Dataframe in Mito</div> <script> if (window.commands.hasCommand('create-mitosheet-from-dataframe-output')) document.getElementById('4c4437b5-0ae7-4cae-a1f2-b24dba3fa060').style.display = 'flex' </script> <table border=\"1\" class=\"dataframe\">\n",
       "  <thead>\n",
       "    <tr style=\"text-align: right;\">\n",
       "      <th></th>\n",
       "      <th>state_and_county_of_geography_a</th>\n",
       "      <th>net_migration_from_geography_b_to_geography_a1</th>\n",
       "    </tr>\n",
       "  </thead>\n",
       "  <tbody>\n",
       "    <tr>\n",
       "      <th>0</th>\n",
       "      <td>Autauga County, Alabama</td>\n",
       "      <td>-423.0</td>\n",
       "    </tr>\n",
       "    <tr>\n",
       "      <th>1</th>\n",
       "      <td>Autauga County, Alabama</td>\n",
       "      <td>4.0</td>\n",
       "    </tr>\n",
       "    <tr>\n",
       "      <th>2</th>\n",
       "      <td>Autauga County, Alabama</td>\n",
       "      <td>-24.0</td>\n",
       "    </tr>\n",
       "    <tr>\n",
       "      <th>3</th>\n",
       "      <td>Autauga County, Alabama</td>\n",
       "      <td>3.0</td>\n",
       "    </tr>\n",
       "    <tr>\n",
       "      <th>4</th>\n",
       "      <td>Autauga County, Alabama</td>\n",
       "      <td>-40.0</td>\n",
       "    </tr>\n",
       "  </tbody>\n",
       "</table></div>"
      ],
      "text/plain": [
       "  state_and_county_of_geography_a  \\\n",
       "0         Autauga County, Alabama   \n",
       "1         Autauga County, Alabama   \n",
       "2         Autauga County, Alabama   \n",
       "3         Autauga County, Alabama   \n",
       "4         Autauga County, Alabama   \n",
       "\n",
       "   net_migration_from_geography_b_to_geography_a1  \n",
       "0                                          -423.0  \n",
       "1                                             4.0  \n",
       "2                                           -24.0  \n",
       "3                                             3.0  \n",
       "4                                           -40.0  "
      ]
     },
     "execution_count": 85,
     "metadata": {},
     "output_type": "execute_result"
    }
   ],
   "source": [
    "net_migration_df = Migration_House_Price_df[['state_and_county_of_geography_a','net_migration_from_geography_b_to_geography_a1']]\n",
    "net_migration_df.head()"
   ]
  },
  {
   "cell_type": "code",
   "execution_count": 86,
   "id": "4baad9e0-0451-4bd9-a5c8-f09211b00cd2",
   "metadata": {},
   "outputs": [
    {
     "data": {
      "text/html": [
       "<div><div id=77c62e92-b5be-4d39-87d3-8a05590df52b style=\"display:none; background-color:#9D6CFF; color:white; width:200px; height:30px; padding-left:5px; border-radius:4px; flex-direction:row; justify-content:space-around; align-items:center;\" onmouseover=\"this.style.backgroundColor='#BA9BF8'\" onmouseout=\"this.style.backgroundColor='#9D6CFF'\" onclick=\"window.commands?.execute('create-mitosheet-from-dataframe-output');\">See Full Dataframe in Mito</div> <script> if (window.commands.hasCommand('create-mitosheet-from-dataframe-output')) document.getElementById('77c62e92-b5be-4d39-87d3-8a05590df52b').style.display = 'flex' </script> <table border=\"1\" class=\"dataframe\">\n",
       "  <thead>\n",
       "    <tr style=\"text-align: right;\">\n",
       "      <th></th>\n",
       "      <th>state_and_county_of_geography_a</th>\n",
       "      <th>net_migration_from_geography_b_to_geography_a1</th>\n",
       "    </tr>\n",
       "  </thead>\n",
       "  <tbody>\n",
       "    <tr>\n",
       "      <th>0</th>\n",
       "      <td>Abbeville County, South Carolina</td>\n",
       "      <td>110.0</td>\n",
       "    </tr>\n",
       "    <tr>\n",
       "      <th>1</th>\n",
       "      <td>Acadia Parish, Louisiana</td>\n",
       "      <td>-1701.0</td>\n",
       "    </tr>\n",
       "    <tr>\n",
       "      <th>2</th>\n",
       "      <td>Accomack County, Virginia</td>\n",
       "      <td>-953.0</td>\n",
       "    </tr>\n",
       "    <tr>\n",
       "      <th>3</th>\n",
       "      <td>Ada County, Idaho</td>\n",
       "      <td>4908.0</td>\n",
       "    </tr>\n",
       "    <tr>\n",
       "      <th>4</th>\n",
       "      <td>Adair County, Iowa</td>\n",
       "      <td>-408.0</td>\n",
       "    </tr>\n",
       "  </tbody>\n",
       "</table></div>"
      ],
      "text/plain": [
       "    state_and_county_of_geography_a  \\\n",
       "0  Abbeville County, South Carolina   \n",
       "1          Acadia Parish, Louisiana   \n",
       "2         Accomack County, Virginia   \n",
       "3                 Ada County, Idaho   \n",
       "4                Adair County, Iowa   \n",
       "\n",
       "   net_migration_from_geography_b_to_geography_a1  \n",
       "0                                           110.0  \n",
       "1                                         -1701.0  \n",
       "2                                          -953.0  \n",
       "3                                          4908.0  \n",
       "4                                          -408.0  "
      ]
     },
     "execution_count": 86,
     "metadata": {},
     "output_type": "execute_result"
    }
   ],
   "source": [
    "# Find sum of net migration per county\n",
    "net_migration_df = net_migration_df.groupby(['state_and_county_of_geography_a'], as_index=False).sum()\n",
    "net_migration_df.head()"
   ]
  },
  {
   "cell_type": "code",
   "execution_count": 87,
   "id": "f2c9eacb-aa8c-48b1-9b43-1a1a7af45403",
   "metadata": {},
   "outputs": [
    {
     "data": {
      "text/html": [
       "<div><div id=6e1973f2-1165-4242-878a-368e3bcc4348 style=\"display:none; background-color:#9D6CFF; color:white; width:200px; height:30px; padding-left:5px; border-radius:4px; flex-direction:row; justify-content:space-around; align-items:center;\" onmouseover=\"this.style.backgroundColor='#BA9BF8'\" onmouseout=\"this.style.backgroundColor='#9D6CFF'\" onclick=\"window.commands?.execute('create-mitosheet-from-dataframe-output');\">See Full Dataframe in Mito</div> <script> if (window.commands.hasCommand('create-mitosheet-from-dataframe-output')) document.getElementById('6e1973f2-1165-4242-878a-368e3bcc4348').style.display = 'flex' </script> <table border=\"1\" class=\"dataframe\">\n",
       "  <thead>\n",
       "    <tr style=\"text-align: right;\">\n",
       "      <th></th>\n",
       "      <th>State_and_County</th>\n",
       "      <th>Net_Migration</th>\n",
       "    </tr>\n",
       "  </thead>\n",
       "  <tbody>\n",
       "    <tr>\n",
       "      <th>0</th>\n",
       "      <td>Abbeville County, South Carolina</td>\n",
       "      <td>110.0</td>\n",
       "    </tr>\n",
       "    <tr>\n",
       "      <th>1</th>\n",
       "      <td>Acadia Parish, Louisiana</td>\n",
       "      <td>-1701.0</td>\n",
       "    </tr>\n",
       "    <tr>\n",
       "      <th>2</th>\n",
       "      <td>Accomack County, Virginia</td>\n",
       "      <td>-953.0</td>\n",
       "    </tr>\n",
       "    <tr>\n",
       "      <th>3</th>\n",
       "      <td>Ada County, Idaho</td>\n",
       "      <td>4908.0</td>\n",
       "    </tr>\n",
       "    <tr>\n",
       "      <th>4</th>\n",
       "      <td>Adair County, Iowa</td>\n",
       "      <td>-408.0</td>\n",
       "    </tr>\n",
       "  </tbody>\n",
       "</table></div>"
      ],
      "text/plain": [
       "                   State_and_County  Net_Migration\n",
       "0  Abbeville County, South Carolina          110.0\n",
       "1          Acadia Parish, Louisiana        -1701.0\n",
       "2         Accomack County, Virginia         -953.0\n",
       "3                 Ada County, Idaho         4908.0\n",
       "4                Adair County, Iowa         -408.0"
      ]
     },
     "execution_count": 87,
     "metadata": {},
     "output_type": "execute_result"
    }
   ],
   "source": [
    "net_migration_df.rename(columns={'state_and_county_of_geography_a':'State_and_County', \n",
    "                                  'net_migration_from_geography_b_to_geography_a1':'Net_Migration'}, inplace=True)\n",
    "net_migration_df.head()"
   ]
  },
  {
   "cell_type": "markdown",
   "id": "70882a2d-690c-42f1-86b1-ed7da3d12d18",
   "metadata": {},
   "source": [
    "### Pulling in total population figures"
   ]
  },
  {
   "cell_type": "code",
   "execution_count": 88,
   "id": "40611e51-1855-4c49-9ba3-df7a3e4192e3",
   "metadata": {},
   "outputs": [
    {
     "data": {
      "text/html": [
       "<div><div id=eaafc915-d629-489a-aea8-8104d960165a style=\"display:none; background-color:#9D6CFF; color:white; width:200px; height:30px; padding-left:5px; border-radius:4px; flex-direction:row; justify-content:space-around; align-items:center;\" onmouseover=\"this.style.backgroundColor='#BA9BF8'\" onmouseout=\"this.style.backgroundColor='#9D6CFF'\" onclick=\"window.commands?.execute('create-mitosheet-from-dataframe-output');\">See Full Dataframe in Mito</div> <script> if (window.commands.hasCommand('create-mitosheet-from-dataframe-output')) document.getElementById('eaafc915-d629-489a-aea8-8104d960165a').style.display = 'flex' </script> <table border=\"1\" class=\"dataframe\">\n",
       "  <thead>\n",
       "    <tr style=\"text-align: right;\">\n",
       "      <th></th>\n",
       "      <th>SUMLEV</th>\n",
       "      <th>REGION</th>\n",
       "      <th>DIVISION</th>\n",
       "      <th>STATE</th>\n",
       "      <th>COUNTY</th>\n",
       "      <th>STNAME</th>\n",
       "      <th>CTYNAME</th>\n",
       "      <th>State and County name</th>\n",
       "      <th>CENSUS2010POP</th>\n",
       "      <th>ESTIMATESBASE2010</th>\n",
       "      <th>...</th>\n",
       "      <th>RDOMESTICMIG2019</th>\n",
       "      <th>RNETMIG2011</th>\n",
       "      <th>RNETMIG2012</th>\n",
       "      <th>RNETMIG2013</th>\n",
       "      <th>RNETMIG2014</th>\n",
       "      <th>RNETMIG2015</th>\n",
       "      <th>RNETMIG2016</th>\n",
       "      <th>RNETMIG2017</th>\n",
       "      <th>RNETMIG2018</th>\n",
       "      <th>RNETMIG2019</th>\n",
       "    </tr>\n",
       "  </thead>\n",
       "  <tbody>\n",
       "    <tr>\n",
       "      <th>0</th>\n",
       "      <td>40</td>\n",
       "      <td>3</td>\n",
       "      <td>6</td>\n",
       "      <td>1</td>\n",
       "      <td>0</td>\n",
       "      <td>Alabama</td>\n",
       "      <td>Alabama</td>\n",
       "      <td>Alabama, Alabama</td>\n",
       "      <td>4779736</td>\n",
       "      <td>4780125</td>\n",
       "      <td>...</td>\n",
       "      <td>1.917501</td>\n",
       "      <td>0.578434</td>\n",
       "      <td>1.186314</td>\n",
       "      <td>1.522549</td>\n",
       "      <td>0.563489</td>\n",
       "      <td>0.626357</td>\n",
       "      <td>0.745172</td>\n",
       "      <td>1.090366</td>\n",
       "      <td>1.773786</td>\n",
       "      <td>2.483744</td>\n",
       "    </tr>\n",
       "    <tr>\n",
       "      <th>1</th>\n",
       "      <td>50</td>\n",
       "      <td>3</td>\n",
       "      <td>6</td>\n",
       "      <td>1</td>\n",
       "      <td>1</td>\n",
       "      <td>Alabama</td>\n",
       "      <td>Autauga County</td>\n",
       "      <td>Autauga County, Alabama</td>\n",
       "      <td>54571</td>\n",
       "      <td>54597</td>\n",
       "      <td>...</td>\n",
       "      <td>4.847310</td>\n",
       "      <td>6.018182</td>\n",
       "      <td>-6.226119</td>\n",
       "      <td>-3.902226</td>\n",
       "      <td>1.970443</td>\n",
       "      <td>-1.712875</td>\n",
       "      <td>4.777171</td>\n",
       "      <td>0.849656</td>\n",
       "      <td>0.540916</td>\n",
       "      <td>4.560062</td>\n",
       "    </tr>\n",
       "    <tr>\n",
       "      <th>2</th>\n",
       "      <td>50</td>\n",
       "      <td>3</td>\n",
       "      <td>6</td>\n",
       "      <td>1</td>\n",
       "      <td>3</td>\n",
       "      <td>Alabama</td>\n",
       "      <td>Baldwin County</td>\n",
       "      <td>Baldwin County, Alabama</td>\n",
       "      <td>182265</td>\n",
       "      <td>182265</td>\n",
       "      <td>...</td>\n",
       "      <td>24.017829</td>\n",
       "      <td>16.641870</td>\n",
       "      <td>17.488579</td>\n",
       "      <td>22.751474</td>\n",
       "      <td>20.184334</td>\n",
       "      <td>17.725964</td>\n",
       "      <td>21.279291</td>\n",
       "      <td>22.398256</td>\n",
       "      <td>24.727215</td>\n",
       "      <td>24.380567</td>\n",
       "    </tr>\n",
       "    <tr>\n",
       "      <th>3</th>\n",
       "      <td>50</td>\n",
       "      <td>3</td>\n",
       "      <td>6</td>\n",
       "      <td>1</td>\n",
       "      <td>5</td>\n",
       "      <td>Alabama</td>\n",
       "      <td>Barbour County</td>\n",
       "      <td>Barbour County, Alabama</td>\n",
       "      <td>27457</td>\n",
       "      <td>27455</td>\n",
       "      <td>...</td>\n",
       "      <td>-5.690302</td>\n",
       "      <td>0.292676</td>\n",
       "      <td>-6.897817</td>\n",
       "      <td>-8.132185</td>\n",
       "      <td>-5.140431</td>\n",
       "      <td>-15.724575</td>\n",
       "      <td>-18.238016</td>\n",
       "      <td>-24.998528</td>\n",
       "      <td>-8.754922</td>\n",
       "      <td>-5.165664</td>\n",
       "    </tr>\n",
       "    <tr>\n",
       "      <th>4</th>\n",
       "      <td>50</td>\n",
       "      <td>3</td>\n",
       "      <td>6</td>\n",
       "      <td>1</td>\n",
       "      <td>7</td>\n",
       "      <td>Alabama</td>\n",
       "      <td>Bibb County</td>\n",
       "      <td>Bibb County, Alabama</td>\n",
       "      <td>22915</td>\n",
       "      <td>22915</td>\n",
       "      <td>...</td>\n",
       "      <td>1.385134</td>\n",
       "      <td>-4.998356</td>\n",
       "      <td>-3.787545</td>\n",
       "      <td>-5.797999</td>\n",
       "      <td>1.331144</td>\n",
       "      <td>1.329817</td>\n",
       "      <td>-0.708717</td>\n",
       "      <td>-3.234669</td>\n",
       "      <td>-6.857092</td>\n",
       "      <td>1.831952</td>\n",
       "    </tr>\n",
       "  </tbody>\n",
       "</table></div>"
      ],
      "text/plain": [
       "   SUMLEV  REGION  DIVISION  STATE  COUNTY   STNAME         CTYNAME  \\\n",
       "0      40       3         6      1       0  Alabama         Alabama   \n",
       "1      50       3         6      1       1  Alabama  Autauga County   \n",
       "2      50       3         6      1       3  Alabama  Baldwin County   \n",
       "3      50       3         6      1       5  Alabama  Barbour County   \n",
       "4      50       3         6      1       7  Alabama     Bibb County   \n",
       "\n",
       "     State and County name  CENSUS2010POP  ESTIMATESBASE2010  ...  \\\n",
       "0         Alabama, Alabama        4779736            4780125  ...   \n",
       "1  Autauga County, Alabama          54571              54597  ...   \n",
       "2  Baldwin County, Alabama         182265             182265  ...   \n",
       "3  Barbour County, Alabama          27457              27455  ...   \n",
       "4     Bibb County, Alabama          22915              22915  ...   \n",
       "\n",
       "   RDOMESTICMIG2019  RNETMIG2011  RNETMIG2012  RNETMIG2013  RNETMIG2014  \\\n",
       "0          1.917501     0.578434     1.186314     1.522549     0.563489   \n",
       "1          4.847310     6.018182    -6.226119    -3.902226     1.970443   \n",
       "2         24.017829    16.641870    17.488579    22.751474    20.184334   \n",
       "3         -5.690302     0.292676    -6.897817    -8.132185    -5.140431   \n",
       "4          1.385134    -4.998356    -3.787545    -5.797999     1.331144   \n",
       "\n",
       "   RNETMIG2015  RNETMIG2016  RNETMIG2017  RNETMIG2018  RNETMIG2019  \n",
       "0     0.626357     0.745172     1.090366     1.773786     2.483744  \n",
       "1    -1.712875     4.777171     0.849656     0.540916     4.560062  \n",
       "2    17.725964    21.279291    22.398256    24.727215    24.380567  \n",
       "3   -15.724575   -18.238016   -24.998528    -8.754922    -5.165664  \n",
       "4     1.329817    -0.708717    -3.234669    -6.857092     1.831952  \n",
       "\n",
       "[5 rows x 165 columns]"
      ]
     },
     "execution_count": 88,
     "metadata": {},
     "output_type": "execute_result"
    }
   ],
   "source": [
    "# load total county population data into dataframe\n",
    "county_pop_df = pd.read_csv('Resources/County_population_totals_2010_2019_co-est2019-alldata.csv',encoding = \"ISO-8859-1\")\n",
    "county_pop_df.head()"
   ]
  },
  {
   "cell_type": "code",
   "execution_count": 89,
   "id": "af9728a3-e19b-48e0-9cb4-5030ed4a7db3",
   "metadata": {},
   "outputs": [
    {
     "data": {
      "text/html": [
       "<div><div id=c3da5341-5237-4e32-ac5b-5c7f1b35e079 style=\"display:none; background-color:#9D6CFF; color:white; width:200px; height:30px; padding-left:5px; border-radius:4px; flex-direction:row; justify-content:space-around; align-items:center;\" onmouseover=\"this.style.backgroundColor='#BA9BF8'\" onmouseout=\"this.style.backgroundColor='#9D6CFF'\" onclick=\"window.commands?.execute('create-mitosheet-from-dataframe-output');\">See Full Dataframe in Mito</div> <script> if (window.commands.hasCommand('create-mitosheet-from-dataframe-output')) document.getElementById('c3da5341-5237-4e32-ac5b-5c7f1b35e079').style.display = 'flex' </script> <table border=\"1\" class=\"dataframe\">\n",
       "  <thead>\n",
       "    <tr style=\"text-align: right;\">\n",
       "      <th></th>\n",
       "      <th>State_and_County</th>\n",
       "      <th>Population_2015</th>\n",
       "    </tr>\n",
       "  </thead>\n",
       "  <tbody>\n",
       "    <tr>\n",
       "      <th>0</th>\n",
       "      <td>Alabama, Alabama</td>\n",
       "      <td>4852347</td>\n",
       "    </tr>\n",
       "    <tr>\n",
       "      <th>1</th>\n",
       "      <td>Autauga County, Alabama</td>\n",
       "      <td>54864</td>\n",
       "    </tr>\n",
       "    <tr>\n",
       "      <th>2</th>\n",
       "      <td>Baldwin County, Alabama</td>\n",
       "      <td>202939</td>\n",
       "    </tr>\n",
       "    <tr>\n",
       "      <th>3</th>\n",
       "      <td>Barbour County, Alabama</td>\n",
       "      <td>26283</td>\n",
       "    </tr>\n",
       "    <tr>\n",
       "      <th>4</th>\n",
       "      <td>Bibb County, Alabama</td>\n",
       "      <td>22566</td>\n",
       "    </tr>\n",
       "  </tbody>\n",
       "</table></div>"
      ],
      "text/plain": [
       "          State_and_County  Population_2015\n",
       "0         Alabama, Alabama          4852347\n",
       "1  Autauga County, Alabama            54864\n",
       "2  Baldwin County, Alabama           202939\n",
       "3  Barbour County, Alabama            26283\n",
       "4     Bibb County, Alabama            22566"
      ]
     },
     "execution_count": 89,
     "metadata": {},
     "output_type": "execute_result"
    }
   ],
   "source": [
    "# Filter out columns irrelevant to 2015 population and rename columns\n",
    "county_pop_2015_df = county_pop_df[['State and County name','POPESTIMATE2015']]\n",
    "county_pop_2015_df.rename(columns={'State and County name':'State_and_County', 'POPESTIMATE2015':'Population_2015'}, inplace=True)\n",
    "county_pop_2015_df.head()"
   ]
  },
  {
   "cell_type": "code",
   "execution_count": 90,
   "id": "9969fbb6-3a6a-4219-a561-7736bae50e77",
   "metadata": {},
   "outputs": [
    {
     "data": {
      "text/html": [
       "<div><div id=0aff36ed-6db8-40b5-8170-6601005433bb style=\"display:none; background-color:#9D6CFF; color:white; width:200px; height:30px; padding-left:5px; border-radius:4px; flex-direction:row; justify-content:space-around; align-items:center;\" onmouseover=\"this.style.backgroundColor='#BA9BF8'\" onmouseout=\"this.style.backgroundColor='#9D6CFF'\" onclick=\"window.commands?.execute('create-mitosheet-from-dataframe-output');\">See Full Dataframe in Mito</div> <script> if (window.commands.hasCommand('create-mitosheet-from-dataframe-output')) document.getElementById('0aff36ed-6db8-40b5-8170-6601005433bb').style.display = 'flex' </script> <table border=\"1\" class=\"dataframe\">\n",
       "  <thead>\n",
       "    <tr style=\"text-align: right;\">\n",
       "      <th></th>\n",
       "      <th>State_and_County</th>\n",
       "      <th>Population_2015</th>\n",
       "      <th>Net_Migration</th>\n",
       "    </tr>\n",
       "  </thead>\n",
       "  <tbody>\n",
       "    <tr>\n",
       "      <th>0</th>\n",
       "      <td>Autauga County, Alabama</td>\n",
       "      <td>54864</td>\n",
       "      <td>-2535.0</td>\n",
       "    </tr>\n",
       "    <tr>\n",
       "      <th>1</th>\n",
       "      <td>Baldwin County, Alabama</td>\n",
       "      <td>202939</td>\n",
       "      <td>2295.0</td>\n",
       "    </tr>\n",
       "    <tr>\n",
       "      <th>2</th>\n",
       "      <td>Barbour County, Alabama</td>\n",
       "      <td>26283</td>\n",
       "      <td>-287.0</td>\n",
       "    </tr>\n",
       "    <tr>\n",
       "      <th>3</th>\n",
       "      <td>Bibb County, Alabama</td>\n",
       "      <td>22566</td>\n",
       "      <td>156.0</td>\n",
       "    </tr>\n",
       "    <tr>\n",
       "      <th>4</th>\n",
       "      <td>Blount County, Alabama</td>\n",
       "      <td>57526</td>\n",
       "      <td>-753.0</td>\n",
       "    </tr>\n",
       "  </tbody>\n",
       "</table></div>"
      ],
      "text/plain": [
       "          State_and_County  Population_2015  Net_Migration\n",
       "0  Autauga County, Alabama            54864        -2535.0\n",
       "1  Baldwin County, Alabama           202939         2295.0\n",
       "2  Barbour County, Alabama            26283         -287.0\n",
       "3     Bibb County, Alabama            22566          156.0\n",
       "4   Blount County, Alabama            57526         -753.0"
      ]
     },
     "execution_count": 90,
     "metadata": {},
     "output_type": "execute_result"
    }
   ],
   "source": [
    "# merge net migration and total population data frames\n",
    "migration_percentage_df = county_pop_2015_df.merge(net_migration_df, on='State_and_County')\n",
    "migration_percentage_df.head()"
   ]
  },
  {
   "cell_type": "code",
   "execution_count": 91,
   "id": "97ec0af5-a067-46d9-94b8-c4ade187dc49",
   "metadata": {},
   "outputs": [
    {
     "data": {
      "text/html": [
       "<div><div id=d21c1d92-a17a-4e0d-9f2e-a7e6e1b68851 style=\"display:none; background-color:#9D6CFF; color:white; width:200px; height:30px; padding-left:5px; border-radius:4px; flex-direction:row; justify-content:space-around; align-items:center;\" onmouseover=\"this.style.backgroundColor='#BA9BF8'\" onmouseout=\"this.style.backgroundColor='#9D6CFF'\" onclick=\"window.commands?.execute('create-mitosheet-from-dataframe-output');\">See Full Dataframe in Mito</div> <script> if (window.commands.hasCommand('create-mitosheet-from-dataframe-output')) document.getElementById('d21c1d92-a17a-4e0d-9f2e-a7e6e1b68851').style.display = 'flex' </script> <table border=\"1\" class=\"dataframe\">\n",
       "  <thead>\n",
       "    <tr style=\"text-align: right;\">\n",
       "      <th></th>\n",
       "      <th>State_and_County</th>\n",
       "      <th>Population_2015</th>\n",
       "      <th>Net_Migration</th>\n",
       "      <th>%_Change_Due_to_Migration</th>\n",
       "    </tr>\n",
       "  </thead>\n",
       "  <tbody>\n",
       "    <tr>\n",
       "      <th>0</th>\n",
       "      <td>Autauga County, Alabama</td>\n",
       "      <td>54864</td>\n",
       "      <td>-2535.0</td>\n",
       "      <td>-0.046205</td>\n",
       "    </tr>\n",
       "    <tr>\n",
       "      <th>1</th>\n",
       "      <td>Baldwin County, Alabama</td>\n",
       "      <td>202939</td>\n",
       "      <td>2295.0</td>\n",
       "      <td>0.011309</td>\n",
       "    </tr>\n",
       "    <tr>\n",
       "      <th>2</th>\n",
       "      <td>Barbour County, Alabama</td>\n",
       "      <td>26283</td>\n",
       "      <td>-287.0</td>\n",
       "      <td>-0.010920</td>\n",
       "    </tr>\n",
       "    <tr>\n",
       "      <th>3</th>\n",
       "      <td>Bibb County, Alabama</td>\n",
       "      <td>22566</td>\n",
       "      <td>156.0</td>\n",
       "      <td>0.006913</td>\n",
       "    </tr>\n",
       "    <tr>\n",
       "      <th>4</th>\n",
       "      <td>Blount County, Alabama</td>\n",
       "      <td>57526</td>\n",
       "      <td>-753.0</td>\n",
       "      <td>-0.013090</td>\n",
       "    </tr>\n",
       "  </tbody>\n",
       "</table></div>"
      ],
      "text/plain": [
       "          State_and_County  Population_2015  Net_Migration  \\\n",
       "0  Autauga County, Alabama            54864        -2535.0   \n",
       "1  Baldwin County, Alabama           202939         2295.0   \n",
       "2  Barbour County, Alabama            26283         -287.0   \n",
       "3     Bibb County, Alabama            22566          156.0   \n",
       "4   Blount County, Alabama            57526         -753.0   \n",
       "\n",
       "   %_Change_Due_to_Migration  \n",
       "0                  -0.046205  \n",
       "1                   0.011309  \n",
       "2                  -0.010920  \n",
       "3                   0.006913  \n",
       "4                  -0.013090  "
      ]
     },
     "execution_count": 91,
     "metadata": {},
     "output_type": "execute_result"
    }
   ],
   "source": [
    "# calculate population change due to migration\n",
    "migration_percentage_df['%_Change_Due_to_Migration'] = migration_percentage_df['Net_Migration']/migration_percentage_df['Population_2015']\n",
    "migration_percentage_df.head()"
   ]
  },
  {
   "cell_type": "markdown",
   "id": "6367ef02-5e59-4fc0-baa8-1c731a6c0308",
   "metadata": {},
   "source": [
    "## Combine price change and migration dataframes"
   ]
  },
  {
   "cell_type": "code",
   "execution_count": 92,
   "id": "f0d43b48-664b-4628-b609-17ae6de59015",
   "metadata": {},
   "outputs": [
    {
     "data": {
      "text/html": [
       "<div><div id=a47250d7-350e-440e-8e67-c9ae14b9a06a style=\"display:none; background-color:#9D6CFF; color:white; width:200px; height:30px; padding-left:5px; border-radius:4px; flex-direction:row; justify-content:space-around; align-items:center;\" onmouseover=\"this.style.backgroundColor='#BA9BF8'\" onmouseout=\"this.style.backgroundColor='#9D6CFF'\" onclick=\"window.commands?.execute('create-mitosheet-from-dataframe-output');\">See Full Dataframe in Mito</div> <script> if (window.commands.hasCommand('create-mitosheet-from-dataframe-output')) document.getElementById('a47250d7-350e-440e-8e67-c9ae14b9a06a').style.display = 'flex' </script> <table border=\"1\" class=\"dataframe\">\n",
       "  <thead>\n",
       "    <tr style=\"text-align: right;\">\n",
       "      <th></th>\n",
       "      <th>State_and_County</th>\n",
       "      <th>percent_price_change_2015_19</th>\n",
       "      <th>Population_2015</th>\n",
       "      <th>Net_Migration</th>\n",
       "      <th>%_Change_Due_to_Migration</th>\n",
       "    </tr>\n",
       "  </thead>\n",
       "  <tbody>\n",
       "    <tr>\n",
       "      <th>0</th>\n",
       "      <td>Abbeville County, South Carolina</td>\n",
       "      <td>0.170454</td>\n",
       "      <td>24796</td>\n",
       "      <td>110.0</td>\n",
       "      <td>0.004436</td>\n",
       "    </tr>\n",
       "    <tr>\n",
       "      <th>1</th>\n",
       "      <td>Acadia Parish, Louisiana</td>\n",
       "      <td>0.100273</td>\n",
       "      <td>62679</td>\n",
       "      <td>-1701.0</td>\n",
       "      <td>-0.027138</td>\n",
       "    </tr>\n",
       "    <tr>\n",
       "      <th>2</th>\n",
       "      <td>Accomack County, Virginia</td>\n",
       "      <td>0.073734</td>\n",
       "      <td>32914</td>\n",
       "      <td>-953.0</td>\n",
       "      <td>-0.028954</td>\n",
       "    </tr>\n",
       "    <tr>\n",
       "      <th>3</th>\n",
       "      <td>Ada County, Idaho</td>\n",
       "      <td>0.632257</td>\n",
       "      <td>432862</td>\n",
       "      <td>4908.0</td>\n",
       "      <td>0.011338</td>\n",
       "    </tr>\n",
       "    <tr>\n",
       "      <th>4</th>\n",
       "      <td>Adair County, Iowa</td>\n",
       "      <td>0.062842</td>\n",
       "      <td>7145</td>\n",
       "      <td>-408.0</td>\n",
       "      <td>-0.057103</td>\n",
       "    </tr>\n",
       "  </tbody>\n",
       "</table></div>"
      ],
      "text/plain": [
       "                   State_and_County  percent_price_change_2015_19  \\\n",
       "0  Abbeville County, South Carolina                      0.170454   \n",
       "1          Acadia Parish, Louisiana                      0.100273   \n",
       "2         Accomack County, Virginia                      0.073734   \n",
       "3                 Ada County, Idaho                      0.632257   \n",
       "4                Adair County, Iowa                      0.062842   \n",
       "\n",
       "   Population_2015  Net_Migration  %_Change_Due_to_Migration  \n",
       "0            24796          110.0                   0.004436  \n",
       "1            62679        -1701.0                  -0.027138  \n",
       "2            32914         -953.0                  -0.028954  \n",
       "3           432862         4908.0                   0.011338  \n",
       "4             7145         -408.0                  -0.057103  "
      ]
     },
     "execution_count": 92,
     "metadata": {},
     "output_type": "execute_result"
    }
   ],
   "source": [
    "# merge with price change dataframe\n",
    "price_migration_df = price_change_df.merge(migration_percentage_df, on='State_and_County')\n",
    "price_migration_df.head()"
   ]
  },
  {
   "cell_type": "code",
   "execution_count": 93,
   "id": "6c71dda0-35fc-4e7f-b667-8bb5a3b18590",
   "metadata": {},
   "outputs": [
    {
     "data": {
      "text/html": [
       "<div><div id=131a344a-f47a-43a6-9d9e-5fcfbda781dd style=\"display:none; background-color:#9D6CFF; color:white; width:200px; height:30px; padding-left:5px; border-radius:4px; flex-direction:row; justify-content:space-around; align-items:center;\" onmouseover=\"this.style.backgroundColor='#BA9BF8'\" onmouseout=\"this.style.backgroundColor='#9D6CFF'\" onclick=\"window.commands?.execute('create-mitosheet-from-dataframe-output');\">See Full Dataframe in Mito</div> <script> if (window.commands.hasCommand('create-mitosheet-from-dataframe-output')) document.getElementById('131a344a-f47a-43a6-9d9e-5fcfbda781dd').style.display = 'flex' </script> <table border=\"1\" class=\"dataframe\">\n",
       "  <thead>\n",
       "    <tr style=\"text-align: right;\">\n",
       "      <th></th>\n",
       "      <th>State_and_County</th>\n",
       "      <th>%_Change_Due_to_Migration</th>\n",
       "      <th>percent_price_change_2015_19</th>\n",
       "    </tr>\n",
       "  </thead>\n",
       "  <tbody>\n",
       "    <tr>\n",
       "      <th>0</th>\n",
       "      <td>Abbeville County, South Carolina</td>\n",
       "      <td>0.004436</td>\n",
       "      <td>0.170454</td>\n",
       "    </tr>\n",
       "    <tr>\n",
       "      <th>1</th>\n",
       "      <td>Acadia Parish, Louisiana</td>\n",
       "      <td>-0.027138</td>\n",
       "      <td>0.100273</td>\n",
       "    </tr>\n",
       "    <tr>\n",
       "      <th>2</th>\n",
       "      <td>Accomack County, Virginia</td>\n",
       "      <td>-0.028954</td>\n",
       "      <td>0.073734</td>\n",
       "    </tr>\n",
       "    <tr>\n",
       "      <th>3</th>\n",
       "      <td>Ada County, Idaho</td>\n",
       "      <td>0.011338</td>\n",
       "      <td>0.632257</td>\n",
       "    </tr>\n",
       "    <tr>\n",
       "      <th>4</th>\n",
       "      <td>Adair County, Iowa</td>\n",
       "      <td>-0.057103</td>\n",
       "      <td>0.062842</td>\n",
       "    </tr>\n",
       "  </tbody>\n",
       "</table></div>"
      ],
      "text/plain": [
       "                   State_and_County  %_Change_Due_to_Migration  \\\n",
       "0  Abbeville County, South Carolina                   0.004436   \n",
       "1          Acadia Parish, Louisiana                  -0.027138   \n",
       "2         Accomack County, Virginia                  -0.028954   \n",
       "3                 Ada County, Idaho                   0.011338   \n",
       "4                Adair County, Iowa                  -0.057103   \n",
       "\n",
       "   percent_price_change_2015_19  \n",
       "0                      0.170454  \n",
       "1                      0.100273  \n",
       "2                      0.073734  \n",
       "3                      0.632257  \n",
       "4                      0.062842  "
      ]
     },
     "execution_count": 93,
     "metadata": {},
     "output_type": "execute_result"
    }
   ],
   "source": [
    "df_XY = price_migration_df[['State_and_County','%_Change_Due_to_Migration','percent_price_change_2015_19']].dropna()\n",
    "df_XY.head()"
   ]
  },
  {
   "cell_type": "markdown",
   "id": "f1f9acda-0277-4bd3-93e5-7e3c6f47cbbc",
   "metadata": {},
   "source": [
    "## Describing the data before regression"
   ]
  },
  {
   "cell_type": "code",
   "execution_count": 94,
   "id": "d1afa7f5-c6d2-444c-8401-58ccc29218b4",
   "metadata": {},
   "outputs": [
    {
     "data": {
      "text/html": [
       "<div><div id=0faa8018-a24f-4db2-b8bc-615cbbba480d style=\"display:none; background-color:#9D6CFF; color:white; width:200px; height:30px; padding-left:5px; border-radius:4px; flex-direction:row; justify-content:space-around; align-items:center;\" onmouseover=\"this.style.backgroundColor='#BA9BF8'\" onmouseout=\"this.style.backgroundColor='#9D6CFF'\" onclick=\"window.commands?.execute('create-mitosheet-from-dataframe-output');\">See Full Dataframe in Mito</div> <script> if (window.commands.hasCommand('create-mitosheet-from-dataframe-output')) document.getElementById('0faa8018-a24f-4db2-b8bc-615cbbba480d').style.display = 'flex' </script> <table border=\"1\" class=\"dataframe\">\n",
       "  <thead>\n",
       "    <tr style=\"text-align: right;\">\n",
       "      <th></th>\n",
       "      <th>%_Change_Due_to_Migration</th>\n",
       "      <th>percent_price_change_2015_19</th>\n",
       "    </tr>\n",
       "  </thead>\n",
       "  <tbody>\n",
       "    <tr>\n",
       "      <th>count</th>\n",
       "      <td>2339.000000</td>\n",
       "      <td>2339.000000</td>\n",
       "    </tr>\n",
       "    <tr>\n",
       "      <th>mean</th>\n",
       "      <td>0.001512</td>\n",
       "      <td>0.212499</td>\n",
       "    </tr>\n",
       "    <tr>\n",
       "      <th>std</th>\n",
       "      <td>0.021240</td>\n",
       "      <td>0.127012</td>\n",
       "    </tr>\n",
       "    <tr>\n",
       "      <th>min</th>\n",
       "      <td>-0.102752</td>\n",
       "      <td>-0.183043</td>\n",
       "    </tr>\n",
       "    <tr>\n",
       "      <th>25%</th>\n",
       "      <td>-0.009572</td>\n",
       "      <td>0.125285</td>\n",
       "    </tr>\n",
       "    <tr>\n",
       "      <th>50%</th>\n",
       "      <td>0.000914</td>\n",
       "      <td>0.188886</td>\n",
       "    </tr>\n",
       "    <tr>\n",
       "      <th>75%</th>\n",
       "      <td>0.012298</td>\n",
       "      <td>0.277215</td>\n",
       "    </tr>\n",
       "    <tr>\n",
       "      <th>max</th>\n",
       "      <td>0.129182</td>\n",
       "      <td>0.776181</td>\n",
       "    </tr>\n",
       "  </tbody>\n",
       "</table></div>"
      ],
      "text/plain": [
       "       %_Change_Due_to_Migration  percent_price_change_2015_19\n",
       "count                2339.000000                   2339.000000\n",
       "mean                    0.001512                      0.212499\n",
       "std                     0.021240                      0.127012\n",
       "min                    -0.102752                     -0.183043\n",
       "25%                    -0.009572                      0.125285\n",
       "50%                     0.000914                      0.188886\n",
       "75%                     0.012298                      0.277215\n",
       "max                     0.129182                      0.776181"
      ]
     },
     "execution_count": 94,
     "metadata": {},
     "output_type": "execute_result"
    }
   ],
   "source": [
    "# Descriptive statistics\n",
    "df_XY.describe()"
   ]
  },
  {
   "cell_type": "markdown",
   "id": "e1ca03aa-511b-45c2-8285-5010fb0c398f",
   "metadata": {},
   "source": [
    "## Adding a scatter plot"
   ]
  },
  {
   "cell_type": "code",
   "execution_count": 95,
   "id": "f0fb35cf-543f-41dc-ad42-62ee6f021bd8",
   "metadata": {},
   "outputs": [
    {
     "data": {
      "text/html": [
       "<iframe\n",
       "    scrolling=\"no\"\n",
       "    width=\"100%\"\n",
       "    height=\"545px\"\n",
       "    src=\"iframe_figures/figure_95.html\"\n",
       "    frameborder=\"0\"\n",
       "    allowfullscreen\n",
       "></iframe>\n"
      ]
     },
     "metadata": {},
     "output_type": "display_data"
    }
   ],
   "source": [
    "# Import plotly and create a figure\n",
    "import plotly.graph_objects as go\n",
    "fig = go.Figure()\n",
    "\n",
    "\n",
    "\n",
    "# Add the scatter traces to the figure\n",
    "for column_header in ['%_Change_Due_to_Migration']:\n",
    "    fig.add_trace(go.Scatter(\n",
    "        x=df_XY[column_header],\n",
    "        y=df_XY['percent_price_change_2015_19'],\n",
    "        mode='markers',\n",
    "        name=str(column_header)\n",
    "    ))\n",
    "\n",
    "# Update the layout\n",
    "# See Plotly documentation for cutomizations: https://plotly.com/python/reference/scatter/\n",
    "fig.update_layout(\n",
    "    xaxis_title=\"% Change Due to Migration\",\n",
    "    yaxis_title=\"Price change % 2015-19\",\n",
    "    title=\"Population Migration vs House Price Change\",\n",
    ")\n",
    "fig.show(renderer=\"iframe\")"
   ]
  },
  {
   "cell_type": "markdown",
   "id": "c0a9fb1a-cf88-4c36-8812-e0cedfa410ed",
   "metadata": {},
   "source": [
    "## Create leinear regression model"
   ]
  },
  {
   "cell_type": "code",
   "execution_count": 96,
   "id": "59960f82-21da-47da-84bc-5cfcadf25a72",
   "metadata": {},
   "outputs": [],
   "source": [
    "X = df_XY['%_Change_Due_to_Migration'].values.reshape(-1, 1)\n",
    "y = df_XY['percent_price_change_2015_19']\n"
   ]
  },
  {
   "cell_type": "code",
   "execution_count": 97,
   "id": "3f434c16-d4aa-46b4-a39c-fd0a32eb0f62",
   "metadata": {},
   "outputs": [
    {
     "data": {
      "text/plain": [
       "(2339, 1)"
      ]
     },
     "execution_count": 97,
     "metadata": {},
     "output_type": "execute_result"
    }
   ],
   "source": [
    "X.shape"
   ]
  },
  {
   "cell_type": "code",
   "execution_count": 98,
   "id": "c11555a7-382d-4c73-ba07-9c6db3ad45f6",
   "metadata": {},
   "outputs": [
    {
     "name": "stdout",
     "output_type": "stream",
     "text": [
      "(2339,)\n"
     ]
    }
   ],
   "source": [
    "model = LinearRegression()\n",
    "model.fit(X, y)\n",
    "y_pred = model.predict(X)\n",
    "print(y_pred.shape)"
   ]
  },
  {
   "cell_type": "code",
   "execution_count": 99,
   "id": "054e7aad-c145-4389-9609-7bd3b52cc279",
   "metadata": {},
   "outputs": [
    {
     "data": {
      "image/png": "[encoded data removed]",
      "text/plain": [
       "<Figure size 432x288 with 1 Axes>"
      ]
     },
     "metadata": {
      "needs_background": "light"
     },
     "output_type": "display_data"
    }
   ],
   "source": [
    "plt.scatter(X, y)\n",
    "plt.plot(X, y_pred, color='red')\n",
    "plt.show()"
   ]
  },
  {
   "cell_type": "markdown",
   "id": "42eea092-7385-4864-bc3a-a3f52ec14d10",
   "metadata": {},
   "source": [
    "## Evaluate model quality"
   ]
  },
  {
   "cell_type": "code",
   "execution_count": 100,
   "id": "b84f3b8a-9a5c-4651-a322-0d1318e63a25",
   "metadata": {},
   "outputs": [
    {
     "name": "stdout",
     "output_type": "stream",
     "text": [
      "[1.13031361]\n",
      "0.21078970230186223\n"
     ]
    }
   ],
   "source": [
    "print(model.coef_)\n",
    "print(model.intercept_)"
   ]
  },
  {
   "cell_type": "code",
   "execution_count": 101,
   "id": "4a80f4b4-1d35-4541-a4ab-d006e9d36ea9",
   "metadata": {},
   "outputs": [
    {
     "data": {
      "text/plain": [
       "0.03572712347756213"
      ]
     },
     "execution_count": 101,
     "metadata": {},
     "output_type": "execute_result"
    }
   ],
   "source": [
    "r2_score(y, y_pred)\n"
   ]
  },
  {
   "cell_type": "code",
   "execution_count": 102,
   "id": "b8d9c7f4-4c95-4878-a476-447fc17a7630",
   "metadata": {},
   "outputs": [
    {
     "data": {
      "text/plain": [
       "0.01554903399324957"
      ]
     },
     "execution_count": 102,
     "metadata": {},
     "output_type": "execute_result"
    }
   ],
   "source": [
    "mean_squared_error(y, y_pred)"
   ]
  },
  {
   "cell_type": "code",
   "execution_count": null,
   "id": "164fb176-f395-4d05-b168-75461568c8d3",
   "metadata": {},
   "outputs": [],
   "source": []
  }
 ],
 "metadata": {
  "kernelspec": {
   "display_name": "mlenv",
   "language": "python",
   "name": "mlenv"
  },
  "language_info": {
   "codemirror_mode": {
    "name": "ipython",
    "version": 3
   },
   "file_extension": ".py",
   "mimetype": "text/x-python",
   "name": "python",
   "nbconvert_exporter": "python",
   "pygments_lexer": "ipython3",
   "version": "3.9.7"
  }
 },
 "nbformat": 4,
 "nbformat_minor": 5
}
