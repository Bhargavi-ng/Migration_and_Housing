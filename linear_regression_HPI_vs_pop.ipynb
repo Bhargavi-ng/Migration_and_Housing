{
 "cells": [
  {
   "cell_type": "markdown",
   "id": "ed8edfc2-3cf7-46fe-b1ea-f532b515d284",
   "metadata": {},
   "source": [
    "# Linear Regression on house price and migration"
   ]
  },
  {
   "cell_type": "markdown",
   "id": "999a1af0-0ac7-42c0-a21c-67ac7ed24c5a",
   "metadata": {},
   "source": [
    "## Import dependencies"
   ]
  },
  {
   "cell_type": "code",
   "execution_count": 1,
   "id": "132f875c-af4c-43ec-8669-7400cffda307",
   "metadata": {},
   "outputs": [],
   "source": [
    "import warnings\n",
    "warnings.filterwarnings('ignore')"
   ]
  },
  {
   "cell_type": "code",
   "execution_count": 2,
   "id": "026a4052-c14b-464c-9d96-89c6b3dc01c4",
   "metadata": {},
   "outputs": [],
   "source": [
    "import numpy as np\n",
    "import pandas as pd\n",
    "import matplotlib.pyplot as plt\n",
    "from pathlib import Path\n",
    "from collections import Counter\n",
    "import mitosheet\n",
    "import sqlalchemy as db\n",
    "from sqlalchemy import create_engine \n",
    "from config import host_name, db_password, user_name, db_name"
   ]
  },
  {
   "cell_type": "code",
   "execution_count": 3,
   "id": "869bc10a-bcc1-4942-b7f3-8c7431d9b7f8",
   "metadata": {},
   "outputs": [],
   "source": [
    "from sklearn.linear_model import LinearRegression\n",
    "from sklearn.model_selection import train_test_split\n",
    "from sklearn.metrics import mean_squared_error, r2_score"
   ]
  },
  {
   "cell_type": "markdown",
   "id": "0d9f82a0-65b7-4a9d-9368-ccf8a156d94f",
   "metadata": {},
   "source": [
    "## Create connection to SQL database and load table into dataframe"
   ]
  },
  {
   "cell_type": "code",
   "execution_count": 4,
   "id": "adfbf829-748f-4d66-9f13-cdaeda306394",
   "metadata": {},
   "outputs": [],
   "source": [
    "connection_string =f\"postgresql://{user_name}:{db_password}@{host_name}:5432/{db_name}\"\n",
    "engine = create_engine(connection_string) \n",
    "connection = engine.connect()\n",
    "metadata = db.MetaData()"
   ]
  },
  {
   "cell_type": "code",
   "execution_count": 5,
   "id": "e2bde006-79cd-4cdc-9f70-2cd03d638df3",
   "metadata": {},
   "outputs": [],
   "source": [
    "# Set up to read from Migration_house_price\n",
    "Migration_house_price = db.Table('house_price_migration_in_out', metadata, autoload=True, autoload_with=engine)"
   ]
  },
  {
   "cell_type": "code",
   "execution_count": 6,
   "id": "055afc9a-b3bb-415b-9ff1-c2c0dcc9fe08",
   "metadata": {},
   "outputs": [],
   "source": [
    "# Setup query to pull data from Postgres db table Migration_house_price\n",
    "query = db.select([Migration_house_price]) \n",
    "ResultProxy = connection.execute(query)\n",
    "ResultSet = ResultProxy.fetchall()"
   ]
  },
  {
   "cell_type": "code",
   "execution_count": 7,
   "id": "1078666b-7b6a-4bda-b791-2d34d802eb36",
   "metadata": {},
   "outputs": [],
   "source": [
    "# Convert to dataframe\n",
    "Migration_House_Price_df = pd.DataFrame(ResultSet)\n",
    "Migration_House_Price_df.columns = ResultSet[0].keys()"
   ]
  },
  {
   "cell_type": "code",
   "execution_count": 8,
   "id": "54638c88-6af2-484e-885a-50da3652573c",
   "metadata": {},
   "outputs": [
    {
     "data": {
      "text/html": [
       "<div><div id=a3b6160e-daff-48c8-8b26-baee6dbbb7c1 style=\"display:none; background-color:#9D6CFF; color:white; width:200px; height:30px; padding-left:5px; border-radius:4px; flex-direction:row; justify-content:space-around; align-items:center;\" onmouseover=\"this.style.backgroundColor='#BA9BF8'\" onmouseout=\"this.style.backgroundColor='#9D6CFF'\" onclick=\"window.commands?.execute('create-mitosheet-from-dataframe-output');\">See Full Dataframe in Mito</div> <script> if (window.commands.hasCommand('create-mitosheet-from-dataframe-output')) document.getElementById('a3b6160e-daff-48c8-8b26-baee6dbbb7c1').style.display = 'flex' </script> <table border=\"1\" class=\"dataframe\">\n",
       "  <thead>\n",
       "    <tr style=\"text-align: right;\">\n",
       "      <th></th>\n",
       "      <th>state_name_of_geography_a</th>\n",
       "      <th>county_name_of_geography_a</th>\n",
       "      <th>state_and_county_of_geography_a</th>\n",
       "      <th>region_code_geography_a</th>\n",
       "      <th>state_us_island_area_foreign_region_of_geography_b</th>\n",
       "      <th>county_name_of_geography_b</th>\n",
       "      <th>state_and_county_of_geography_b</th>\n",
       "      <th>flow_from_geography_b_to_geography_a</th>\n",
       "      <th>counterflow_from_geography_a_to_geography_b</th>\n",
       "      <th>net_migration_from_geography_b_to_geography_a1</th>\n",
       "      <th>...</th>\n",
       "      <th>2012</th>\n",
       "      <th>2013</th>\n",
       "      <th>2014</th>\n",
       "      <th>2015</th>\n",
       "      <th>2016</th>\n",
       "      <th>2017</th>\n",
       "      <th>2018</th>\n",
       "      <th>2019</th>\n",
       "      <th>2020</th>\n",
       "      <th>percent_price_change_2015_19</th>\n",
       "    </tr>\n",
       "  </thead>\n",
       "  <tbody>\n",
       "    <tr>\n",
       "      <th>0</th>\n",
       "      <td>Florida</td>\n",
       "      <td>Putnam County</td>\n",
       "      <td>Putnam County, Florida</td>\n",
       "      <td>12107</td>\n",
       "      <td>Florida</td>\n",
       "      <td>Flagler County</td>\n",
       "      <td>Flagler County, Florida</td>\n",
       "      <td>149</td>\n",
       "      <td>22.0</td>\n",
       "      <td>127.0</td>\n",
       "      <td>...</td>\n",
       "      <td>124.89</td>\n",
       "      <td>123.69</td>\n",
       "      <td>125.22</td>\n",
       "      <td>126.1</td>\n",
       "      <td>131.68</td>\n",
       "      <td>148.01</td>\n",
       "      <td>162.27</td>\n",
       "      <td>173.28</td>\n",
       "      <td>187.84</td>\n",
       "      <td>0.383805</td>\n",
       "    </tr>\n",
       "    <tr>\n",
       "      <th>1</th>\n",
       "      <td>Florida</td>\n",
       "      <td>Putnam County</td>\n",
       "      <td>Putnam County, Florida</td>\n",
       "      <td>12107</td>\n",
       "      <td>Florida</td>\n",
       "      <td>Franklin County</td>\n",
       "      <td>Franklin County, Florida</td>\n",
       "      <td>4</td>\n",
       "      <td>0.0</td>\n",
       "      <td>4.0</td>\n",
       "      <td>...</td>\n",
       "      <td>124.89</td>\n",
       "      <td>123.69</td>\n",
       "      <td>125.22</td>\n",
       "      <td>126.1</td>\n",
       "      <td>131.68</td>\n",
       "      <td>148.01</td>\n",
       "      <td>162.27</td>\n",
       "      <td>173.28</td>\n",
       "      <td>187.84</td>\n",
       "      <td>0.383805</td>\n",
       "    </tr>\n",
       "    <tr>\n",
       "      <th>2</th>\n",
       "      <td>Florida</td>\n",
       "      <td>Putnam County</td>\n",
       "      <td>Putnam County, Florida</td>\n",
       "      <td>12107</td>\n",
       "      <td>Florida</td>\n",
       "      <td>Gadsden County</td>\n",
       "      <td>Gadsden County, Florida</td>\n",
       "      <td>0</td>\n",
       "      <td>46.0</td>\n",
       "      <td>-46.0</td>\n",
       "      <td>...</td>\n",
       "      <td>124.89</td>\n",
       "      <td>123.69</td>\n",
       "      <td>125.22</td>\n",
       "      <td>126.1</td>\n",
       "      <td>131.68</td>\n",
       "      <td>148.01</td>\n",
       "      <td>162.27</td>\n",
       "      <td>173.28</td>\n",
       "      <td>187.84</td>\n",
       "      <td>0.383805</td>\n",
       "    </tr>\n",
       "    <tr>\n",
       "      <th>3</th>\n",
       "      <td>Florida</td>\n",
       "      <td>Putnam County</td>\n",
       "      <td>Putnam County, Florida</td>\n",
       "      <td>12107</td>\n",
       "      <td>Florida</td>\n",
       "      <td>Gilchrist County</td>\n",
       "      <td>Gilchrist County, Florida</td>\n",
       "      <td>12</td>\n",
       "      <td>8.0</td>\n",
       "      <td>4.0</td>\n",
       "      <td>...</td>\n",
       "      <td>124.89</td>\n",
       "      <td>123.69</td>\n",
       "      <td>125.22</td>\n",
       "      <td>126.1</td>\n",
       "      <td>131.68</td>\n",
       "      <td>148.01</td>\n",
       "      <td>162.27</td>\n",
       "      <td>173.28</td>\n",
       "      <td>187.84</td>\n",
       "      <td>0.383805</td>\n",
       "    </tr>\n",
       "    <tr>\n",
       "      <th>4</th>\n",
       "      <td>Florida</td>\n",
       "      <td>Putnam County</td>\n",
       "      <td>Putnam County, Florida</td>\n",
       "      <td>12107</td>\n",
       "      <td>Florida</td>\n",
       "      <td>Glades County</td>\n",
       "      <td>Glades County, Florida</td>\n",
       "      <td>19</td>\n",
       "      <td>0.0</td>\n",
       "      <td>19.0</td>\n",
       "      <td>...</td>\n",
       "      <td>124.89</td>\n",
       "      <td>123.69</td>\n",
       "      <td>125.22</td>\n",
       "      <td>126.1</td>\n",
       "      <td>131.68</td>\n",
       "      <td>148.01</td>\n",
       "      <td>162.27</td>\n",
       "      <td>173.28</td>\n",
       "      <td>187.84</td>\n",
       "      <td>0.383805</td>\n",
       "    </tr>\n",
       "  </tbody>\n",
       "</table></div>"
      ],
      "text/plain": [
       "  state_name_of_geography_a county_name_of_geography_a  \\\n",
       "0                   Florida              Putnam County   \n",
       "1                   Florida              Putnam County   \n",
       "2                   Florida              Putnam County   \n",
       "3                   Florida              Putnam County   \n",
       "4                   Florida              Putnam County   \n",
       "\n",
       "  state_and_county_of_geography_a region_code_geography_a  \\\n",
       "0          Putnam County, Florida                   12107   \n",
       "1          Putnam County, Florida                   12107   \n",
       "2          Putnam County, Florida                   12107   \n",
       "3          Putnam County, Florida                   12107   \n",
       "4          Putnam County, Florida                   12107   \n",
       "\n",
       "  state_us_island_area_foreign_region_of_geography_b  \\\n",
       "0                                            Florida   \n",
       "1                                            Florida   \n",
       "2                                            Florida   \n",
       "3                                            Florida   \n",
       "4                                            Florida   \n",
       "\n",
       "  county_name_of_geography_b state_and_county_of_geography_b  \\\n",
       "0             Flagler County         Flagler County, Florida   \n",
       "1            Franklin County        Franklin County, Florida   \n",
       "2             Gadsden County         Gadsden County, Florida   \n",
       "3           Gilchrist County       Gilchrist County, Florida   \n",
       "4              Glades County          Glades County, Florida   \n",
       "\n",
       "   flow_from_geography_b_to_geography_a  \\\n",
       "0                                   149   \n",
       "1                                     4   \n",
       "2                                     0   \n",
       "3                                    12   \n",
       "4                                    19   \n",
       "\n",
       "   counterflow_from_geography_a_to_geography_b  \\\n",
       "0                                         22.0   \n",
       "1                                          0.0   \n",
       "2                                         46.0   \n",
       "3                                          8.0   \n",
       "4                                          0.0   \n",
       "\n",
       "   net_migration_from_geography_b_to_geography_a1  ...    2012    2013  \\\n",
       "0                                           127.0  ...  124.89  123.69   \n",
       "1                                             4.0  ...  124.89  123.69   \n",
       "2                                           -46.0  ...  124.89  123.69   \n",
       "3                                             4.0  ...  124.89  123.69   \n",
       "4                                            19.0  ...  124.89  123.69   \n",
       "\n",
       "     2014   2015    2016    2017    2018    2019    2020  \\\n",
       "0  125.22  126.1  131.68  148.01  162.27  173.28  187.84   \n",
       "1  125.22  126.1  131.68  148.01  162.27  173.28  187.84   \n",
       "2  125.22  126.1  131.68  148.01  162.27  173.28  187.84   \n",
       "3  125.22  126.1  131.68  148.01  162.27  173.28  187.84   \n",
       "4  125.22  126.1  131.68  148.01  162.27  173.28  187.84   \n",
       "\n",
       "   percent_price_change_2015_19  \n",
       "0                      0.383805  \n",
       "1                      0.383805  \n",
       "2                      0.383805  \n",
       "3                      0.383805  \n",
       "4                      0.383805  \n",
       "\n",
       "[5 rows x 33 columns]"
      ]
     },
     "execution_count": 8,
     "metadata": {},
     "output_type": "execute_result"
    }
   ],
   "source": [
    "Migration_House_Price_df.head()"
   ]
  },
  {
   "cell_type": "code",
   "execution_count": 9,
   "id": "48c80e5a-9a9a-4c39-8c05-986a32ad0eb6",
   "metadata": {},
   "outputs": [],
   "source": [
    "# close connection to SQL database\n",
    "connection.close()"
   ]
  },
  {
   "cell_type": "markdown",
   "id": "7a39c9c4-d57e-4877-bee5-2a96ca5879cd",
   "metadata": {},
   "source": [
    "## Clean dataframes"
   ]
  },
  {
   "cell_type": "markdown",
   "id": "b6bbe8e4-3723-45d2-ad7a-c59d90df7094",
   "metadata": {},
   "source": [
    "### Clean up price change"
   ]
  },
  {
   "cell_type": "code",
   "execution_count": 10,
   "id": "de9d91ed-ff26-4799-9d6a-625d3e69d1e7",
   "metadata": {},
   "outputs": [
    {
     "data": {
      "text/html": [
       "<div><div id=7d6cb4e5-b98f-4824-a110-564aadf81e0e style=\"display:none; background-color:#9D6CFF; color:white; width:200px; height:30px; padding-left:5px; border-radius:4px; flex-direction:row; justify-content:space-around; align-items:center;\" onmouseover=\"this.style.backgroundColor='#BA9BF8'\" onmouseout=\"this.style.backgroundColor='#9D6CFF'\" onclick=\"window.commands?.execute('create-mitosheet-from-dataframe-output');\">See Full Dataframe in Mito</div> <script> if (window.commands.hasCommand('create-mitosheet-from-dataframe-output')) document.getElementById('7d6cb4e5-b98f-4824-a110-564aadf81e0e').style.display = 'flex' </script> <table border=\"1\" class=\"dataframe\">\n",
       "  <thead>\n",
       "    <tr style=\"text-align: right;\">\n",
       "      <th></th>\n",
       "      <th>state_and_county_of_geography_a</th>\n",
       "      <th>percent_price_change_2015_19</th>\n",
       "    </tr>\n",
       "  </thead>\n",
       "  <tbody>\n",
       "    <tr>\n",
       "      <th>0</th>\n",
       "      <td>Putnam County, Florida</td>\n",
       "      <td>0.383805</td>\n",
       "    </tr>\n",
       "    <tr>\n",
       "      <th>1</th>\n",
       "      <td>Putnam County, Florida</td>\n",
       "      <td>0.383805</td>\n",
       "    </tr>\n",
       "    <tr>\n",
       "      <th>2</th>\n",
       "      <td>Putnam County, Florida</td>\n",
       "      <td>0.383805</td>\n",
       "    </tr>\n",
       "    <tr>\n",
       "      <th>3</th>\n",
       "      <td>Putnam County, Florida</td>\n",
       "      <td>0.383805</td>\n",
       "    </tr>\n",
       "    <tr>\n",
       "      <th>4</th>\n",
       "      <td>Putnam County, Florida</td>\n",
       "      <td>0.383805</td>\n",
       "    </tr>\n",
       "  </tbody>\n",
       "</table></div>"
      ],
      "text/plain": [
       "  state_and_county_of_geography_a  percent_price_change_2015_19\n",
       "0          Putnam County, Florida                      0.383805\n",
       "1          Putnam County, Florida                      0.383805\n",
       "2          Putnam County, Florida                      0.383805\n",
       "3          Putnam County, Florida                      0.383805\n",
       "4          Putnam County, Florida                      0.383805"
      ]
     },
     "execution_count": 10,
     "metadata": {},
     "output_type": "execute_result"
    }
   ],
   "source": [
    "# Select columns for State and County A and housing price change percentage\n",
    "\n",
    "price_change_df = Migration_House_Price_df[['state_and_county_of_geography_a','percent_price_change_2015_19']]\n",
    "price_change_df.head()"
   ]
  },
  {
   "cell_type": "code",
   "execution_count": 11,
   "id": "ce918d85-ff90-43f3-86a3-e0a774f379f9",
   "metadata": {},
   "outputs": [
    {
     "data": {
      "text/html": [
       "<div><div id=596b4083-1546-45b0-86da-844b8657629b style=\"display:none; background-color:#9D6CFF; color:white; width:200px; height:30px; padding-left:5px; border-radius:4px; flex-direction:row; justify-content:space-around; align-items:center;\" onmouseover=\"this.style.backgroundColor='#BA9BF8'\" onmouseout=\"this.style.backgroundColor='#9D6CFF'\" onclick=\"window.commands?.execute('create-mitosheet-from-dataframe-output');\">See Full Dataframe in Mito</div> <script> if (window.commands.hasCommand('create-mitosheet-from-dataframe-output')) document.getElementById('596b4083-1546-45b0-86da-844b8657629b').style.display = 'flex' </script> <table border=\"1\" class=\"dataframe\">\n",
       "  <thead>\n",
       "    <tr style=\"text-align: right;\">\n",
       "      <th></th>\n",
       "      <th>state_and_county_of_geography_a</th>\n",
       "      <th>percent_price_change_2015_19</th>\n",
       "    </tr>\n",
       "  </thead>\n",
       "  <tbody>\n",
       "    <tr>\n",
       "      <th>0</th>\n",
       "      <td>Abbeville County, South Carolina</td>\n",
       "      <td>0.170454</td>\n",
       "    </tr>\n",
       "    <tr>\n",
       "      <th>1</th>\n",
       "      <td>Acadia Parish, Louisiana</td>\n",
       "      <td>0.100273</td>\n",
       "    </tr>\n",
       "    <tr>\n",
       "      <th>2</th>\n",
       "      <td>Accomack County, Virginia</td>\n",
       "      <td>0.073734</td>\n",
       "    </tr>\n",
       "    <tr>\n",
       "      <th>3</th>\n",
       "      <td>Ada County, Idaho</td>\n",
       "      <td>0.632257</td>\n",
       "    </tr>\n",
       "    <tr>\n",
       "      <th>4</th>\n",
       "      <td>Adair County, Iowa</td>\n",
       "      <td>0.062842</td>\n",
       "    </tr>\n",
       "  </tbody>\n",
       "</table></div>"
      ],
      "text/plain": [
       "    state_and_county_of_geography_a  percent_price_change_2015_19\n",
       "0  Abbeville County, South Carolina                      0.170454\n",
       "1          Acadia Parish, Louisiana                      0.100273\n",
       "2         Accomack County, Virginia                      0.073734\n",
       "3                 Ada County, Idaho                      0.632257\n",
       "4                Adair County, Iowa                      0.062842"
      ]
     },
     "execution_count": 11,
     "metadata": {},
     "output_type": "execute_result"
    }
   ],
   "source": [
    "# Use groupby() and mean() to get rid of duplicate rows\n",
    "\n",
    "price_change_df = price_change_df.groupby(['state_and_county_of_geography_a'], as_index=False).mean()\n",
    "price_change_df.head()"
   ]
  },
  {
   "cell_type": "code",
   "execution_count": 12,
   "id": "c4671523-5a9e-4e10-947c-d10227998c58",
   "metadata": {},
   "outputs": [
    {
     "data": {
      "text/html": [
       "<div><div id=aa8ff45f-54d3-47ca-9903-7f576b9f2a61 style=\"display:none; background-color:#9D6CFF; color:white; width:200px; height:30px; padding-left:5px; border-radius:4px; flex-direction:row; justify-content:space-around; align-items:center;\" onmouseover=\"this.style.backgroundColor='#BA9BF8'\" onmouseout=\"this.style.backgroundColor='#9D6CFF'\" onclick=\"window.commands?.execute('create-mitosheet-from-dataframe-output');\">See Full Dataframe in Mito</div> <script> if (window.commands.hasCommand('create-mitosheet-from-dataframe-output')) document.getElementById('aa8ff45f-54d3-47ca-9903-7f576b9f2a61').style.display = 'flex' </script> <table border=\"1\" class=\"dataframe\">\n",
       "  <thead>\n",
       "    <tr style=\"text-align: right;\">\n",
       "      <th></th>\n",
       "      <th>State_and_County</th>\n",
       "      <th>percent_price_change_2015_19</th>\n",
       "    </tr>\n",
       "  </thead>\n",
       "  <tbody>\n",
       "    <tr>\n",
       "      <th>0</th>\n",
       "      <td>Abbeville County, South Carolina</td>\n",
       "      <td>0.170454</td>\n",
       "    </tr>\n",
       "    <tr>\n",
       "      <th>1</th>\n",
       "      <td>Acadia Parish, Louisiana</td>\n",
       "      <td>0.100273</td>\n",
       "    </tr>\n",
       "    <tr>\n",
       "      <th>2</th>\n",
       "      <td>Accomack County, Virginia</td>\n",
       "      <td>0.073734</td>\n",
       "    </tr>\n",
       "    <tr>\n",
       "      <th>3</th>\n",
       "      <td>Ada County, Idaho</td>\n",
       "      <td>0.632257</td>\n",
       "    </tr>\n",
       "    <tr>\n",
       "      <th>4</th>\n",
       "      <td>Adair County, Iowa</td>\n",
       "      <td>0.062842</td>\n",
       "    </tr>\n",
       "  </tbody>\n",
       "</table></div>"
      ],
      "text/plain": [
       "                   State_and_County  percent_price_change_2015_19\n",
       "0  Abbeville County, South Carolina                      0.170454\n",
       "1          Acadia Parish, Louisiana                      0.100273\n",
       "2         Accomack County, Virginia                      0.073734\n",
       "3                 Ada County, Idaho                      0.632257\n",
       "4                Adair County, Iowa                      0.062842"
      ]
     },
     "execution_count": 12,
     "metadata": {},
     "output_type": "execute_result"
    }
   ],
   "source": [
    "# rename column\n",
    "price_change_df.rename(columns={'state_and_county_of_geography_a':'State_and_County'}, inplace=True)\n",
    "price_change_df.head()"
   ]
  },
  {
   "cell_type": "markdown",
   "id": "9d5d4c7b-6c68-4e71-97a1-7556154979d9",
   "metadata": {},
   "source": [
    "### Clean up net migration"
   ]
  },
  {
   "cell_type": "code",
   "execution_count": 13,
   "id": "17dd1cdd-d63b-4814-949d-e074ea61d086",
   "metadata": {},
   "outputs": [
    {
     "data": {
      "text/html": [
       "<div><div id=1ddca7e3-b781-41c3-863e-fcff9106578f style=\"display:none; background-color:#9D6CFF; color:white; width:200px; height:30px; padding-left:5px; border-radius:4px; flex-direction:row; justify-content:space-around; align-items:center;\" onmouseover=\"this.style.backgroundColor='#BA9BF8'\" onmouseout=\"this.style.backgroundColor='#9D6CFF'\" onclick=\"window.commands?.execute('create-mitosheet-from-dataframe-output');\">See Full Dataframe in Mito</div> <script> if (window.commands.hasCommand('create-mitosheet-from-dataframe-output')) document.getElementById('1ddca7e3-b781-41c3-863e-fcff9106578f').style.display = 'flex' </script> <table border=\"1\" class=\"dataframe\">\n",
       "  <thead>\n",
       "    <tr style=\"text-align: right;\">\n",
       "      <th></th>\n",
       "      <th>state_and_county_of_geography_a</th>\n",
       "      <th>net_migration_from_geography_b_to_geography_a1</th>\n",
       "    </tr>\n",
       "  </thead>\n",
       "  <tbody>\n",
       "    <tr>\n",
       "      <th>0</th>\n",
       "      <td>Putnam County, Florida</td>\n",
       "      <td>127.0</td>\n",
       "    </tr>\n",
       "    <tr>\n",
       "      <th>1</th>\n",
       "      <td>Putnam County, Florida</td>\n",
       "      <td>4.0</td>\n",
       "    </tr>\n",
       "    <tr>\n",
       "      <th>2</th>\n",
       "      <td>Putnam County, Florida</td>\n",
       "      <td>-46.0</td>\n",
       "    </tr>\n",
       "    <tr>\n",
       "      <th>3</th>\n",
       "      <td>Putnam County, Florida</td>\n",
       "      <td>4.0</td>\n",
       "    </tr>\n",
       "    <tr>\n",
       "      <th>4</th>\n",
       "      <td>Putnam County, Florida</td>\n",
       "      <td>19.0</td>\n",
       "    </tr>\n",
       "  </tbody>\n",
       "</table></div>"
      ],
      "text/plain": [
       "  state_and_county_of_geography_a  \\\n",
       "0          Putnam County, Florida   \n",
       "1          Putnam County, Florida   \n",
       "2          Putnam County, Florida   \n",
       "3          Putnam County, Florida   \n",
       "4          Putnam County, Florida   \n",
       "\n",
       "   net_migration_from_geography_b_to_geography_a1  \n",
       "0                                           127.0  \n",
       "1                                             4.0  \n",
       "2                                           -46.0  \n",
       "3                                             4.0  \n",
       "4                                            19.0  "
      ]
     },
     "execution_count": 13,
     "metadata": {},
     "output_type": "execute_result"
    }
   ],
   "source": [
    "net_migration_df = Migration_House_Price_df[['state_and_county_of_geography_a','net_migration_from_geography_b_to_geography_a1']]\n",
    "net_migration_df.head()"
   ]
  },
  {
   "cell_type": "code",
   "execution_count": 14,
   "id": "4baad9e0-0451-4bd9-a5c8-f09211b00cd2",
   "metadata": {},
   "outputs": [
    {
     "data": {
      "text/html": [
       "<div><div id=c8485cac-76ac-4d58-ab91-a17d5b487ad4 style=\"display:none; background-color:#9D6CFF; color:white; width:200px; height:30px; padding-left:5px; border-radius:4px; flex-direction:row; justify-content:space-around; align-items:center;\" onmouseover=\"this.style.backgroundColor='#BA9BF8'\" onmouseout=\"this.style.backgroundColor='#9D6CFF'\" onclick=\"window.commands?.execute('create-mitosheet-from-dataframe-output');\">See Full Dataframe in Mito</div> <script> if (window.commands.hasCommand('create-mitosheet-from-dataframe-output')) document.getElementById('c8485cac-76ac-4d58-ab91-a17d5b487ad4').style.display = 'flex' </script> <table border=\"1\" class=\"dataframe\">\n",
       "  <thead>\n",
       "    <tr style=\"text-align: right;\">\n",
       "      <th></th>\n",
       "      <th>state_and_county_of_geography_a</th>\n",
       "      <th>net_migration_from_geography_b_to_geography_a1</th>\n",
       "    </tr>\n",
       "  </thead>\n",
       "  <tbody>\n",
       "    <tr>\n",
       "      <th>0</th>\n",
       "      <td>Abbeville County, South Carolina</td>\n",
       "      <td>110.0</td>\n",
       "    </tr>\n",
       "    <tr>\n",
       "      <th>1</th>\n",
       "      <td>Acadia Parish, Louisiana</td>\n",
       "      <td>-1701.0</td>\n",
       "    </tr>\n",
       "    <tr>\n",
       "      <th>2</th>\n",
       "      <td>Accomack County, Virginia</td>\n",
       "      <td>-953.0</td>\n",
       "    </tr>\n",
       "    <tr>\n",
       "      <th>3</th>\n",
       "      <td>Ada County, Idaho</td>\n",
       "      <td>4908.0</td>\n",
       "    </tr>\n",
       "    <tr>\n",
       "      <th>4</th>\n",
       "      <td>Adair County, Iowa</td>\n",
       "      <td>-408.0</td>\n",
       "    </tr>\n",
       "  </tbody>\n",
       "</table></div>"
      ],
      "text/plain": [
       "    state_and_county_of_geography_a  \\\n",
       "0  Abbeville County, South Carolina   \n",
       "1          Acadia Parish, Louisiana   \n",
       "2         Accomack County, Virginia   \n",
       "3                 Ada County, Idaho   \n",
       "4                Adair County, Iowa   \n",
       "\n",
       "   net_migration_from_geography_b_to_geography_a1  \n",
       "0                                           110.0  \n",
       "1                                         -1701.0  \n",
       "2                                          -953.0  \n",
       "3                                          4908.0  \n",
       "4                                          -408.0  "
      ]
     },
     "execution_count": 14,
     "metadata": {},
     "output_type": "execute_result"
    }
   ],
   "source": [
    "# Find sum of net migration per county\n",
    "net_migration_df = net_migration_df.groupby(['state_and_county_of_geography_a'], as_index=False).sum()\n",
    "net_migration_df.head()"
   ]
  },
  {
   "cell_type": "code",
   "execution_count": 15,
   "id": "f2c9eacb-aa8c-48b1-9b43-1a1a7af45403",
   "metadata": {},
   "outputs": [
    {
     "data": {
      "text/html": [
       "<div><div id=36a8b6ed-184f-4eef-8f48-2758c1057a4e style=\"display:none; background-color:#9D6CFF; color:white; width:200px; height:30px; padding-left:5px; border-radius:4px; flex-direction:row; justify-content:space-around; align-items:center;\" onmouseover=\"this.style.backgroundColor='#BA9BF8'\" onmouseout=\"this.style.backgroundColor='#9D6CFF'\" onclick=\"window.commands?.execute('create-mitosheet-from-dataframe-output');\">See Full Dataframe in Mito</div> <script> if (window.commands.hasCommand('create-mitosheet-from-dataframe-output')) document.getElementById('36a8b6ed-184f-4eef-8f48-2758c1057a4e').style.display = 'flex' </script> <table border=\"1\" class=\"dataframe\">\n",
       "  <thead>\n",
       "    <tr style=\"text-align: right;\">\n",
       "      <th></th>\n",
       "      <th>State_and_County</th>\n",
       "      <th>Net_Migration</th>\n",
       "    </tr>\n",
       "  </thead>\n",
       "  <tbody>\n",
       "    <tr>\n",
       "      <th>0</th>\n",
       "      <td>Abbeville County, South Carolina</td>\n",
       "      <td>110.0</td>\n",
       "    </tr>\n",
       "    <tr>\n",
       "      <th>1</th>\n",
       "      <td>Acadia Parish, Louisiana</td>\n",
       "      <td>-1701.0</td>\n",
       "    </tr>\n",
       "    <tr>\n",
       "      <th>2</th>\n",
       "      <td>Accomack County, Virginia</td>\n",
       "      <td>-953.0</td>\n",
       "    </tr>\n",
       "    <tr>\n",
       "      <th>3</th>\n",
       "      <td>Ada County, Idaho</td>\n",
       "      <td>4908.0</td>\n",
       "    </tr>\n",
       "    <tr>\n",
       "      <th>4</th>\n",
       "      <td>Adair County, Iowa</td>\n",
       "      <td>-408.0</td>\n",
       "    </tr>\n",
       "  </tbody>\n",
       "</table></div>"
      ],
      "text/plain": [
       "                   State_and_County  Net_Migration\n",
       "0  Abbeville County, South Carolina          110.0\n",
       "1          Acadia Parish, Louisiana        -1701.0\n",
       "2         Accomack County, Virginia         -953.0\n",
       "3                 Ada County, Idaho         4908.0\n",
       "4                Adair County, Iowa         -408.0"
      ]
     },
     "execution_count": 15,
     "metadata": {},
     "output_type": "execute_result"
    }
   ],
   "source": [
    "net_migration_df.rename(columns={'state_and_county_of_geography_a':'State_and_County', \n",
    "                                  'net_migration_from_geography_b_to_geography_a1':'Net_Migration'}, inplace=True)\n",
    "net_migration_df.head()"
   ]
  },
  {
   "cell_type": "markdown",
   "id": "70882a2d-690c-42f1-86b1-ed7da3d12d18",
   "metadata": {},
   "source": [
    "### Pulling in total population figures"
   ]
  },
  {
   "cell_type": "code",
   "execution_count": 16,
   "id": "40611e51-1855-4c49-9ba3-df7a3e4192e3",
   "metadata": {},
   "outputs": [
    {
     "data": {
      "text/html": [
       "<div><div id=d306ef2d-0cae-4b08-991f-0aced6b13499 style=\"display:none; background-color:#9D6CFF; color:white; width:200px; height:30px; padding-left:5px; border-radius:4px; flex-direction:row; justify-content:space-around; align-items:center;\" onmouseover=\"this.style.backgroundColor='#BA9BF8'\" onmouseout=\"this.style.backgroundColor='#9D6CFF'\" onclick=\"window.commands?.execute('create-mitosheet-from-dataframe-output');\">See Full Dataframe in Mito</div> <script> if (window.commands.hasCommand('create-mitosheet-from-dataframe-output')) document.getElementById('d306ef2d-0cae-4b08-991f-0aced6b13499').style.display = 'flex' </script> <table border=\"1\" class=\"dataframe\">\n",
       "  <thead>\n",
       "    <tr style=\"text-align: right;\">\n",
       "      <th></th>\n",
       "      <th>SUMLEV</th>\n",
       "      <th>REGION</th>\n",
       "      <th>DIVISION</th>\n",
       "      <th>STATE</th>\n",
       "      <th>COUNTY</th>\n",
       "      <th>STNAME</th>\n",
       "      <th>CTYNAME</th>\n",
       "      <th>State and County name</th>\n",
       "      <th>CENSUS2010POP</th>\n",
       "      <th>ESTIMATESBASE2010</th>\n",
       "      <th>...</th>\n",
       "      <th>RDOMESTICMIG2019</th>\n",
       "      <th>RNETMIG2011</th>\n",
       "      <th>RNETMIG2012</th>\n",
       "      <th>RNETMIG2013</th>\n",
       "      <th>RNETMIG2014</th>\n",
       "      <th>RNETMIG2015</th>\n",
       "      <th>RNETMIG2016</th>\n",
       "      <th>RNETMIG2017</th>\n",
       "      <th>RNETMIG2018</th>\n",
       "      <th>RNETMIG2019</th>\n",
       "    </tr>\n",
       "  </thead>\n",
       "  <tbody>\n",
       "    <tr>\n",
       "      <th>0</th>\n",
       "      <td>40</td>\n",
       "      <td>3</td>\n",
       "      <td>6</td>\n",
       "      <td>1</td>\n",
       "      <td>0</td>\n",
       "      <td>Alabama</td>\n",
       "      <td>Alabama</td>\n",
       "      <td>Alabama, Alabama</td>\n",
       "      <td>4779736</td>\n",
       "      <td>4780125</td>\n",
       "      <td>...</td>\n",
       "      <td>1.917501</td>\n",
       "      <td>0.578434</td>\n",
       "      <td>1.186314</td>\n",
       "      <td>1.522549</td>\n",
       "      <td>0.563489</td>\n",
       "      <td>0.626357</td>\n",
       "      <td>0.745172</td>\n",
       "      <td>1.090366</td>\n",
       "      <td>1.773786</td>\n",
       "      <td>2.483744</td>\n",
       "    </tr>\n",
       "    <tr>\n",
       "      <th>1</th>\n",
       "      <td>50</td>\n",
       "      <td>3</td>\n",
       "      <td>6</td>\n",
       "      <td>1</td>\n",
       "      <td>1</td>\n",
       "      <td>Alabama</td>\n",
       "      <td>Autauga County</td>\n",
       "      <td>Autauga County, Alabama</td>\n",
       "      <td>54571</td>\n",
       "      <td>54597</td>\n",
       "      <td>...</td>\n",
       "      <td>4.847310</td>\n",
       "      <td>6.018182</td>\n",
       "      <td>-6.226119</td>\n",
       "      <td>-3.902226</td>\n",
       "      <td>1.970443</td>\n",
       "      <td>-1.712875</td>\n",
       "      <td>4.777171</td>\n",
       "      <td>0.849656</td>\n",
       "      <td>0.540916</td>\n",
       "      <td>4.560062</td>\n",
       "    </tr>\n",
       "    <tr>\n",
       "      <th>2</th>\n",
       "      <td>50</td>\n",
       "      <td>3</td>\n",
       "      <td>6</td>\n",
       "      <td>1</td>\n",
       "      <td>3</td>\n",
       "      <td>Alabama</td>\n",
       "      <td>Baldwin County</td>\n",
       "      <td>Baldwin County, Alabama</td>\n",
       "      <td>182265</td>\n",
       "      <td>182265</td>\n",
       "      <td>...</td>\n",
       "      <td>24.017829</td>\n",
       "      <td>16.641870</td>\n",
       "      <td>17.488579</td>\n",
       "      <td>22.751474</td>\n",
       "      <td>20.184334</td>\n",
       "      <td>17.725964</td>\n",
       "      <td>21.279291</td>\n",
       "      <td>22.398256</td>\n",
       "      <td>24.727215</td>\n",
       "      <td>24.380567</td>\n",
       "    </tr>\n",
       "    <tr>\n",
       "      <th>3</th>\n",
       "      <td>50</td>\n",
       "      <td>3</td>\n",
       "      <td>6</td>\n",
       "      <td>1</td>\n",
       "      <td>5</td>\n",
       "      <td>Alabama</td>\n",
       "      <td>Barbour County</td>\n",
       "      <td>Barbour County, Alabama</td>\n",
       "      <td>27457</td>\n",
       "      <td>27455</td>\n",
       "      <td>...</td>\n",
       "      <td>-5.690302</td>\n",
       "      <td>0.292676</td>\n",
       "      <td>-6.897817</td>\n",
       "      <td>-8.132185</td>\n",
       "      <td>-5.140431</td>\n",
       "      <td>-15.724575</td>\n",
       "      <td>-18.238016</td>\n",
       "      <td>-24.998528</td>\n",
       "      <td>-8.754922</td>\n",
       "      <td>-5.165664</td>\n",
       "    </tr>\n",
       "    <tr>\n",
       "      <th>4</th>\n",
       "      <td>50</td>\n",
       "      <td>3</td>\n",
       "      <td>6</td>\n",
       "      <td>1</td>\n",
       "      <td>7</td>\n",
       "      <td>Alabama</td>\n",
       "      <td>Bibb County</td>\n",
       "      <td>Bibb County, Alabama</td>\n",
       "      <td>22915</td>\n",
       "      <td>22915</td>\n",
       "      <td>...</td>\n",
       "      <td>1.385134</td>\n",
       "      <td>-4.998356</td>\n",
       "      <td>-3.787545</td>\n",
       "      <td>-5.797999</td>\n",
       "      <td>1.331144</td>\n",
       "      <td>1.329817</td>\n",
       "      <td>-0.708717</td>\n",
       "      <td>-3.234669</td>\n",
       "      <td>-6.857092</td>\n",
       "      <td>1.831952</td>\n",
       "    </tr>\n",
       "  </tbody>\n",
       "</table></div>"
      ],
      "text/plain": [
       "   SUMLEV  REGION  DIVISION  STATE  COUNTY   STNAME         CTYNAME  \\\n",
       "0      40       3         6      1       0  Alabama         Alabama   \n",
       "1      50       3         6      1       1  Alabama  Autauga County   \n",
       "2      50       3         6      1       3  Alabama  Baldwin County   \n",
       "3      50       3         6      1       5  Alabama  Barbour County   \n",
       "4      50       3         6      1       7  Alabama     Bibb County   \n",
       "\n",
       "     State and County name  CENSUS2010POP  ESTIMATESBASE2010  ...  \\\n",
       "0         Alabama, Alabama        4779736            4780125  ...   \n",
       "1  Autauga County, Alabama          54571              54597  ...   \n",
       "2  Baldwin County, Alabama         182265             182265  ...   \n",
       "3  Barbour County, Alabama          27457              27455  ...   \n",
       "4     Bibb County, Alabama          22915              22915  ...   \n",
       "\n",
       "   RDOMESTICMIG2019  RNETMIG2011  RNETMIG2012  RNETMIG2013  RNETMIG2014  \\\n",
       "0          1.917501     0.578434     1.186314     1.522549     0.563489   \n",
       "1          4.847310     6.018182    -6.226119    -3.902226     1.970443   \n",
       "2         24.017829    16.641870    17.488579    22.751474    20.184334   \n",
       "3         -5.690302     0.292676    -6.897817    -8.132185    -5.140431   \n",
       "4          1.385134    -4.998356    -3.787545    -5.797999     1.331144   \n",
       "\n",
       "   RNETMIG2015  RNETMIG2016  RNETMIG2017  RNETMIG2018  RNETMIG2019  \n",
       "0     0.626357     0.745172     1.090366     1.773786     2.483744  \n",
       "1    -1.712875     4.777171     0.849656     0.540916     4.560062  \n",
       "2    17.725964    21.279291    22.398256    24.727215    24.380567  \n",
       "3   -15.724575   -18.238016   -24.998528    -8.754922    -5.165664  \n",
       "4     1.329817    -0.708717    -3.234669    -6.857092     1.831952  \n",
       "\n",
       "[5 rows x 165 columns]"
      ]
     },
     "execution_count": 16,
     "metadata": {},
     "output_type": "execute_result"
    }
   ],
   "source": [
    "# load total county population data into dataframe\n",
    "county_pop_df = pd.read_csv('Resources/County_population_totals_2010_2019_co-est2019-alldata.csv',encoding = \"ISO-8859-1\")\n",
    "county_pop_df.head()"
   ]
  },
  {
   "cell_type": "code",
   "execution_count": 17,
   "id": "af9728a3-e19b-48e0-9cb4-5030ed4a7db3",
   "metadata": {},
   "outputs": [
    {
     "data": {
      "text/html": [
       "<div><div id=ee60bcaa-817c-4c9b-ae47-fee2601c27f7 style=\"display:none; background-color:#9D6CFF; color:white; width:200px; height:30px; padding-left:5px; border-radius:4px; flex-direction:row; justify-content:space-around; align-items:center;\" onmouseover=\"this.style.backgroundColor='#BA9BF8'\" onmouseout=\"this.style.backgroundColor='#9D6CFF'\" onclick=\"window.commands?.execute('create-mitosheet-from-dataframe-output');\">See Full Dataframe in Mito</div> <script> if (window.commands.hasCommand('create-mitosheet-from-dataframe-output')) document.getElementById('ee60bcaa-817c-4c9b-ae47-fee2601c27f7').style.display = 'flex' </script> <table border=\"1\" class=\"dataframe\">\n",
       "  <thead>\n",
       "    <tr style=\"text-align: right;\">\n",
       "      <th></th>\n",
       "      <th>State_and_County</th>\n",
       "      <th>Population_2015</th>\n",
       "    </tr>\n",
       "  </thead>\n",
       "  <tbody>\n",
       "    <tr>\n",
       "      <th>0</th>\n",
       "      <td>Alabama, Alabama</td>\n",
       "      <td>4852347</td>\n",
       "    </tr>\n",
       "    <tr>\n",
       "      <th>1</th>\n",
       "      <td>Autauga County, Alabama</td>\n",
       "      <td>54864</td>\n",
       "    </tr>\n",
       "    <tr>\n",
       "      <th>2</th>\n",
       "      <td>Baldwin County, Alabama</td>\n",
       "      <td>202939</td>\n",
       "    </tr>\n",
       "    <tr>\n",
       "      <th>3</th>\n",
       "      <td>Barbour County, Alabama</td>\n",
       "      <td>26283</td>\n",
       "    </tr>\n",
       "    <tr>\n",
       "      <th>4</th>\n",
       "      <td>Bibb County, Alabama</td>\n",
       "      <td>22566</td>\n",
       "    </tr>\n",
       "  </tbody>\n",
       "</table></div>"
      ],
      "text/plain": [
       "          State_and_County  Population_2015\n",
       "0         Alabama, Alabama          4852347\n",
       "1  Autauga County, Alabama            54864\n",
       "2  Baldwin County, Alabama           202939\n",
       "3  Barbour County, Alabama            26283\n",
       "4     Bibb County, Alabama            22566"
      ]
     },
     "execution_count": 17,
     "metadata": {},
     "output_type": "execute_result"
    }
   ],
   "source": [
    "# Filter out columns irrelevant to 2015 population and rename columns\n",
    "county_pop_2015_df = county_pop_df[['State and County name','POPESTIMATE2015']]\n",
    "county_pop_2015_df.rename(columns={'State and County name':'State_and_County', 'POPESTIMATE2015':'Population_2015'}, inplace=True)\n",
    "county_pop_2015_df.head()"
   ]
  },
  {
   "cell_type": "code",
   "execution_count": 18,
   "id": "9969fbb6-3a6a-4219-a561-7736bae50e77",
   "metadata": {},
   "outputs": [
    {
     "data": {
      "text/html": [
       "<div><div id=0d331119-6eb6-46ea-9ec7-c35c365e6b32 style=\"display:none; background-color:#9D6CFF; color:white; width:200px; height:30px; padding-left:5px; border-radius:4px; flex-direction:row; justify-content:space-around; align-items:center;\" onmouseover=\"this.style.backgroundColor='#BA9BF8'\" onmouseout=\"this.style.backgroundColor='#9D6CFF'\" onclick=\"window.commands?.execute('create-mitosheet-from-dataframe-output');\">See Full Dataframe in Mito</div> <script> if (window.commands.hasCommand('create-mitosheet-from-dataframe-output')) document.getElementById('0d331119-6eb6-46ea-9ec7-c35c365e6b32').style.display = 'flex' </script> <table border=\"1\" class=\"dataframe\">\n",
       "  <thead>\n",
       "    <tr style=\"text-align: right;\">\n",
       "      <th></th>\n",
       "      <th>State_and_County</th>\n",
       "      <th>Population_2015</th>\n",
       "      <th>Net_Migration</th>\n",
       "    </tr>\n",
       "  </thead>\n",
       "  <tbody>\n",
       "    <tr>\n",
       "      <th>0</th>\n",
       "      <td>Autauga County, Alabama</td>\n",
       "      <td>54864</td>\n",
       "      <td>-2535.0</td>\n",
       "    </tr>\n",
       "    <tr>\n",
       "      <th>1</th>\n",
       "      <td>Baldwin County, Alabama</td>\n",
       "      <td>202939</td>\n",
       "      <td>2295.0</td>\n",
       "    </tr>\n",
       "    <tr>\n",
       "      <th>2</th>\n",
       "      <td>Barbour County, Alabama</td>\n",
       "      <td>26283</td>\n",
       "      <td>-287.0</td>\n",
       "    </tr>\n",
       "    <tr>\n",
       "      <th>3</th>\n",
       "      <td>Bibb County, Alabama</td>\n",
       "      <td>22566</td>\n",
       "      <td>156.0</td>\n",
       "    </tr>\n",
       "    <tr>\n",
       "      <th>4</th>\n",
       "      <td>Blount County, Alabama</td>\n",
       "      <td>57526</td>\n",
       "      <td>-753.0</td>\n",
       "    </tr>\n",
       "  </tbody>\n",
       "</table></div>"
      ],
      "text/plain": [
       "          State_and_County  Population_2015  Net_Migration\n",
       "0  Autauga County, Alabama            54864        -2535.0\n",
       "1  Baldwin County, Alabama           202939         2295.0\n",
       "2  Barbour County, Alabama            26283         -287.0\n",
       "3     Bibb County, Alabama            22566          156.0\n",
       "4   Blount County, Alabama            57526         -753.0"
      ]
     },
     "execution_count": 18,
     "metadata": {},
     "output_type": "execute_result"
    }
   ],
   "source": [
    "# merge net migration and total population data frames\n",
    "migration_percentage_df = county_pop_2015_df.merge(net_migration_df, on='State_and_County')\n",
    "migration_percentage_df.head()"
   ]
  },
  {
   "cell_type": "code",
   "execution_count": 19,
   "id": "97ec0af5-a067-46d9-94b8-c4ade187dc49",
   "metadata": {},
   "outputs": [
    {
     "data": {
      "text/html": [
       "<div><div id=6b2026a8-b567-4035-851d-aab808469263 style=\"display:none; background-color:#9D6CFF; color:white; width:200px; height:30px; padding-left:5px; border-radius:4px; flex-direction:row; justify-content:space-around; align-items:center;\" onmouseover=\"this.style.backgroundColor='#BA9BF8'\" onmouseout=\"this.style.backgroundColor='#9D6CFF'\" onclick=\"window.commands?.execute('create-mitosheet-from-dataframe-output');\">See Full Dataframe in Mito</div> <script> if (window.commands.hasCommand('create-mitosheet-from-dataframe-output')) document.getElementById('6b2026a8-b567-4035-851d-aab808469263').style.display = 'flex' </script> <table border=\"1\" class=\"dataframe\">\n",
       "  <thead>\n",
       "    <tr style=\"text-align: right;\">\n",
       "      <th></th>\n",
       "      <th>State_and_County</th>\n",
       "      <th>Population_2015</th>\n",
       "      <th>Net_Migration</th>\n",
       "      <th>%_Change_Due_to_Migration</th>\n",
       "    </tr>\n",
       "  </thead>\n",
       "  <tbody>\n",
       "    <tr>\n",
       "      <th>0</th>\n",
       "      <td>Autauga County, Alabama</td>\n",
       "      <td>54864</td>\n",
       "      <td>-2535.0</td>\n",
       "      <td>-0.046205</td>\n",
       "    </tr>\n",
       "    <tr>\n",
       "      <th>1</th>\n",
       "      <td>Baldwin County, Alabama</td>\n",
       "      <td>202939</td>\n",
       "      <td>2295.0</td>\n",
       "      <td>0.011309</td>\n",
       "    </tr>\n",
       "    <tr>\n",
       "      <th>2</th>\n",
       "      <td>Barbour County, Alabama</td>\n",
       "      <td>26283</td>\n",
       "      <td>-287.0</td>\n",
       "      <td>-0.010920</td>\n",
       "    </tr>\n",
       "    <tr>\n",
       "      <th>3</th>\n",
       "      <td>Bibb County, Alabama</td>\n",
       "      <td>22566</td>\n",
       "      <td>156.0</td>\n",
       "      <td>0.006913</td>\n",
       "    </tr>\n",
       "    <tr>\n",
       "      <th>4</th>\n",
       "      <td>Blount County, Alabama</td>\n",
       "      <td>57526</td>\n",
       "      <td>-753.0</td>\n",
       "      <td>-0.013090</td>\n",
       "    </tr>\n",
       "  </tbody>\n",
       "</table></div>"
      ],
      "text/plain": [
       "          State_and_County  Population_2015  Net_Migration  \\\n",
       "0  Autauga County, Alabama            54864        -2535.0   \n",
       "1  Baldwin County, Alabama           202939         2295.0   \n",
       "2  Barbour County, Alabama            26283         -287.0   \n",
       "3     Bibb County, Alabama            22566          156.0   \n",
       "4   Blount County, Alabama            57526         -753.0   \n",
       "\n",
       "   %_Change_Due_to_Migration  \n",
       "0                  -0.046205  \n",
       "1                   0.011309  \n",
       "2                  -0.010920  \n",
       "3                   0.006913  \n",
       "4                  -0.013090  "
      ]
     },
     "execution_count": 19,
     "metadata": {},
     "output_type": "execute_result"
    }
   ],
   "source": [
    "# calculate population change due to migration\n",
    "migration_percentage_df['%_Change_Due_to_Migration'] = migration_percentage_df['Net_Migration']/migration_percentage_df['Population_2015']\n",
    "migration_percentage_df.head()"
   ]
  },
  {
   "cell_type": "markdown",
   "id": "6367ef02-5e59-4fc0-baa8-1c731a6c0308",
   "metadata": {},
   "source": [
    "## Combine price change and migration dataframes"
   ]
  },
  {
   "cell_type": "code",
   "execution_count": 20,
   "id": "f0d43b48-664b-4628-b609-17ae6de59015",
   "metadata": {},
   "outputs": [
    {
     "data": {
      "text/html": [
       "<div><div id=0eb98413-a662-4295-b20e-9f356460f3f4 style=\"display:none; background-color:#9D6CFF; color:white; width:200px; height:30px; padding-left:5px; border-radius:4px; flex-direction:row; justify-content:space-around; align-items:center;\" onmouseover=\"this.style.backgroundColor='#BA9BF8'\" onmouseout=\"this.style.backgroundColor='#9D6CFF'\" onclick=\"window.commands?.execute('create-mitosheet-from-dataframe-output');\">See Full Dataframe in Mito</div> <script> if (window.commands.hasCommand('create-mitosheet-from-dataframe-output')) document.getElementById('0eb98413-a662-4295-b20e-9f356460f3f4').style.display = 'flex' </script> <table border=\"1\" class=\"dataframe\">\n",
       "  <thead>\n",
       "    <tr style=\"text-align: right;\">\n",
       "      <th></th>\n",
       "      <th>State_and_County</th>\n",
       "      <th>percent_price_change_2015_19</th>\n",
       "      <th>Population_2015</th>\n",
       "      <th>Net_Migration</th>\n",
       "      <th>%_Change_Due_to_Migration</th>\n",
       "    </tr>\n",
       "  </thead>\n",
       "  <tbody>\n",
       "    <tr>\n",
       "      <th>0</th>\n",
       "      <td>Abbeville County, South Carolina</td>\n",
       "      <td>0.170454</td>\n",
       "      <td>24796</td>\n",
       "      <td>110.0</td>\n",
       "      <td>0.004436</td>\n",
       "    </tr>\n",
       "    <tr>\n",
       "      <th>1</th>\n",
       "      <td>Acadia Parish, Louisiana</td>\n",
       "      <td>0.100273</td>\n",
       "      <td>62679</td>\n",
       "      <td>-1701.0</td>\n",
       "      <td>-0.027138</td>\n",
       "    </tr>\n",
       "    <tr>\n",
       "      <th>2</th>\n",
       "      <td>Accomack County, Virginia</td>\n",
       "      <td>0.073734</td>\n",
       "      <td>32914</td>\n",
       "      <td>-953.0</td>\n",
       "      <td>-0.028954</td>\n",
       "    </tr>\n",
       "    <tr>\n",
       "      <th>3</th>\n",
       "      <td>Ada County, Idaho</td>\n",
       "      <td>0.632257</td>\n",
       "      <td>432862</td>\n",
       "      <td>4908.0</td>\n",
       "      <td>0.011338</td>\n",
       "    </tr>\n",
       "    <tr>\n",
       "      <th>4</th>\n",
       "      <td>Adair County, Iowa</td>\n",
       "      <td>0.062842</td>\n",
       "      <td>7145</td>\n",
       "      <td>-408.0</td>\n",
       "      <td>-0.057103</td>\n",
       "    </tr>\n",
       "  </tbody>\n",
       "</table></div>"
      ],
      "text/plain": [
       "                   State_and_County  percent_price_change_2015_19  \\\n",
       "0  Abbeville County, South Carolina                      0.170454   \n",
       "1          Acadia Parish, Louisiana                      0.100273   \n",
       "2         Accomack County, Virginia                      0.073734   \n",
       "3                 Ada County, Idaho                      0.632257   \n",
       "4                Adair County, Iowa                      0.062842   \n",
       "\n",
       "   Population_2015  Net_Migration  %_Change_Due_to_Migration  \n",
       "0            24796          110.0                   0.004436  \n",
       "1            62679        -1701.0                  -0.027138  \n",
       "2            32914         -953.0                  -0.028954  \n",
       "3           432862         4908.0                   0.011338  \n",
       "4             7145         -408.0                  -0.057103  "
      ]
     },
     "execution_count": 20,
     "metadata": {},
     "output_type": "execute_result"
    }
   ],
   "source": [
    "# merge with price change dataframe\n",
    "price_migration_df = price_change_df.merge(migration_percentage_df, on='State_and_County')\n",
    "price_migration_df.head()"
   ]
  },
  {
   "cell_type": "code",
   "execution_count": 21,
   "id": "6c71dda0-35fc-4e7f-b667-8bb5a3b18590",
   "metadata": {},
   "outputs": [
    {
     "data": {
      "text/html": [
       "<div><div id=6d94c08a-b62d-41ac-81b5-a1cfc1c14836 style=\"display:none; background-color:#9D6CFF; color:white; width:200px; height:30px; padding-left:5px; border-radius:4px; flex-direction:row; justify-content:space-around; align-items:center;\" onmouseover=\"this.style.backgroundColor='#BA9BF8'\" onmouseout=\"this.style.backgroundColor='#9D6CFF'\" onclick=\"window.commands?.execute('create-mitosheet-from-dataframe-output');\">See Full Dataframe in Mito</div> <script> if (window.commands.hasCommand('create-mitosheet-from-dataframe-output')) document.getElementById('6d94c08a-b62d-41ac-81b5-a1cfc1c14836').style.display = 'flex' </script> <table border=\"1\" class=\"dataframe\">\n",
       "  <thead>\n",
       "    <tr style=\"text-align: right;\">\n",
       "      <th></th>\n",
       "      <th>State_and_County</th>\n",
       "      <th>%_Change_Due_to_Migration</th>\n",
       "      <th>percent_price_change_2015_19</th>\n",
       "    </tr>\n",
       "  </thead>\n",
       "  <tbody>\n",
       "    <tr>\n",
       "      <th>0</th>\n",
       "      <td>Abbeville County, South Carolina</td>\n",
       "      <td>0.004436</td>\n",
       "      <td>0.170454</td>\n",
       "    </tr>\n",
       "    <tr>\n",
       "      <th>1</th>\n",
       "      <td>Acadia Parish, Louisiana</td>\n",
       "      <td>-0.027138</td>\n",
       "      <td>0.100273</td>\n",
       "    </tr>\n",
       "    <tr>\n",
       "      <th>2</th>\n",
       "      <td>Accomack County, Virginia</td>\n",
       "      <td>-0.028954</td>\n",
       "      <td>0.073734</td>\n",
       "    </tr>\n",
       "    <tr>\n",
       "      <th>3</th>\n",
       "      <td>Ada County, Idaho</td>\n",
       "      <td>0.011338</td>\n",
       "      <td>0.632257</td>\n",
       "    </tr>\n",
       "    <tr>\n",
       "      <th>4</th>\n",
       "      <td>Adair County, Iowa</td>\n",
       "      <td>-0.057103</td>\n",
       "      <td>0.062842</td>\n",
       "    </tr>\n",
       "  </tbody>\n",
       "</table></div>"
      ],
      "text/plain": [
       "                   State_and_County  %_Change_Due_to_Migration  \\\n",
       "0  Abbeville County, South Carolina                   0.004436   \n",
       "1          Acadia Parish, Louisiana                  -0.027138   \n",
       "2         Accomack County, Virginia                  -0.028954   \n",
       "3                 Ada County, Idaho                   0.011338   \n",
       "4                Adair County, Iowa                  -0.057103   \n",
       "\n",
       "   percent_price_change_2015_19  \n",
       "0                      0.170454  \n",
       "1                      0.100273  \n",
       "2                      0.073734  \n",
       "3                      0.632257  \n",
       "4                      0.062842  "
      ]
     },
     "execution_count": 21,
     "metadata": {},
     "output_type": "execute_result"
    }
   ],
   "source": [
    "df_XY = price_migration_df[['State_and_County','%_Change_Due_to_Migration','percent_price_change_2015_19']].dropna()\n",
    "df_XY.head()"
   ]
  },
  {
   "cell_type": "markdown",
   "id": "f1f9acda-0277-4bd3-93e5-7e3c6f47cbbc",
   "metadata": {},
   "source": [
    "## Describing the data before regression"
   ]
  },
  {
   "cell_type": "code",
   "execution_count": 22,
   "id": "d1afa7f5-c6d2-444c-8401-58ccc29218b4",
   "metadata": {},
   "outputs": [
    {
     "data": {
      "text/html": [
       "<div><div id=56ef1fbf-d304-4a7f-b776-4108b3729e4c style=\"display:none; background-color:#9D6CFF; color:white; width:200px; height:30px; padding-left:5px; border-radius:4px; flex-direction:row; justify-content:space-around; align-items:center;\" onmouseover=\"this.style.backgroundColor='#BA9BF8'\" onmouseout=\"this.style.backgroundColor='#9D6CFF'\" onclick=\"window.commands?.execute('create-mitosheet-from-dataframe-output');\">See Full Dataframe in Mito</div> <script> if (window.commands.hasCommand('create-mitosheet-from-dataframe-output')) document.getElementById('56ef1fbf-d304-4a7f-b776-4108b3729e4c').style.display = 'flex' </script> <table border=\"1\" class=\"dataframe\">\n",
       "  <thead>\n",
       "    <tr style=\"text-align: right;\">\n",
       "      <th></th>\n",
       "      <th>%_Change_Due_to_Migration</th>\n",
       "      <th>percent_price_change_2015_19</th>\n",
       "    </tr>\n",
       "  </thead>\n",
       "  <tbody>\n",
       "    <tr>\n",
       "      <th>count</th>\n",
       "      <td>2339.000000</td>\n",
       "      <td>2339.000000</td>\n",
       "    </tr>\n",
       "    <tr>\n",
       "      <th>mean</th>\n",
       "      <td>0.001512</td>\n",
       "      <td>0.212499</td>\n",
       "    </tr>\n",
       "    <tr>\n",
       "      <th>std</th>\n",
       "      <td>0.021240</td>\n",
       "      <td>0.127012</td>\n",
       "    </tr>\n",
       "    <tr>\n",
       "      <th>min</th>\n",
       "      <td>-0.102752</td>\n",
       "      <td>-0.183043</td>\n",
       "    </tr>\n",
       "    <tr>\n",
       "      <th>25%</th>\n",
       "      <td>-0.009572</td>\n",
       "      <td>0.125285</td>\n",
       "    </tr>\n",
       "    <tr>\n",
       "      <th>50%</th>\n",
       "      <td>0.000914</td>\n",
       "      <td>0.188886</td>\n",
       "    </tr>\n",
       "    <tr>\n",
       "      <th>75%</th>\n",
       "      <td>0.012298</td>\n",
       "      <td>0.277215</td>\n",
       "    </tr>\n",
       "    <tr>\n",
       "      <th>max</th>\n",
       "      <td>0.129182</td>\n",
       "      <td>0.776181</td>\n",
       "    </tr>\n",
       "  </tbody>\n",
       "</table></div>"
      ],
      "text/plain": [
       "       %_Change_Due_to_Migration  percent_price_change_2015_19\n",
       "count                2339.000000                   2339.000000\n",
       "mean                    0.001512                      0.212499\n",
       "std                     0.021240                      0.127012\n",
       "min                    -0.102752                     -0.183043\n",
       "25%                    -0.009572                      0.125285\n",
       "50%                     0.000914                      0.188886\n",
       "75%                     0.012298                      0.277215\n",
       "max                     0.129182                      0.776181"
      ]
     },
     "execution_count": 22,
     "metadata": {},
     "output_type": "execute_result"
    }
   ],
   "source": [
    "# Descriptive statistics\n",
    "df_XY.describe()"
   ]
  },
  {
   "cell_type": "markdown",
   "id": "e1ca03aa-511b-45c2-8285-5010fb0c398f",
   "metadata": {},
   "source": [
    "## Adding a scatter plot"
   ]
  },
  {
   "cell_type": "code",
   "execution_count": 23,
   "id": "f0fb35cf-543f-41dc-ad42-62ee6f021bd8",
   "metadata": {},
   "outputs": [
    {
     "data": {
      "text/html": [
       "<iframe\n",
       "    scrolling=\"no\"\n",
       "    width=\"100%\"\n",
       "    height=\"545px\"\n",
       "    src=\"iframe_figures/figure_23.html\"\n",
       "    frameborder=\"0\"\n",
       "    allowfullscreen\n",
       "></iframe>\n"
      ]
     },
     "metadata": {},
     "output_type": "display_data"
    }
   ],
   "source": [
    "# Import plotly and create a figure\n",
    "import plotly.graph_objects as go\n",
    "fig = go.Figure()\n",
    "\n",
    "\n",
    "\n",
    "# Add the scatter traces to the figure\n",
    "for column_header in ['%_Change_Due_to_Migration']:\n",
    "    fig.add_trace(go.Scatter(\n",
    "        x=df_XY[column_header],\n",
    "        y=df_XY['percent_price_change_2015_19'],\n",
    "        mode='markers',\n",
    "        name=str(column_header)\n",
    "    ))\n",
    "\n",
    "# Update the layout\n",
    "# See Plotly documentation for cutomizations: https://plotly.com/python/reference/scatter/\n",
    "fig.update_layout(\n",
    "    xaxis_title=\"% Change Due to Migration\",\n",
    "    yaxis_title=\"Price change % 2015-19\",\n",
    "    title=\"Population Migration vs House Price Change\",\n",
    ")\n",
    "fig.show(renderer=\"iframe\")"
   ]
  },
  {
   "cell_type": "markdown",
   "id": "c0a9fb1a-cf88-4c36-8812-e0cedfa410ed",
   "metadata": {},
   "source": [
    "## Create linear regression model"
   ]
  },
  {
   "cell_type": "code",
   "execution_count": 24,
   "id": "59960f82-21da-47da-84bc-5cfcadf25a72",
   "metadata": {},
   "outputs": [],
   "source": [
    "# assign X and y from data\n",
    "X = df_XY['%_Change_Due_to_Migration'].values.reshape(-1, 1)\n",
    "y = df_XY['percent_price_change_2015_19']"
   ]
  },
  {
   "cell_type": "code",
   "execution_count": 25,
   "id": "3f434c16-d4aa-46b4-a39c-fd0a32eb0f62",
   "metadata": {},
   "outputs": [
    {
     "data": {
      "text/plain": [
       "(2339, 1)"
      ]
     },
     "execution_count": 25,
     "metadata": {},
     "output_type": "execute_result"
    }
   ],
   "source": [
    "X.shape"
   ]
  },
  {
   "cell_type": "code",
   "execution_count": 26,
   "id": "7c4e0d2f-4ebc-4c0e-93ea-fa04ef86be7f",
   "metadata": {},
   "outputs": [],
   "source": [
    "# split data into training and testing sets\n",
    "X_train, X_test, y_train, y_test = train_test_split(X, \n",
    "                                                    y, \n",
    "                                                    random_state=1)"
   ]
  },
  {
   "cell_type": "code",
   "execution_count": 27,
   "id": "b96cd229-a937-4a71-9bd3-13a81919864f",
   "metadata": {},
   "outputs": [
    {
     "name": "stdout",
     "output_type": "stream",
     "text": [
      "(585,)\n"
     ]
    }
   ],
   "source": [
    "# train linear regression mmodel\n",
    "model = LinearRegression()\n",
    "model.fit(X_train, y_train)\n",
    "y_pred = model.predict(X_test)\n",
    "print(y_pred.shape)"
   ]
  },
  {
   "cell_type": "code",
   "execution_count": 28,
   "id": "677f3e47-b5f5-45d5-ad75-9aa9e7789b46",
   "metadata": {},
   "outputs": [
    {
     "data": {
      "image/png": "[encoded data removed]",
      "text/plain": [
       "<Figure size 432x288 with 1 Axes>"
      ]
     },
     "metadata": {
      "needs_background": "light"
     },
     "output_type": "display_data"
    }
   ],
   "source": [
    "# create scatter plot with linear regression model\n",
    "plt.scatter(X_test, y_test)\n",
    "plt.plot(X_test, y_pred, color='red')\n",
    "plt.xlabel(\"Population Change Due to Migration\")\n",
    "plt.ylabel(\"Housing Price Change\")\n",
    "plt.title(\"Migration and Housing Price Change from 2015 to 2019\")\n",
    "plt.show()"
   ]
  },
  {
   "cell_type": "markdown",
   "id": "b5237692-ebbf-43ea-b499-324021a927a6",
   "metadata": {},
   "source": [
    "## Evaluate model quality"
   ]
  },
  {
   "cell_type": "code",
   "execution_count": 29,
   "id": "57e1da91-9be7-44a0-8f08-49d1b6b3cade",
   "metadata": {},
   "outputs": [
    {
     "name": "stdout",
     "output_type": "stream",
     "text": [
      "Model coefficient value:  1.1298704553730592\n",
      "Model intercept value:  0.21368844910066961\n"
     ]
    }
   ],
   "source": [
    "# print model coefficient and intercept values\n",
    "coef = model.coef_[0]\n",
    "inter = model.intercept_\n",
    "print(\"Model coefficient value: \", coef)\n",
    "print(\"Model intercept value: \", inter)"
   ]
  },
  {
   "cell_type": "code",
   "execution_count": 30,
   "id": "3c5c60be-e378-4b08-bd82-9e033d0740c1",
   "metadata": {},
   "outputs": [
    {
     "name": "stdout",
     "output_type": "stream",
     "text": [
      "Model R-squared value:  0.026871240188819923\n"
     ]
    }
   ],
   "source": [
    "# print model R-squared values\n",
    "r2 = r2_score(y_test, y_pred)\n",
    "print(\"Model R-squared value: \", r2)"
   ]
  },
  {
   "cell_type": "code",
   "execution_count": 31,
   "id": "18618f96-0d09-4480-b312-1ff2d9ff58e2",
   "metadata": {},
   "outputs": [
    {
     "name": "stdout",
     "output_type": "stream",
     "text": [
      "Model mean squared errors:  0.01618663630613714\n"
     ]
    }
   ],
   "source": [
    "mse = mean_squared_error(y_test, y_pred)\n",
    "print(\"Model mean squared errors: \", mse)"
   ]
  }
 ],
 "metadata": {
  "kernelspec": {
   "display_name": "mlenv",
   "language": "python",
   "name": "mlenv"
  },
  "language_info": {
   "codemirror_mode": {
    "name": "ipython",
    "version": 3
   },
   "file_extension": ".py",
   "mimetype": "text/x-python",
   "name": "python",
   "nbconvert_exporter": "python",
   "pygments_lexer": "ipython3",
   "version": "3.9.7"
  }
 },
 "nbformat": 4,
 "nbformat_minor": 5
}
