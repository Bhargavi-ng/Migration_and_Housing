{
 "cells": [
  {
   "cell_type": "markdown",
   "id": "ed8edfc2-3cf7-46fe-b1ea-f532b515d284",
   "metadata": {},
   "source": [
    "# Linear Regression on house price and migration"
   ]
  },
  {
   "cell_type": "markdown",
   "id": "999a1af0-0ac7-42c0-a21c-67ac7ed24c5a",
   "metadata": {},
   "source": [
    "## Import dependencies"
   ]
  },
  {
   "cell_type": "code",
   "execution_count": 66,
   "id": "132f875c-af4c-43ec-8669-7400cffda307",
   "metadata": {},
   "outputs": [],
   "source": [
    "import warnings\n",
    "warnings.filterwarnings('ignore')"
   ]
  },
  {
   "cell_type": "code",
   "execution_count": 67,
   "id": "026a4052-c14b-464c-9d96-89c6b3dc01c4",
   "metadata": {},
   "outputs": [],
   "source": [
    "import numpy as np\n",
    "import pandas as pd\n",
    "import matplotlib.pyplot as plt\n",
    "from pathlib import Path\n",
    "from collections import Counter\n",
    "import mitosheet"
   ]
  },
  {
   "cell_type": "code",
   "execution_count": 68,
   "id": "869bc10a-bcc1-4942-b7f3-8c7431d9b7f8",
   "metadata": {},
   "outputs": [],
   "source": [
    "from sklearn.linear_model import LinearRegression\n",
    "from sklearn.metrics import mean_squared_error, r2_score"
   ]
  },
  {
   "cell_type": "markdown",
   "id": "2eb492b9-6d8c-4d8f-81e7-09d3884ce534",
   "metadata": {},
   "source": [
    "## Read the CSV and Merge "
   ]
  },
  {
   "cell_type": "code",
   "execution_count": 70,
   "id": "fce2631f-ef66-4691-a43d-af5ddcc7b3eb",
   "metadata": {},
   "outputs": [],
   "source": [
    "from mitosheet import *; register_analysis('UUID-6ff3e8e4-6344-4c14-afd2-5c7f57aa0cb5')\n",
    "\n",
    "# Imported Resources\\house_price_df.csv\n",
    "import pandas as pd\n",
    "house_price_df_csv = pd.read_csv(r'Resources\\house_price_df.csv')\n",
    "\n",
    "# Imported Resources\\county_level_migration_15-19.csv\n",
    "import pandas as pd\n",
    "county_level_migration_15_19_csv = pd.read_csv(r'Resources\\county_level_migration_15-19.csv')\n",
    "\n",
    "# Merged house_price_df_csv and county_level_migration_15_19_csv\n",
    "house_price_df_csv_tmp = house_price_df_csv.drop(['2007', '2018', '2017', '2010', '2002', '2008', '2006', '2003', '2012', '2001', '2016', 'Region Code', '2011', '2019', '2015', '2005', '2020', '2004', 'Region Name', '2009', '2013', 'State name', '2014', '2000'], axis=1)\n",
    "county_level_migration_15_19_csv_tmp = county_level_migration_15_19_csv.drop(['2015 Population', '2019 Population', 'County', 'Net Migration 2015-19', 'State'], axis=1)\n",
    "df3 = house_price_df_csv_tmp.merge(county_level_migration_15_19_csv_tmp, left_on=['State and County'], right_on=['County and State'], how='inner', suffixes=['_house_price_df_csv', '_county_level_migration_15_19_csv'])\n",
    "\n",
    "# Deleted column State and County from df3\n",
    "df3.drop(['State and County'], axis=1, inplace=True)\n",
    "\n",
    "# Reordered County and State in df3\n",
    "df3_columns = [col for col in df3.columns if col != 'County and State']\n",
    "df3_columns.insert(0, 'County and State')\n",
    "df3 = df3[df3_columns]\n",
    "\n",
    "# Reordered % Change Due to Migration in df3\n",
    "df3_columns = [col for col in df3.columns if col != '% Change Due to Migration']\n",
    "df3_columns.insert(1, '% Change Due to Migration')\n",
    "df3 = df3[df3_columns]\n",
    "\n",
    "# Renamed df3 to df_XY\n",
    "df_XY = df3\n",
    "\n",
    "# Drop the null rows\n",
    "df_XY = df_XY.dropna()"
   ]
  },
  {
   "cell_type": "markdown",
   "id": "f1f9acda-0277-4bd3-93e5-7e3c6f47cbbc",
   "metadata": {},
   "source": [
    "## Describing the data before regression"
   ]
  },
  {
   "cell_type": "code",
   "execution_count": 71,
   "id": "95450891-8b11-4284-8796-140240d16699",
   "metadata": {},
   "outputs": [
    {
     "data": {
      "text/html": [
       "<div><div id=e5cf40fb-e1e3-45b1-8115-c53c1bc4a13f style=\"display:none; background-color:#9D6CFF; color:white; width:200px; height:30px; padding-left:5px; border-radius:4px; flex-direction:row; justify-content:space-around; align-items:center;\" onmouseover=\"this.style.backgroundColor='#BA9BF8'\" onmouseout=\"this.style.backgroundColor='#9D6CFF'\" onclick=\"window.commands?.execute('create-mitosheet-from-dataframe-output');\">See Full Dataframe in Mito</div> <script> if (window.commands.hasCommand('create-mitosheet-from-dataframe-output')) document.getElementById('e5cf40fb-e1e3-45b1-8115-c53c1bc4a13f').style.display = 'flex' </script> <table border=\"1\" class=\"dataframe\">\n",
       "  <thead>\n",
       "    <tr style=\"text-align: right;\">\n",
       "      <th></th>\n",
       "      <th>County and State</th>\n",
       "      <th>% Change Due to Migration</th>\n",
       "      <th>Price change % 2015-19</th>\n",
       "    </tr>\n",
       "  </thead>\n",
       "  <tbody>\n",
       "    <tr>\n",
       "      <th>0</th>\n",
       "      <td>Abbeville County, South Carolina</td>\n",
       "      <td>0.004436</td>\n",
       "      <td>0.170454</td>\n",
       "    </tr>\n",
       "    <tr>\n",
       "      <th>1</th>\n",
       "      <td>Acadia Parish, Louisiana</td>\n",
       "      <td>-0.027138</td>\n",
       "      <td>0.100273</td>\n",
       "    </tr>\n",
       "    <tr>\n",
       "      <th>2</th>\n",
       "      <td>Accomack County, Virginia</td>\n",
       "      <td>-0.028954</td>\n",
       "      <td>0.073734</td>\n",
       "    </tr>\n",
       "    <tr>\n",
       "      <th>3</th>\n",
       "      <td>Ada County, Idaho</td>\n",
       "      <td>0.011338</td>\n",
       "      <td>0.632257</td>\n",
       "    </tr>\n",
       "    <tr>\n",
       "      <th>4</th>\n",
       "      <td>Adair County, Missouri</td>\n",
       "      <td>0.007573</td>\n",
       "      <td>0.084186</td>\n",
       "    </tr>\n",
       "  </tbody>\n",
       "</table></div>"
      ],
      "text/plain": [
       "                   County and State  % Change Due to Migration  \\\n",
       "0  Abbeville County, South Carolina                   0.004436   \n",
       "1          Acadia Parish, Louisiana                  -0.027138   \n",
       "2         Accomack County, Virginia                  -0.028954   \n",
       "3                 Ada County, Idaho                   0.011338   \n",
       "4            Adair County, Missouri                   0.007573   \n",
       "\n",
       "   Price change % 2015-19  \n",
       "0                0.170454  \n",
       "1                0.100273  \n",
       "2                0.073734  \n",
       "3                0.632257  \n",
       "4                0.084186  "
      ]
     },
     "execution_count": 71,
     "metadata": {},
     "output_type": "execute_result"
    }
   ],
   "source": [
    "df_XY.head()"
   ]
  },
  {
   "cell_type": "code",
   "execution_count": 72,
   "id": "d1afa7f5-c6d2-444c-8401-58ccc29218b4",
   "metadata": {},
   "outputs": [
    {
     "data": {
      "text/html": [
       "<div><div id=773f60a9-c73e-47e5-9d8c-b2fc57bf7c1d style=\"display:none; background-color:#9D6CFF; color:white; width:200px; height:30px; padding-left:5px; border-radius:4px; flex-direction:row; justify-content:space-around; align-items:center;\" onmouseover=\"this.style.backgroundColor='#BA9BF8'\" onmouseout=\"this.style.backgroundColor='#9D6CFF'\" onclick=\"window.commands?.execute('create-mitosheet-from-dataframe-output');\">See Full Dataframe in Mito</div> <script> if (window.commands.hasCommand('create-mitosheet-from-dataframe-output')) document.getElementById('773f60a9-c73e-47e5-9d8c-b2fc57bf7c1d').style.display = 'flex' </script> <table border=\"1\" class=\"dataframe\">\n",
       "  <thead>\n",
       "    <tr style=\"text-align: right;\">\n",
       "      <th></th>\n",
       "      <th>% Change Due to Migration</th>\n",
       "      <th>Price change % 2015-19</th>\n",
       "    </tr>\n",
       "  </thead>\n",
       "  <tbody>\n",
       "    <tr>\n",
       "      <th>count</th>\n",
       "      <td>2339.000000</td>\n",
       "      <td>2339.000000</td>\n",
       "    </tr>\n",
       "    <tr>\n",
       "      <th>mean</th>\n",
       "      <td>0.001512</td>\n",
       "      <td>0.212499</td>\n",
       "    </tr>\n",
       "    <tr>\n",
       "      <th>std</th>\n",
       "      <td>0.021240</td>\n",
       "      <td>0.127012</td>\n",
       "    </tr>\n",
       "    <tr>\n",
       "      <th>min</th>\n",
       "      <td>-0.102752</td>\n",
       "      <td>-0.183043</td>\n",
       "    </tr>\n",
       "    <tr>\n",
       "      <th>25%</th>\n",
       "      <td>-0.009572</td>\n",
       "      <td>0.125285</td>\n",
       "    </tr>\n",
       "    <tr>\n",
       "      <th>50%</th>\n",
       "      <td>0.000914</td>\n",
       "      <td>0.188886</td>\n",
       "    </tr>\n",
       "    <tr>\n",
       "      <th>75%</th>\n",
       "      <td>0.012298</td>\n",
       "      <td>0.277215</td>\n",
       "    </tr>\n",
       "    <tr>\n",
       "      <th>max</th>\n",
       "      <td>0.129182</td>\n",
       "      <td>0.776181</td>\n",
       "    </tr>\n",
       "  </tbody>\n",
       "</table></div>"
      ],
      "text/plain": [
       "       % Change Due to Migration  Price change % 2015-19\n",
       "count                2339.000000             2339.000000\n",
       "mean                    0.001512                0.212499\n",
       "std                     0.021240                0.127012\n",
       "min                    -0.102752               -0.183043\n",
       "25%                    -0.009572                0.125285\n",
       "50%                     0.000914                0.188886\n",
       "75%                     0.012298                0.277215\n",
       "max                     0.129182                0.776181"
      ]
     },
     "execution_count": 72,
     "metadata": {},
     "output_type": "execute_result"
    }
   ],
   "source": [
    "# Descriptive statistics\n",
    "df_XY.describe()"
   ]
  },
  {
   "cell_type": "code",
   "execution_count": 73,
   "id": "f0fb35cf-543f-41dc-ad42-62ee6f021bd8",
   "metadata": {},
   "outputs": [
    {
     "data": {
      "text/html": [
       "<iframe\n",
       "    scrolling=\"no\"\n",
       "    width=\"100%\"\n",
       "    height=\"545px\"\n",
       "    src=\"iframe_figures/figure_73.html\"\n",
       "    frameborder=\"0\"\n",
       "    allowfullscreen\n",
       "></iframe>\n"
      ]
     },
     "metadata": {},
     "output_type": "display_data"
    }
   ],
   "source": [
    "# Import plotly and create a figure\n",
    "import plotly.graph_objects as go\n",
    "fig = go.Figure()\n",
    "\n",
    "\n",
    "\n",
    "# Add the scatter traces to the figure\n",
    "for column_header in ['% Change Due to Migration']:\n",
    "    fig.add_trace(go.Scatter(\n",
    "        x=df_XY[column_header],\n",
    "        y=df_XY['Price change % 2015-19'],\n",
    "        mode='markers',\n",
    "        name=str(column_header)\n",
    "    ))\n",
    "\n",
    "# Update the layout\n",
    "# See Plotly documentation for cutomizations: https://plotly.com/python/reference/scatter/\n",
    "fig.update_layout(\n",
    "    xaxis_title=\"% Change Due to Migration\",\n",
    "    yaxis_title=\"Price change % 2015-19\",\n",
    "    title=\"Population Migration vs House Price Change\",\n",
    ")\n",
    "fig.show(renderer=\"iframe\")"
   ]
  },
  {
   "cell_type": "code",
   "execution_count": 74,
   "id": "59960f82-21da-47da-84bc-5cfcadf25a72",
   "metadata": {},
   "outputs": [],
   "source": [
    "X = df_XY['% Change Due to Migration'].values.reshape(-1, 1)\n",
    "y = df_XY['Price change % 2015-19']\n"
   ]
  },
  {
   "cell_type": "code",
   "execution_count": 75,
   "id": "3f434c16-d4aa-46b4-a39c-fd0a32eb0f62",
   "metadata": {},
   "outputs": [
    {
     "data": {
      "text/plain": [
       "(2339, 1)"
      ]
     },
     "execution_count": 75,
     "metadata": {},
     "output_type": "execute_result"
    }
   ],
   "source": [
    "X.shape"
   ]
  },
  {
   "cell_type": "code",
   "execution_count": 76,
   "id": "c11555a7-382d-4c73-ba07-9c6db3ad45f6",
   "metadata": {},
   "outputs": [
    {
     "name": "stdout",
     "output_type": "stream",
     "text": [
      "(2339,)\n"
     ]
    }
   ],
   "source": [
    "model = LinearRegression()\n",
    "model.fit(X, y)\n",
    "y_pred = model.predict(X)\n",
    "print(y_pred.shape)"
   ]
  },
  {
   "cell_type": "code",
   "execution_count": 77,
   "id": "054e7aad-c145-4389-9609-7bd3b52cc279",
   "metadata": {},
   "outputs": [
    {
     "data": {
      "image/png": "[encoded data removed]",
      "text/plain": [
       "<Figure size 432x288 with 1 Axes>"
      ]
     },
     "metadata": {
      "needs_background": "light"
     },
     "output_type": "display_data"
    }
   ],
   "source": [
    "plt.scatter(X, y)\n",
    "plt.plot(X, y_pred, color='red')\n",
    "plt.show()"
   ]
  },
  {
   "cell_type": "code",
   "execution_count": 78,
   "id": "b84f3b8a-9a5c-4651-a322-0d1318e63a25",
   "metadata": {},
   "outputs": [
    {
     "name": "stdout",
     "output_type": "stream",
     "text": [
      "[1.13031361]\n",
      "0.21078970230186223\n"
     ]
    }
   ],
   "source": [
    "print(model.coef_)\n",
    "print(model.intercept_)"
   ]
  },
  {
   "cell_type": "code",
   "execution_count": 79,
   "id": "4a80f4b4-1d35-4541-a4ab-d006e9d36ea9",
   "metadata": {},
   "outputs": [
    {
     "data": {
      "text/plain": [
       "0.03572712347756213"
      ]
     },
     "execution_count": 79,
     "metadata": {},
     "output_type": "execute_result"
    }
   ],
   "source": [
    "r2_score(y, y_pred)\n"
   ]
  },
  {
   "cell_type": "code",
   "execution_count": 80,
   "id": "b8d9c7f4-4c95-4878-a476-447fc17a7630",
   "metadata": {},
   "outputs": [
    {
     "data": {
      "text/plain": [
       "0.01554903399324957"
      ]
     },
     "execution_count": 80,
     "metadata": {},
     "output_type": "execute_result"
    }
   ],
   "source": [
    "mean_squared_error(y, y_pred)"
   ]
  },
  {
   "cell_type": "code",
   "execution_count": null,
   "id": "0167cb4d-05cf-4c1b-8809-e861244e399a",
   "metadata": {},
   "outputs": [],
   "source": []
  }
 ],
 "metadata": {
  "kernelspec": {
   "display_name": "mlenv",
   "language": "python",
   "name": "mlenv"
  },
  "language_info": {
   "codemirror_mode": {
    "name": "ipython",
    "version": 3
   },
   "file_extension": ".py",
   "mimetype": "text/x-python",
   "name": "python",
   "nbconvert_exporter": "python",
   "pygments_lexer": "ipython3",
   "version": "3.7.11"
  }
 },
 "nbformat": 4,
 "nbformat_minor": 5
}
