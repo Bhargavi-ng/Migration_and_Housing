{
 "cells": [
  {
   "cell_type": "markdown",
   "id": "ed8edfc2-3cf7-46fe-b1ea-f532b515d284",
   "metadata": {},
   "source": [
    "# Neural Network model on house price and migration"
   ]
  },
  {
   "cell_type": "markdown",
   "id": "999a1af0-0ac7-42c0-a21c-67ac7ed24c5a",
   "metadata": {},
   "source": [
    "## Import dependencies"
   ]
  },
  {
   "cell_type": "code",
   "execution_count": 1,
   "id": "132f875c-af4c-43ec-8669-7400cffda307",
   "metadata": {},
   "outputs": [],
   "source": [
    "import warnings\n",
    "warnings.filterwarnings('ignore')"
   ]
  },
  {
   "cell_type": "code",
   "execution_count": 2,
   "id": "026a4052-c14b-464c-9d96-89c6b3dc01c4",
   "metadata": {},
   "outputs": [],
   "source": [
    "import numpy as np\n",
    "import pandas as pd\n",
    "import matplotlib.pyplot as plt\n",
    "from pathlib import Path\n",
    "from collections import Counter\n",
    "import mitosheet\n",
    "from datetime import datetime\n",
    "import sklearn as skl\n",
    "import tensorflow as tf\n",
    "from sklearn.metrics import mean_squared_error, r2_score"
   ]
  },
  {
   "cell_type": "code",
   "execution_count": 3,
   "id": "d4ce99f0-913d-4cac-b985-f99775cb0f98",
   "metadata": {},
   "outputs": [
    {
     "data": {
      "application/vnd.jupyter.widget-view+json": {
       "model_id": "9f611a725109439bb606b554628f4e52",
       "version_major": 2,
       "version_minor": 0
      },
      "text/plain": [
       "MitoWidget(analysis_data_json='{\"analysisName\": \"UUID-7b0e92b0-0347-4fa5-ad72-2f7d5c97ac16\", \"code\": {\"imports…"
      ]
     },
     "metadata": {},
     "output_type": "display_data"
    }
   ],
   "source": [
    "mitosheet.sheet()"
   ]
  },
  {
   "cell_type": "code",
   "execution_count": 4,
   "id": "0e945dd5-d696-43d7-b8d8-31be027ca9ea",
   "metadata": {},
   "outputs": [],
   "source": [
    "from mitosheet import *; register_analysis('UUID-18eca8ca-9187-4f3d-ad57-c2234e59c069')\n",
    "\n",
    "# import mortgage30US.csv\n",
    "import pandas as pd\n",
    "MORTGAGE30US_csv = pd.read_csv(r'C:\\Users\\shliu\\Documents\\Class\\Migration_and_Housing\\Resources\\MORTGAGE30US.csv')\n",
    "\n",
    "# Changed DATE from object to datetime\n",
    "import pandas as pd\n",
    "MORTGAGE30US_csv['DATE'] = pd.to_datetime(MORTGAGE30US_csv['DATE'], infer_datetime_format=True, errors='coerce')\n",
    "\n",
    "# Added column new-column-dcm7 to MORTGAGE30US_csv\n",
    "MORTGAGE30US_csv.insert(1, 'new-column-dcm7', 0)\n",
    "\n",
    "# Renamed new-column-dcm7 to Quarter in MORTGAGE30US_csv\n",
    "MORTGAGE30US_csv.rename(columns={'new-column-dcm7': 'Quarter'}, inplace=True)\n",
    "\n",
    "# Set new-column-dcm7 in MORTGAGE30US_csv to =YEAR(DATE)\n",
    "MORTGAGE30US_csv['Quarter'] = YEAR(MORTGAGE30US_csv['DATE'])\n",
    "\n",
    "# Renamed new-column-dcm7 to YEAR in MORTGAGE30US_csv\n",
    "MORTGAGE30US_csv.rename(columns={'Quarter': 'YEAR'}, inplace=True)\n"
   ]
  },
  {
   "cell_type": "code",
   "execution_count": 5,
   "id": "a5d1a49c-d1ea-4f89-aac4-fc573249d1a6",
   "metadata": {},
   "outputs": [],
   "source": [
    "MORTGAGE30US_csv['quarter'] = MORTGAGE30US_csv['DATE'].dt.quarter\n"
   ]
  },
  {
   "cell_type": "code",
   "execution_count": 6,
   "id": "4dc7efe5-803f-423d-a84f-e05db472c31e",
   "metadata": {},
   "outputs": [
    {
     "data": {
      "text/html": [
       "<div><div id=54ad39dd-7a34-40f0-9aa3-6b911d02a6b3 style=\"display:none; background-color:#9D6CFF; color:white; width:200px; height:30px; padding-left:5px; border-radius:4px; flex-direction:row; justify-content:space-around; align-items:center;\" onmouseover=\"this.style.backgroundColor='#BA9BF8'\" onmouseout=\"this.style.backgroundColor='#9D6CFF'\" onclick=\"window.commands?.execute('create-mitosheet-from-dataframe-output');\">See Full Dataframe in Mito</div> <script> if (window.commands.hasCommand('create-mitosheet-from-dataframe-output')) document.getElementById('54ad39dd-7a34-40f0-9aa3-6b911d02a6b3').style.display = 'flex' </script> <table border=\"1\" class=\"dataframe\">\n",
       "  <thead>\n",
       "    <tr style=\"text-align: right;\">\n",
       "      <th></th>\n",
       "      <th>DATE</th>\n",
       "      <th>YEAR</th>\n",
       "      <th>MORTGAGE30US</th>\n",
       "      <th>quarter</th>\n",
       "    </tr>\n",
       "  </thead>\n",
       "  <tbody>\n",
       "    <tr>\n",
       "      <th>0</th>\n",
       "      <td>1971-04-02</td>\n",
       "      <td>1971</td>\n",
       "      <td>7.33</td>\n",
       "      <td>2</td>\n",
       "    </tr>\n",
       "    <tr>\n",
       "      <th>1</th>\n",
       "      <td>1971-04-09</td>\n",
       "      <td>1971</td>\n",
       "      <td>7.31</td>\n",
       "      <td>2</td>\n",
       "    </tr>\n",
       "    <tr>\n",
       "      <th>2</th>\n",
       "      <td>1971-04-16</td>\n",
       "      <td>1971</td>\n",
       "      <td>7.31</td>\n",
       "      <td>2</td>\n",
       "    </tr>\n",
       "    <tr>\n",
       "      <th>3</th>\n",
       "      <td>1971-04-23</td>\n",
       "      <td>1971</td>\n",
       "      <td>7.31</td>\n",
       "      <td>2</td>\n",
       "    </tr>\n",
       "    <tr>\n",
       "      <th>4</th>\n",
       "      <td>1971-04-30</td>\n",
       "      <td>1971</td>\n",
       "      <td>7.29</td>\n",
       "      <td>2</td>\n",
       "    </tr>\n",
       "  </tbody>\n",
       "</table></div>"
      ],
      "text/plain": [
       "        DATE  YEAR  MORTGAGE30US  quarter\n",
       "0 1971-04-02  1971          7.33        2\n",
       "1 1971-04-09  1971          7.31        2\n",
       "2 1971-04-16  1971          7.31        2\n",
       "3 1971-04-23  1971          7.31        2\n",
       "4 1971-04-30  1971          7.29        2"
      ]
     },
     "execution_count": 6,
     "metadata": {},
     "output_type": "execute_result"
    }
   ],
   "source": [
    "MORTGAGE30US_csv.head()"
   ]
  },
  {
   "cell_type": "code",
   "execution_count": 7,
   "id": "2fc28f14-74e7-4e5e-b71b-7fd713c4bc70",
   "metadata": {},
   "outputs": [
    {
     "data": {
      "application/vnd.jupyter.widget-view+json": {
       "model_id": "12fa6dcfb25e41fa865b898f88491cf9",
       "version_major": 2,
       "version_minor": 0
      },
      "text/plain": [
       "MitoWidget(analysis_data_json='{\"analysisName\": \"UUID-3ce0e622-398a-4560-ac25-e0405ce5e04e\", \"code\": {\"imports…"
      ]
     },
     "metadata": {},
     "output_type": "display_data"
    }
   ],
   "source": [
    "import mitosheet\n",
    "mitosheet.sheet(MORTGAGE30US_csv, view_df=True)"
   ]
  },
  {
   "cell_type": "code",
   "execution_count": 8,
   "id": "b1b87404-d651-45ac-a05d-f14df4983b62",
   "metadata": {},
   "outputs": [],
   "source": [
    "from mitosheet import *; register_analysis('UUID-85d7fdf3-2be5-4185-95b6-8c638e2dbcb4')\n",
    "\n",
    "# Reordered quarter in MORTGAGE30US_csv\n",
    "MORTGAGE30US_csv_columns = [col for col in MORTGAGE30US_csv.columns if col != 'quarter']\n",
    "MORTGAGE30US_csv_columns.insert(1, 'quarter')\n",
    "MORTGAGE30US_csv = MORTGAGE30US_csv[MORTGAGE30US_csv_columns]\n",
    "\n",
    "# Reordered quarter in MORTGAGE30US_csv\n",
    "MORTGAGE30US_csv_columns = [col for col in MORTGAGE30US_csv.columns if col != 'quarter']\n",
    "MORTGAGE30US_csv_columns.insert(1, 'quarter')\n",
    "MORTGAGE30US_csv = MORTGAGE30US_csv[MORTGAGE30US_csv_columns]\n"
   ]
  },
  {
   "cell_type": "code",
   "execution_count": 9,
   "id": "dd2d6755-557b-4b39-a13a-2604c88ca447",
   "metadata": {},
   "outputs": [
    {
     "data": {
      "text/html": [
       "<div><div id=bb6745d3-bc14-43cc-b17b-aff33e9baae5 style=\"display:none; background-color:#9D6CFF; color:white; width:200px; height:30px; padding-left:5px; border-radius:4px; flex-direction:row; justify-content:space-around; align-items:center;\" onmouseover=\"this.style.backgroundColor='#BA9BF8'\" onmouseout=\"this.style.backgroundColor='#9D6CFF'\" onclick=\"window.commands?.execute('create-mitosheet-from-dataframe-output');\">See Full Dataframe in Mito</div> <script> if (window.commands.hasCommand('create-mitosheet-from-dataframe-output')) document.getElementById('bb6745d3-bc14-43cc-b17b-aff33e9baae5').style.display = 'flex' </script> <table border=\"1\" class=\"dataframe\">\n",
       "  <thead>\n",
       "    <tr style=\"text-align: right;\">\n",
       "      <th></th>\n",
       "      <th>DATE</th>\n",
       "      <th>quarter</th>\n",
       "      <th>YEAR</th>\n",
       "      <th>MORTGAGE30US</th>\n",
       "    </tr>\n",
       "  </thead>\n",
       "  <tbody>\n",
       "    <tr>\n",
       "      <th>0</th>\n",
       "      <td>1971-04-02</td>\n",
       "      <td>2</td>\n",
       "      <td>1971</td>\n",
       "      <td>7.33</td>\n",
       "    </tr>\n",
       "    <tr>\n",
       "      <th>1</th>\n",
       "      <td>1971-04-09</td>\n",
       "      <td>2</td>\n",
       "      <td>1971</td>\n",
       "      <td>7.31</td>\n",
       "    </tr>\n",
       "    <tr>\n",
       "      <th>2</th>\n",
       "      <td>1971-04-16</td>\n",
       "      <td>2</td>\n",
       "      <td>1971</td>\n",
       "      <td>7.31</td>\n",
       "    </tr>\n",
       "    <tr>\n",
       "      <th>3</th>\n",
       "      <td>1971-04-23</td>\n",
       "      <td>2</td>\n",
       "      <td>1971</td>\n",
       "      <td>7.31</td>\n",
       "    </tr>\n",
       "    <tr>\n",
       "      <th>4</th>\n",
       "      <td>1971-04-30</td>\n",
       "      <td>2</td>\n",
       "      <td>1971</td>\n",
       "      <td>7.29</td>\n",
       "    </tr>\n",
       "  </tbody>\n",
       "</table></div>"
      ],
      "text/plain": [
       "        DATE  quarter  YEAR  MORTGAGE30US\n",
       "0 1971-04-02        2  1971          7.33\n",
       "1 1971-04-09        2  1971          7.31\n",
       "2 1971-04-16        2  1971          7.31\n",
       "3 1971-04-23        2  1971          7.31\n",
       "4 1971-04-30        2  1971          7.29"
      ]
     },
     "execution_count": 9,
     "metadata": {},
     "output_type": "execute_result"
    }
   ],
   "source": [
    "MORTGAGE30US_csv.head()"
   ]
  },
  {
   "cell_type": "code",
   "execution_count": 10,
   "id": "bb57389b-1bf5-4dbc-9147-f3c2f17f6526",
   "metadata": {},
   "outputs": [
    {
     "data": {
      "text/html": [
       "<div><div id=bbeb6b56-bf81-4a2a-aa46-6cd468ee87a5 style=\"display:none; background-color:#9D6CFF; color:white; width:200px; height:30px; padding-left:5px; border-radius:4px; flex-direction:row; justify-content:space-around; align-items:center;\" onmouseover=\"this.style.backgroundColor='#BA9BF8'\" onmouseout=\"this.style.backgroundColor='#9D6CFF'\" onclick=\"window.commands?.execute('create-mitosheet-from-dataframe-output');\">See Full Dataframe in Mito</div> <script> if (window.commands.hasCommand('create-mitosheet-from-dataframe-output')) document.getElementById('bbeb6b56-bf81-4a2a-aa46-6cd468ee87a5').style.display = 'flex' </script> <table border=\"1\" class=\"dataframe\">\n",
       "  <thead>\n",
       "    <tr style=\"text-align: right;\">\n",
       "      <th></th>\n",
       "      <th>DATE</th>\n",
       "      <th>quarter</th>\n",
       "      <th>YEAR</th>\n",
       "      <th>MORTGAGE30US</th>\n",
       "      <th>Quarter_Year</th>\n",
       "    </tr>\n",
       "  </thead>\n",
       "  <tbody>\n",
       "    <tr>\n",
       "      <th>0</th>\n",
       "      <td>1971-04-02</td>\n",
       "      <td>2</td>\n",
       "      <td>1971</td>\n",
       "      <td>7.33</td>\n",
       "      <td>2Q1971</td>\n",
       "    </tr>\n",
       "    <tr>\n",
       "      <th>1</th>\n",
       "      <td>1971-04-09</td>\n",
       "      <td>2</td>\n",
       "      <td>1971</td>\n",
       "      <td>7.31</td>\n",
       "      <td>2Q1971</td>\n",
       "    </tr>\n",
       "    <tr>\n",
       "      <th>2</th>\n",
       "      <td>1971-04-16</td>\n",
       "      <td>2</td>\n",
       "      <td>1971</td>\n",
       "      <td>7.31</td>\n",
       "      <td>2Q1971</td>\n",
       "    </tr>\n",
       "    <tr>\n",
       "      <th>3</th>\n",
       "      <td>1971-04-23</td>\n",
       "      <td>2</td>\n",
       "      <td>1971</td>\n",
       "      <td>7.31</td>\n",
       "      <td>2Q1971</td>\n",
       "    </tr>\n",
       "    <tr>\n",
       "      <th>4</th>\n",
       "      <td>1971-04-30</td>\n",
       "      <td>2</td>\n",
       "      <td>1971</td>\n",
       "      <td>7.29</td>\n",
       "      <td>2Q1971</td>\n",
       "    </tr>\n",
       "    <tr>\n",
       "      <th>...</th>\n",
       "      <td>...</td>\n",
       "      <td>...</td>\n",
       "      <td>...</td>\n",
       "      <td>...</td>\n",
       "      <td>...</td>\n",
       "    </tr>\n",
       "    <tr>\n",
       "      <th>2645</th>\n",
       "      <td>2021-12-09</td>\n",
       "      <td>4</td>\n",
       "      <td>2021</td>\n",
       "      <td>3.10</td>\n",
       "      <td>4Q2021</td>\n",
       "    </tr>\n",
       "    <tr>\n",
       "      <th>2646</th>\n",
       "      <td>2021-12-16</td>\n",
       "      <td>4</td>\n",
       "      <td>2021</td>\n",
       "      <td>3.12</td>\n",
       "      <td>4Q2021</td>\n",
       "    </tr>\n",
       "    <tr>\n",
       "      <th>2647</th>\n",
       "      <td>2021-12-23</td>\n",
       "      <td>4</td>\n",
       "      <td>2021</td>\n",
       "      <td>3.05</td>\n",
       "      <td>4Q2021</td>\n",
       "    </tr>\n",
       "    <tr>\n",
       "      <th>2648</th>\n",
       "      <td>2021-12-30</td>\n",
       "      <td>4</td>\n",
       "      <td>2021</td>\n",
       "      <td>3.11</td>\n",
       "      <td>4Q2021</td>\n",
       "    </tr>\n",
       "    <tr>\n",
       "      <th>2649</th>\n",
       "      <td>2022-01-06</td>\n",
       "      <td>1</td>\n",
       "      <td>2022</td>\n",
       "      <td>3.22</td>\n",
       "      <td>1Q2022</td>\n",
       "    </tr>\n",
       "  </tbody>\n",
       "</table></div>"
      ],
      "text/plain": [
       "           DATE  quarter  YEAR  MORTGAGE30US Quarter_Year\n",
       "0    1971-04-02        2  1971          7.33       2Q1971\n",
       "1    1971-04-09        2  1971          7.31       2Q1971\n",
       "2    1971-04-16        2  1971          7.31       2Q1971\n",
       "3    1971-04-23        2  1971          7.31       2Q1971\n",
       "4    1971-04-30        2  1971          7.29       2Q1971\n",
       "...         ...      ...   ...           ...          ...\n",
       "2645 2021-12-09        4  2021          3.10       4Q2021\n",
       "2646 2021-12-16        4  2021          3.12       4Q2021\n",
       "2647 2021-12-23        4  2021          3.05       4Q2021\n",
       "2648 2021-12-30        4  2021          3.11       4Q2021\n",
       "2649 2022-01-06        1  2022          3.22       1Q2022\n",
       "\n",
       "[2650 rows x 5 columns]"
      ]
     },
     "execution_count": 10,
     "metadata": {},
     "output_type": "execute_result"
    }
   ],
   "source": [
    "# Combine multiple column values into a single column: http://net-informations.com/ds/pd/comb.htm\n",
    "MORTGAGE30US_csv['Quarter_Year'] = MORTGAGE30US_csv['quarter'].astype(str) + 'Q' + MORTGAGE30US_csv['YEAR'].astype(str)\n",
    "MORTGAGE30US_csv"
   ]
  },
  {
   "cell_type": "code",
   "execution_count": 11,
   "id": "11f33767-9995-4f44-bd82-bd5adc39909c",
   "metadata": {},
   "outputs": [
    {
     "data": {
      "text/html": [
       "<div><div id=09e5d258-f916-421c-b464-ca480cc01fe5 style=\"display:none; background-color:#9D6CFF; color:white; width:200px; height:30px; padding-left:5px; border-radius:4px; flex-direction:row; justify-content:space-around; align-items:center;\" onmouseover=\"this.style.backgroundColor='#BA9BF8'\" onmouseout=\"this.style.backgroundColor='#9D6CFF'\" onclick=\"window.commands?.execute('create-mitosheet-from-dataframe-output');\">See Full Dataframe in Mito</div> <script> if (window.commands.hasCommand('create-mitosheet-from-dataframe-output')) document.getElementById('09e5d258-f916-421c-b464-ca480cc01fe5').style.display = 'flex' </script> <table border=\"1\" class=\"dataframe\">\n",
       "  <thead>\n",
       "    <tr style=\"text-align: right;\">\n",
       "      <th></th>\n",
       "      <th>Quarter_Year</th>\n",
       "      <th>Avg_Q_Mortgage</th>\n",
       "    </tr>\n",
       "  </thead>\n",
       "  <tbody>\n",
       "    <tr>\n",
       "      <th>0</th>\n",
       "      <td>1Q1972</td>\n",
       "      <td>7.349231</td>\n",
       "    </tr>\n",
       "    <tr>\n",
       "      <th>1</th>\n",
       "      <td>1Q1973</td>\n",
       "      <td>7.446154</td>\n",
       "    </tr>\n",
       "    <tr>\n",
       "      <th>2</th>\n",
       "      <td>1Q1974</td>\n",
       "      <td>8.462308</td>\n",
       "    </tr>\n",
       "    <tr>\n",
       "      <th>3</th>\n",
       "      <td>1Q1975</td>\n",
       "      <td>9.168462</td>\n",
       "    </tr>\n",
       "    <tr>\n",
       "      <th>4</th>\n",
       "      <td>1Q1976</td>\n",
       "      <td>8.873077</td>\n",
       "    </tr>\n",
       "    <tr>\n",
       "      <th>...</th>\n",
       "      <td>...</td>\n",
       "      <td>...</td>\n",
       "    </tr>\n",
       "    <tr>\n",
       "      <th>199</th>\n",
       "      <td>4Q2017</td>\n",
       "      <td>3.922308</td>\n",
       "    </tr>\n",
       "    <tr>\n",
       "      <th>200</th>\n",
       "      <td>4Q2018</td>\n",
       "      <td>4.784615</td>\n",
       "    </tr>\n",
       "    <tr>\n",
       "      <th>201</th>\n",
       "      <td>4Q2019</td>\n",
       "      <td>3.700000</td>\n",
       "    </tr>\n",
       "    <tr>\n",
       "      <th>202</th>\n",
       "      <td>4Q2020</td>\n",
       "      <td>2.760714</td>\n",
       "    </tr>\n",
       "    <tr>\n",
       "      <th>203</th>\n",
       "      <td>4Q2021</td>\n",
       "      <td>3.079231</td>\n",
       "    </tr>\n",
       "  </tbody>\n",
       "</table></div>"
      ],
      "text/plain": [
       "    Quarter_Year  Avg_Q_Mortgage\n",
       "0         1Q1972        7.349231\n",
       "1         1Q1973        7.446154\n",
       "2         1Q1974        8.462308\n",
       "3         1Q1975        9.168462\n",
       "4         1Q1976        8.873077\n",
       "..           ...             ...\n",
       "199       4Q2017        3.922308\n",
       "200       4Q2018        4.784615\n",
       "201       4Q2019        3.700000\n",
       "202       4Q2020        2.760714\n",
       "203       4Q2021        3.079231\n",
       "\n",
       "[204 rows x 2 columns]"
      ]
     },
     "execution_count": 11,
     "metadata": {},
     "output_type": "execute_result"
    }
   ],
   "source": [
    "# Example groupby https://stackoverflow.com/questions/49771181/how-can-i-calculate-quarterly-average-in-python-if-i-have-values-for-each-month\n",
    "# Groupby into dataframe https://technology.amis.nl/data-analytics/convert-groupby-result-on-pandas-data-frame-into-a-data-frame-using-to_frame/\n",
    "Q_MORTGAGE30US = MORTGAGE30US_csv.groupby(['Quarter_Year'])['MORTGAGE30US'].mean().to_frame(name = 'Avg_Q_Mortgage').reset_index()\n",
    "Q_MORTGAGE30US"
   ]
  },
  {
   "cell_type": "code",
   "execution_count": 12,
   "id": "63174e4c-2daa-4eaf-b7e9-e4a8bec33374",
   "metadata": {},
   "outputs": [
    {
     "data": {
      "application/vnd.jupyter.widget-view+json": {
       "model_id": "2c853a8cfae3487cab3269079262b53c",
       "version_major": 2,
       "version_minor": 0
      },
      "text/plain": [
       "MitoWidget(analysis_data_json='{\"analysisName\": \"UUID-a0be6f5f-39f7-4e78-a286-ab05ae617ee1\", \"code\": {\"imports…"
      ]
     },
     "metadata": {},
     "output_type": "display_data"
    }
   ],
   "source": [
    "mitosheet.sheet()"
   ]
  },
  {
   "cell_type": "code",
   "execution_count": 13,
   "id": "b621aa19-ea7b-427c-9751-9c7df8ad9107",
   "metadata": {},
   "outputs": [],
   "source": [
    "from mitosheet import *; register_analysis('UUID-65783015-d2c4-405b-b95a-7ed7e820d53b')\n",
    "\n",
    "import pandas as pd\n",
    "USSTHPI_csv = pd.read_csv(r'C:\\Users\\shliu\\Documents\\Class\\Migration_and_Housing\\Resources\\USSTHPI.csv')\n",
    "\n",
    "# Changed DATE from object to datetime\n",
    "import pandas as pd\n",
    "USSTHPI_csv['DATE'] = pd.to_datetime(USSTHPI_csv['DATE'], infer_datetime_format=True, errors='coerce')\n",
    "\n",
    "# Added column new-column-4lw1 to USSTHPI_csv\n",
    "USSTHPI_csv.insert(2, 'new-column-4lw1', 0)\n",
    "\n",
    "# Reordered new-column-4lw1 in USSTHPI_csv\n",
    "USSTHPI_csv_columns = [col for col in USSTHPI_csv.columns if col != 'new-column-4lw1']\n",
    "USSTHPI_csv_columns.insert(2, 'new-column-4lw1')\n",
    "USSTHPI_csv = USSTHPI_csv[USSTHPI_csv_columns]\n",
    "\n",
    "# Renamed new-column-4lw1 to YEAR in USSTHPI_csv\n",
    "USSTHPI_csv.rename(columns={'new-column-4lw1': 'YEAR'}, inplace=True)\n",
    "\n",
    "# Added column new-column-9zd8 to USSTHPI_csv\n",
    "USSTHPI_csv.insert(3, 'new-column-9zd8', 0)\n",
    "\n",
    "# Renamed new-column-9zd8 to quarter in USSTHPI_csv\n",
    "USSTHPI_csv.rename(columns={'new-column-9zd8': 'quarter'}, inplace=True)\n",
    "\n",
    "# Added column new-column-u3ry to USSTHPI_csv\n",
    "USSTHPI_csv.insert(4, 'new-column-u3ry', 0)\n",
    "\n",
    "# Renamed new-column-u3ry to Quarter_Year in USSTHPI_csv\n",
    "USSTHPI_csv.rename(columns={'new-column-u3ry': 'Quarter_Year'}, inplace=True)\n",
    "\n",
    "# Set new-column-4lw1 in USSTHPI_csv to =YEAR(DATE)\n",
    "USSTHPI_csv['YEAR'] = YEAR(USSTHPI_csv['DATE'])\n"
   ]
  },
  {
   "cell_type": "code",
   "execution_count": 14,
   "id": "522ab4b7-ac5c-44d4-860c-8d851e19168d",
   "metadata": {},
   "outputs": [
    {
     "data": {
      "text/html": [
       "<div><div id=a7dc8bba-37b3-40b6-9e68-4d4020ba75a4 style=\"display:none; background-color:#9D6CFF; color:white; width:200px; height:30px; padding-left:5px; border-radius:4px; flex-direction:row; justify-content:space-around; align-items:center;\" onmouseover=\"this.style.backgroundColor='#BA9BF8'\" onmouseout=\"this.style.backgroundColor='#9D6CFF'\" onclick=\"window.commands?.execute('create-mitosheet-from-dataframe-output');\">See Full Dataframe in Mito</div> <script> if (window.commands.hasCommand('create-mitosheet-from-dataframe-output')) document.getElementById('a7dc8bba-37b3-40b6-9e68-4d4020ba75a4').style.display = 'flex' </script> <table border=\"1\" class=\"dataframe\">\n",
       "  <thead>\n",
       "    <tr style=\"text-align: right;\">\n",
       "      <th></th>\n",
       "      <th>DATE</th>\n",
       "      <th>USSTHPI</th>\n",
       "      <th>YEAR</th>\n",
       "      <th>quarter</th>\n",
       "      <th>Quarter_Year</th>\n",
       "    </tr>\n",
       "  </thead>\n",
       "  <tbody>\n",
       "    <tr>\n",
       "      <th>0</th>\n",
       "      <td>1975-01-01</td>\n",
       "      <td>59.86</td>\n",
       "      <td>1975</td>\n",
       "      <td>1</td>\n",
       "      <td>0</td>\n",
       "    </tr>\n",
       "    <tr>\n",
       "      <th>1</th>\n",
       "      <td>1975-04-01</td>\n",
       "      <td>60.85</td>\n",
       "      <td>1975</td>\n",
       "      <td>2</td>\n",
       "      <td>0</td>\n",
       "    </tr>\n",
       "    <tr>\n",
       "      <th>2</th>\n",
       "      <td>1975-07-01</td>\n",
       "      <td>61.16</td>\n",
       "      <td>1975</td>\n",
       "      <td>3</td>\n",
       "      <td>0</td>\n",
       "    </tr>\n",
       "    <tr>\n",
       "      <th>3</th>\n",
       "      <td>1975-10-01</td>\n",
       "      <td>62.24</td>\n",
       "      <td>1975</td>\n",
       "      <td>4</td>\n",
       "      <td>0</td>\n",
       "    </tr>\n",
       "    <tr>\n",
       "      <th>4</th>\n",
       "      <td>1976-01-01</td>\n",
       "      <td>62.88</td>\n",
       "      <td>1976</td>\n",
       "      <td>1</td>\n",
       "      <td>0</td>\n",
       "    </tr>\n",
       "    <tr>\n",
       "      <th>...</th>\n",
       "      <td>...</td>\n",
       "      <td>...</td>\n",
       "      <td>...</td>\n",
       "      <td>...</td>\n",
       "      <td>...</td>\n",
       "    </tr>\n",
       "    <tr>\n",
       "      <th>182</th>\n",
       "      <td>2020-07-01</td>\n",
       "      <td>463.49</td>\n",
       "      <td>2020</td>\n",
       "      <td>3</td>\n",
       "      <td>0</td>\n",
       "    </tr>\n",
       "    <tr>\n",
       "      <th>183</th>\n",
       "      <td>2020-10-01</td>\n",
       "      <td>473.58</td>\n",
       "      <td>2020</td>\n",
       "      <td>4</td>\n",
       "      <td>0</td>\n",
       "    </tr>\n",
       "    <tr>\n",
       "      <th>184</th>\n",
       "      <td>2021-01-01</td>\n",
       "      <td>484.41</td>\n",
       "      <td>2021</td>\n",
       "      <td>1</td>\n",
       "      <td>0</td>\n",
       "    </tr>\n",
       "    <tr>\n",
       "      <th>185</th>\n",
       "      <td>2021-04-01</td>\n",
       "      <td>510.86</td>\n",
       "      <td>2021</td>\n",
       "      <td>2</td>\n",
       "      <td>0</td>\n",
       "    </tr>\n",
       "    <tr>\n",
       "      <th>186</th>\n",
       "      <td>2021-07-01</td>\n",
       "      <td>539.53</td>\n",
       "      <td>2021</td>\n",
       "      <td>3</td>\n",
       "      <td>0</td>\n",
       "    </tr>\n",
       "  </tbody>\n",
       "</table></div>"
      ],
      "text/plain": [
       "          DATE  USSTHPI  YEAR  quarter  Quarter_Year\n",
       "0   1975-01-01    59.86  1975        1             0\n",
       "1   1975-04-01    60.85  1975        2             0\n",
       "2   1975-07-01    61.16  1975        3             0\n",
       "3   1975-10-01    62.24  1975        4             0\n",
       "4   1976-01-01    62.88  1976        1             0\n",
       "..         ...      ...   ...      ...           ...\n",
       "182 2020-07-01   463.49  2020        3             0\n",
       "183 2020-10-01   473.58  2020        4             0\n",
       "184 2021-01-01   484.41  2021        1             0\n",
       "185 2021-04-01   510.86  2021        2             0\n",
       "186 2021-07-01   539.53  2021        3             0\n",
       "\n",
       "[187 rows x 5 columns]"
      ]
     },
     "execution_count": 14,
     "metadata": {},
     "output_type": "execute_result"
    }
   ],
   "source": [
    "USSTHPI_csv['quarter'] = USSTHPI_csv['DATE'].dt.quarter\n",
    "USSTHPI_csv"
   ]
  },
  {
   "cell_type": "code",
   "execution_count": 15,
   "id": "bc8bc709-2f17-4504-b6da-e75e4fcb7b43",
   "metadata": {},
   "outputs": [
    {
     "data": {
      "text/html": [
       "<div><div id=6990ecbd-d0d4-46d8-9bff-7bad05da0535 style=\"display:none; background-color:#9D6CFF; color:white; width:200px; height:30px; padding-left:5px; border-radius:4px; flex-direction:row; justify-content:space-around; align-items:center;\" onmouseover=\"this.style.backgroundColor='#BA9BF8'\" onmouseout=\"this.style.backgroundColor='#9D6CFF'\" onclick=\"window.commands?.execute('create-mitosheet-from-dataframe-output');\">See Full Dataframe in Mito</div> <script> if (window.commands.hasCommand('create-mitosheet-from-dataframe-output')) document.getElementById('6990ecbd-d0d4-46d8-9bff-7bad05da0535').style.display = 'flex' </script> <table border=\"1\" class=\"dataframe\">\n",
       "  <thead>\n",
       "    <tr style=\"text-align: right;\">\n",
       "      <th></th>\n",
       "      <th>DATE</th>\n",
       "      <th>USSTHPI</th>\n",
       "      <th>YEAR</th>\n",
       "      <th>quarter</th>\n",
       "      <th>Quarter_Year</th>\n",
       "    </tr>\n",
       "  </thead>\n",
       "  <tbody>\n",
       "    <tr>\n",
       "      <th>0</th>\n",
       "      <td>1975-01-01</td>\n",
       "      <td>59.86</td>\n",
       "      <td>1975</td>\n",
       "      <td>1</td>\n",
       "      <td>1Q1975</td>\n",
       "    </tr>\n",
       "    <tr>\n",
       "      <th>1</th>\n",
       "      <td>1975-04-01</td>\n",
       "      <td>60.85</td>\n",
       "      <td>1975</td>\n",
       "      <td>2</td>\n",
       "      <td>2Q1975</td>\n",
       "    </tr>\n",
       "    <tr>\n",
       "      <th>2</th>\n",
       "      <td>1975-07-01</td>\n",
       "      <td>61.16</td>\n",
       "      <td>1975</td>\n",
       "      <td>3</td>\n",
       "      <td>3Q1975</td>\n",
       "    </tr>\n",
       "    <tr>\n",
       "      <th>3</th>\n",
       "      <td>1975-10-01</td>\n",
       "      <td>62.24</td>\n",
       "      <td>1975</td>\n",
       "      <td>4</td>\n",
       "      <td>4Q1975</td>\n",
       "    </tr>\n",
       "    <tr>\n",
       "      <th>4</th>\n",
       "      <td>1976-01-01</td>\n",
       "      <td>62.88</td>\n",
       "      <td>1976</td>\n",
       "      <td>1</td>\n",
       "      <td>1Q1976</td>\n",
       "    </tr>\n",
       "    <tr>\n",
       "      <th>...</th>\n",
       "      <td>...</td>\n",
       "      <td>...</td>\n",
       "      <td>...</td>\n",
       "      <td>...</td>\n",
       "      <td>...</td>\n",
       "    </tr>\n",
       "    <tr>\n",
       "      <th>182</th>\n",
       "      <td>2020-07-01</td>\n",
       "      <td>463.49</td>\n",
       "      <td>2020</td>\n",
       "      <td>3</td>\n",
       "      <td>3Q2020</td>\n",
       "    </tr>\n",
       "    <tr>\n",
       "      <th>183</th>\n",
       "      <td>2020-10-01</td>\n",
       "      <td>473.58</td>\n",
       "      <td>2020</td>\n",
       "      <td>4</td>\n",
       "      <td>4Q2020</td>\n",
       "    </tr>\n",
       "    <tr>\n",
       "      <th>184</th>\n",
       "      <td>2021-01-01</td>\n",
       "      <td>484.41</td>\n",
       "      <td>2021</td>\n",
       "      <td>1</td>\n",
       "      <td>1Q2021</td>\n",
       "    </tr>\n",
       "    <tr>\n",
       "      <th>185</th>\n",
       "      <td>2021-04-01</td>\n",
       "      <td>510.86</td>\n",
       "      <td>2021</td>\n",
       "      <td>2</td>\n",
       "      <td>2Q2021</td>\n",
       "    </tr>\n",
       "    <tr>\n",
       "      <th>186</th>\n",
       "      <td>2021-07-01</td>\n",
       "      <td>539.53</td>\n",
       "      <td>2021</td>\n",
       "      <td>3</td>\n",
       "      <td>3Q2021</td>\n",
       "    </tr>\n",
       "  </tbody>\n",
       "</table></div>"
      ],
      "text/plain": [
       "          DATE  USSTHPI  YEAR  quarter Quarter_Year\n",
       "0   1975-01-01    59.86  1975        1       1Q1975\n",
       "1   1975-04-01    60.85  1975        2       2Q1975\n",
       "2   1975-07-01    61.16  1975        3       3Q1975\n",
       "3   1975-10-01    62.24  1975        4       4Q1975\n",
       "4   1976-01-01    62.88  1976        1       1Q1976\n",
       "..         ...      ...   ...      ...          ...\n",
       "182 2020-07-01   463.49  2020        3       3Q2020\n",
       "183 2020-10-01   473.58  2020        4       4Q2020\n",
       "184 2021-01-01   484.41  2021        1       1Q2021\n",
       "185 2021-04-01   510.86  2021        2       2Q2021\n",
       "186 2021-07-01   539.53  2021        3       3Q2021\n",
       "\n",
       "[187 rows x 5 columns]"
      ]
     },
     "execution_count": 15,
     "metadata": {},
     "output_type": "execute_result"
    }
   ],
   "source": [
    "USSTHPI_csv['Quarter_Year'] = USSTHPI_csv['quarter'].astype(str) + 'Q' + USSTHPI_csv['YEAR'].astype(str)\n",
    "USSTHPI_csv"
   ]
  },
  {
   "cell_type": "code",
   "execution_count": 16,
   "id": "25c18bbf-24d6-47fd-9f98-d13bd1309cba",
   "metadata": {},
   "outputs": [
    {
     "data": {
      "application/vnd.jupyter.widget-view+json": {
       "model_id": "899e7f4f0cbe431bb77869c70d11ae67",
       "version_major": 2,
       "version_minor": 0
      },
      "text/plain": [
       "MitoWidget(analysis_data_json='{\"analysisName\": \"UUID-8304c68a-e4a6-43ac-9fbb-91594642cca2\", \"code\": {\"imports…"
      ]
     },
     "metadata": {},
     "output_type": "display_data"
    }
   ],
   "source": [
    "mitosheet.sheet(USSTHPI_csv, Q_MORTGAGE30US)"
   ]
  },
  {
   "cell_type": "code",
   "execution_count": 17,
   "id": "6b177d73-2abe-4c4d-803e-d81815616a92",
   "metadata": {},
   "outputs": [],
   "source": [
    "from mitosheet import *; register_analysis('UUID-5ea90577-0aad-48dc-abe4-ef00971f2ae1')\n",
    "\n",
    "# Merged USSTHPI_csv and Q_MORTGAGE30US\n",
    "USSTHPI_csv_tmp = USSTHPI_csv.drop(['quarter', 'YEAR', 'DATE'], axis=1)\n",
    "df3 = USSTHPI_csv_tmp.merge(Q_MORTGAGE30US, left_on=['Quarter_Year'], right_on=['Quarter_Year'], how='inner', suffixes=['_USSTHPI_csv', '_Q_MORTGAGE30US'])\n",
    "\n",
    "# Reordered Quarter_Year in df3\n",
    "df3_columns = [col for col in df3.columns if col != 'Quarter_Year']\n",
    "df3_columns.insert(0, 'Quarter_Year')\n",
    "df3 = df3[df3_columns]\n",
    "\n",
    "# Renamed df3 to HPI_mortgage\n",
    "HPI_mortgage = df3\n"
   ]
  },
  {
   "cell_type": "code",
   "execution_count": 18,
   "id": "9d434bd5-17f4-430c-97f2-b2b4a53e0051",
   "metadata": {},
   "outputs": [
    {
     "data": {
      "text/html": [
       "<div><div id=c8b9a281-52d8-4994-a8ef-4e7fc0bfb46b style=\"display:none; background-color:#9D6CFF; color:white; width:200px; height:30px; padding-left:5px; border-radius:4px; flex-direction:row; justify-content:space-around; align-items:center;\" onmouseover=\"this.style.backgroundColor='#BA9BF8'\" onmouseout=\"this.style.backgroundColor='#9D6CFF'\" onclick=\"window.commands?.execute('create-mitosheet-from-dataframe-output');\">See Full Dataframe in Mito</div> <script> if (window.commands.hasCommand('create-mitosheet-from-dataframe-output')) document.getElementById('c8b9a281-52d8-4994-a8ef-4e7fc0bfb46b').style.display = 'flex' </script> <table border=\"1\" class=\"dataframe\">\n",
       "  <thead>\n",
       "    <tr style=\"text-align: right;\">\n",
       "      <th></th>\n",
       "      <th>Quarter_Year</th>\n",
       "      <th>USSTHPI</th>\n",
       "      <th>Avg_Q_Mortgage</th>\n",
       "    </tr>\n",
       "  </thead>\n",
       "  <tbody>\n",
       "    <tr>\n",
       "      <th>0</th>\n",
       "      <td>1Q1975</td>\n",
       "      <td>59.86</td>\n",
       "      <td>9.168462</td>\n",
       "    </tr>\n",
       "    <tr>\n",
       "      <th>1</th>\n",
       "      <td>2Q1975</td>\n",
       "      <td>60.85</td>\n",
       "      <td>8.875385</td>\n",
       "    </tr>\n",
       "    <tr>\n",
       "      <th>2</th>\n",
       "      <td>3Q1975</td>\n",
       "      <td>61.16</td>\n",
       "      <td>8.983846</td>\n",
       "    </tr>\n",
       "    <tr>\n",
       "      <th>3</th>\n",
       "      <td>4Q1975</td>\n",
       "      <td>62.24</td>\n",
       "      <td>9.160769</td>\n",
       "    </tr>\n",
       "    <tr>\n",
       "      <th>4</th>\n",
       "      <td>1Q1976</td>\n",
       "      <td>62.88</td>\n",
       "      <td>8.873077</td>\n",
       "    </tr>\n",
       "  </tbody>\n",
       "</table></div>"
      ],
      "text/plain": [
       "  Quarter_Year  USSTHPI  Avg_Q_Mortgage\n",
       "0       1Q1975    59.86        9.168462\n",
       "1       2Q1975    60.85        8.875385\n",
       "2       3Q1975    61.16        8.983846\n",
       "3       4Q1975    62.24        9.160769\n",
       "4       1Q1976    62.88        8.873077"
      ]
     },
     "execution_count": 18,
     "metadata": {},
     "output_type": "execute_result"
    }
   ],
   "source": [
    "HPI_mortgage.head()\n"
   ]
  },
  {
   "cell_type": "code",
   "execution_count": 19,
   "id": "514cb721-9182-4149-9cdb-42cbd33088a7",
   "metadata": {},
   "outputs": [
    {
     "data": {
      "application/vnd.jupyter.widget-view+json": {
       "model_id": "7b2acbceef6c4318b60024cb931dad09",
       "version_major": 2,
       "version_minor": 0
      },
      "text/plain": [
       "MitoWidget(analysis_data_json='{\"analysisName\": \"UUID-f0cd17f1-388e-4e06-a3e2-ebc3de3397f3\", \"code\": {\"imports…"
      ]
     },
     "metadata": {},
     "output_type": "display_data"
    }
   ],
   "source": [
    "import mitosheet\n",
    "mitosheet.sheet(HPI_mortgage, view_df=True)"
   ]
  },
  {
   "cell_type": "code",
   "execution_count": 20,
   "id": "d1afa7f5-c6d2-444c-8401-58ccc29218b4",
   "metadata": {},
   "outputs": [
    {
     "data": {
      "text/html": [
       "<div><div id=1d7cd316-2049-400c-80d4-8e3b38c0a759 style=\"display:none; background-color:#9D6CFF; color:white; width:200px; height:30px; padding-left:5px; border-radius:4px; flex-direction:row; justify-content:space-around; align-items:center;\" onmouseover=\"this.style.backgroundColor='#BA9BF8'\" onmouseout=\"this.style.backgroundColor='#9D6CFF'\" onclick=\"window.commands?.execute('create-mitosheet-from-dataframe-output');\">See Full Dataframe in Mito</div> <script> if (window.commands.hasCommand('create-mitosheet-from-dataframe-output')) document.getElementById('1d7cd316-2049-400c-80d4-8e3b38c0a759').style.display = 'flex' </script> <table border=\"1\" class=\"dataframe\">\n",
       "  <thead>\n",
       "    <tr style=\"text-align: right;\">\n",
       "      <th></th>\n",
       "      <th>USSTHPI</th>\n",
       "      <th>Avg_Q_Mortgage</th>\n",
       "    </tr>\n",
       "  </thead>\n",
       "  <tbody>\n",
       "    <tr>\n",
       "      <th>count</th>\n",
       "      <td>187.000000</td>\n",
       "      <td>187.000000</td>\n",
       "    </tr>\n",
       "    <tr>\n",
       "      <th>mean</th>\n",
       "      <td>238.514171</td>\n",
       "      <td>7.806211</td>\n",
       "    </tr>\n",
       "    <tr>\n",
       "      <th>std</th>\n",
       "      <td>117.692044</td>\n",
       "      <td>3.398563</td>\n",
       "    </tr>\n",
       "    <tr>\n",
       "      <th>min</th>\n",
       "      <td>59.860000</td>\n",
       "      <td>2.760714</td>\n",
       "    </tr>\n",
       "    <tr>\n",
       "      <th>25%</th>\n",
       "      <td>138.635000</td>\n",
       "      <td>4.959071</td>\n",
       "    </tr>\n",
       "    <tr>\n",
       "      <th>50%</th>\n",
       "      <td>209.850000</td>\n",
       "      <td>7.295833</td>\n",
       "    </tr>\n",
       "    <tr>\n",
       "      <th>75%</th>\n",
       "      <td>336.110000</td>\n",
       "      <td>9.786923</td>\n",
       "    </tr>\n",
       "    <tr>\n",
       "      <th>max</th>\n",
       "      <td>539.530000</td>\n",
       "      <td>17.735714</td>\n",
       "    </tr>\n",
       "  </tbody>\n",
       "</table></div>"
      ],
      "text/plain": [
       "          USSTHPI  Avg_Q_Mortgage\n",
       "count  187.000000      187.000000\n",
       "mean   238.514171        7.806211\n",
       "std    117.692044        3.398563\n",
       "min     59.860000        2.760714\n",
       "25%    138.635000        4.959071\n",
       "50%    209.850000        7.295833\n",
       "75%    336.110000        9.786923\n",
       "max    539.530000       17.735714"
      ]
     },
     "execution_count": 20,
     "metadata": {},
     "output_type": "execute_result"
    }
   ],
   "source": [
    "# Descriptive statistics\n",
    "HPI_mortgage.describe()"
   ]
  },
  {
   "cell_type": "markdown",
   "id": "c0a9fb1a-cf88-4c36-8812-e0cedfa410ed",
   "metadata": {},
   "source": [
    "## Create neural network model"
   ]
  },
  {
   "cell_type": "code",
   "execution_count": 21,
   "id": "59960f82-21da-47da-84bc-5cfcadf25a72",
   "metadata": {},
   "outputs": [],
   "source": [
    "X = HPI_mortgage['USSTHPI'].values.reshape(-1, 1)\n",
    "y = HPI_mortgage['Avg_Q_Mortgage']\n"
   ]
  },
  {
   "cell_type": "code",
   "execution_count": 22,
   "id": "3f434c16-d4aa-46b4-a39c-fd0a32eb0f62",
   "metadata": {},
   "outputs": [
    {
     "data": {
      "text/plain": [
       "(187, 1)"
      ]
     },
     "execution_count": 22,
     "metadata": {},
     "output_type": "execute_result"
    }
   ],
   "source": [
    "X.shape"
   ]
  },
  {
   "cell_type": "code",
   "execution_count": 23,
   "id": "3b4e10c4",
   "metadata": {},
   "outputs": [],
   "source": [
    "# Use sklearn to split dataset\n",
    "from sklearn.model_selection import train_test_split\n",
    "X_train, X_test, y_train, y_test = train_test_split(X, y, random_state=78)"
   ]
  },
  {
   "cell_type": "code",
   "execution_count": 24,
   "id": "c11555a7-382d-4c73-ba07-9c6db3ad45f6",
   "metadata": {},
   "outputs": [],
   "source": [
    "# Create the Keras Sequential model\n",
    "nn_model = tf.keras.models.Sequential()"
   ]
  },
  {
   "cell_type": "code",
   "execution_count": 25,
   "id": "77faff65",
   "metadata": {},
   "outputs": [],
   "source": [
    "# Add our first Dense layer, including the input layer\n",
    "nn_model.add(tf.keras.layers.Dense(units=2, activation=\"sigmoid\", input_dim = len(X_train[0])))"
   ]
  },
  {
   "cell_type": "code",
   "execution_count": 26,
   "id": "2dc6f746",
   "metadata": {},
   "outputs": [],
   "source": [
    "# Add the output layer that uses a probability activation function\n",
    "nn_model.add(tf.keras.layers.Dense(units=1))"
   ]
  },
  {
   "cell_type": "code",
   "execution_count": 27,
   "id": "861d877a",
   "metadata": {
    "scrolled": true
   },
   "outputs": [
    {
     "name": "stdout",
     "output_type": "stream",
     "text": [
      "Model: \"sequential\"\n",
      "_________________________________________________________________\n",
      " Layer (type)                Output Shape              Param #   \n",
      "=================================================================\n",
      " dense (Dense)               (None, 2)                 4         \n",
      "                                                                 \n",
      " dense_1 (Dense)             (None, 1)                 3         \n",
      "                                                                 \n",
      "=================================================================\n",
      "Total params: 7\n",
      "Trainable params: 7\n",
      "Non-trainable params: 0\n",
      "_________________________________________________________________\n"
     ]
    }
   ],
   "source": [
    "# Check the structure of the Sequential model\n",
    "nn_model.summary()"
   ]
  },
  {
   "cell_type": "code",
   "execution_count": 28,
   "id": "7d39ae02",
   "metadata": {},
   "outputs": [],
   "source": [
    "# Compile the Sequential model together and customize metrics\n",
    "nn_model.compile(loss=\"binary_crossentropy\", optimizer=\"adam\", metrics=[\"accuracy\"])"
   ]
  },
  {
   "cell_type": "code",
   "execution_count": 29,
   "id": "fca591e2",
   "metadata": {},
   "outputs": [
    {
     "name": "stdout",
     "output_type": "stream",
     "text": [
      "Epoch 1/100\n",
      "5/5 [==============================] - 1s 5ms/step - loss: 6.5092 - accuracy: 0.0000e+00\n",
      "Epoch 2/100\n",
      "5/5 [==============================] - 0s 4ms/step - loss: 6.1571 - accuracy: 0.0000e+00\n",
      "Epoch 3/100\n",
      "5/5 [==============================] - 0s 5ms/step - loss: 5.8268 - accuracy: 0.0000e+00\n",
      "Epoch 4/100\n",
      "5/5 [==============================] - 0s 4ms/step - loss: 5.4974 - accuracy: 0.0000e+00\n",
      "Epoch 5/100\n",
      "5/5 [==============================] - 0s 4ms/step - loss: 5.1695 - accuracy: 0.0000e+00\n",
      "Epoch 6/100\n",
      "5/5 [==============================] - 0s 4ms/step - loss: 4.8547 - accuracy: 0.0000e+00\n",
      "Epoch 7/100\n",
      "5/5 [==============================] - 0s 3ms/step - loss: 4.5405 - accuracy: 0.0000e+00\n",
      "Epoch 8/100\n",
      "5/5 [==============================] - 0s 3ms/step - loss: 4.2389 - accuracy: 0.0000e+00\n",
      "Epoch 9/100\n",
      "5/5 [==============================] - 0s 4ms/step - loss: 3.9295 - accuracy: 0.0000e+00\n",
      "Epoch 10/100\n",
      "5/5 [==============================] - 0s 5ms/step - loss: 3.6322 - accuracy: 0.0000e+00\n",
      "Epoch 11/100\n",
      "5/5 [==============================] - 0s 4ms/step - loss: 3.3336 - accuracy: 0.0000e+00\n",
      "Epoch 12/100\n",
      "5/5 [==============================] - 0s 4ms/step - loss: 3.0434 - accuracy: 0.0000e+00\n",
      "Epoch 13/100\n",
      "5/5 [==============================] - 0s 4ms/step - loss: 2.7530 - accuracy: 0.0000e+00\n",
      "Epoch 14/100\n",
      "5/5 [==============================] - 0s 4ms/step - loss: 2.4717 - accuracy: 0.0000e+00\n",
      "Epoch 15/100\n",
      "5/5 [==============================] - 0s 4ms/step - loss: 2.1849 - accuracy: 0.0000e+00\n",
      "Epoch 16/100\n",
      "5/5 [==============================] - 0s 5ms/step - loss: 1.9099 - accuracy: 0.0000e+00\n",
      "Epoch 17/100\n",
      "5/5 [==============================] - 0s 4ms/step - loss: 1.6298 - accuracy: 0.0000e+00\n",
      "Epoch 18/100\n",
      "5/5 [==============================] - 0s 4ms/step - loss: 1.3521 - accuracy: 0.0000e+00\n",
      "Epoch 19/100\n",
      "5/5 [==============================] - 0s 4ms/step - loss: 1.0809 - accuracy: 0.0000e+00\n",
      "Epoch 20/100\n",
      "5/5 [==============================] - 0s 4ms/step - loss: 0.7980 - accuracy: 0.0000e+00\n",
      "Epoch 21/100\n",
      "5/5 [==============================] - 0s 4ms/step - loss: 0.5250 - accuracy: 0.0000e+00\n",
      "Epoch 22/100\n",
      "5/5 [==============================] - 0s 4ms/step - loss: 0.2478 - accuracy: 0.0000e+00\n",
      "Epoch 23/100\n",
      "5/5 [==============================] - 0s 5ms/step - loss: -0.0301 - accuracy: 0.0000e+00\n",
      "Epoch 24/100\n",
      "5/5 [==============================] - 0s 4ms/step - loss: -0.3096 - accuracy: 0.0000e+00\n",
      "Epoch 25/100\n",
      "5/5 [==============================] - 0s 4ms/step - loss: -0.5814 - accuracy: 0.0000e+00\n",
      "Epoch 26/100\n",
      "5/5 [==============================] - 0s 4ms/step - loss: -0.8695 - accuracy: 0.0000e+00\n",
      "Epoch 27/100\n",
      "5/5 [==============================] - 0s 4ms/step - loss: -1.1485 - accuracy: 0.0000e+00\n",
      "Epoch 28/100\n",
      "5/5 [==============================] - 0s 3ms/step - loss: -1.4344 - accuracy: 0.0000e+00\n",
      "Epoch 29/100\n",
      "5/5 [==============================] - 0s 4ms/step - loss: -1.7208 - accuracy: 0.0000e+00\n",
      "Epoch 30/100\n",
      "5/5 [==============================] - 0s 4ms/step - loss: -2.0079 - accuracy: 0.0000e+00\n",
      "Epoch 31/100\n",
      "5/5 [==============================] - 0s 4ms/step - loss: -2.2948 - accuracy: 0.0000e+00\n",
      "Epoch 32/100\n",
      "5/5 [==============================] - 0s 4ms/step - loss: -2.5955 - accuracy: 0.0000e+00\n",
      "Epoch 33/100\n",
      "5/5 [==============================] - 0s 4ms/step - loss: -2.8915 - accuracy: 0.0000e+00\n",
      "Epoch 34/100\n",
      "5/5 [==============================] - 0s 4ms/step - loss: -3.1967 - accuracy: 0.0000e+00\n",
      "Epoch 35/100\n",
      "5/5 [==============================] - 0s 4ms/step - loss: -3.5042 - accuracy: 0.0000e+00\n",
      "Epoch 36/100\n",
      "5/5 [==============================] - 0s 4ms/step - loss: -3.8153 - accuracy: 0.0000e+00\n",
      "Epoch 37/100\n",
      "5/5 [==============================] - 0s 5ms/step - loss: -4.1366 - accuracy: 0.0000e+00\n",
      "Epoch 38/100\n",
      "5/5 [==============================] - 0s 5ms/step - loss: -4.4682 - accuracy: 0.0000e+00\n",
      "Epoch 39/100\n",
      "5/5 [==============================] - 0s 4ms/step - loss: -4.8018 - accuracy: 0.0000e+00\n",
      "Epoch 40/100\n",
      "5/5 [==============================] - 0s 5ms/step - loss: -5.1506 - accuracy: 0.0000e+00\n",
      "Epoch 41/100\n",
      "5/5 [==============================] - 0s 4ms/step - loss: -5.5016 - accuracy: 0.0000e+00\n",
      "Epoch 42/100\n",
      "5/5 [==============================] - 0s 4ms/step - loss: -5.8686 - accuracy: 0.0000e+00\n",
      "Epoch 43/100\n",
      "5/5 [==============================] - 0s 4ms/step - loss: -6.2485 - accuracy: 0.0000e+00\n",
      "Epoch 44/100\n",
      "5/5 [==============================] - 0s 4ms/step - loss: -6.6450 - accuracy: 0.0000e+00\n",
      "Epoch 45/100\n",
      "5/5 [==============================] - 0s 4ms/step - loss: -7.0421 - accuracy: 0.0000e+00\n",
      "Epoch 46/100\n",
      "5/5 [==============================] - 0s 4ms/step - loss: -7.4693 - accuracy: 0.0000e+00\n",
      "Epoch 47/100\n",
      "5/5 [==============================] - 0s 4ms/step - loss: -7.9342 - accuracy: 0.0000e+00\n",
      "Epoch 48/100\n",
      "5/5 [==============================] - 0s 4ms/step - loss: -8.4103 - accuracy: 0.0000e+00\n",
      "Epoch 49/100\n",
      "5/5 [==============================] - 0s 3ms/step - loss: -8.9265 - accuracy: 0.0000e+00\n",
      "Epoch 50/100\n",
      "5/5 [==============================] - 0s 4ms/step - loss: -9.4719 - accuracy: 0.0000e+00\n",
      "Epoch 51/100\n",
      "5/5 [==============================] - 0s 4ms/step - loss: -10.0663 - accuracy: 0.0000e+00\n",
      "Epoch 52/100\n",
      "5/5 [==============================] - 0s 4ms/step - loss: -10.7374 - accuracy: 0.0000e+00\n",
      "Epoch 53/100\n",
      "5/5 [==============================] - 0s 4ms/step - loss: -11.4636 - accuracy: 0.0000e+00\n",
      "Epoch 54/100\n",
      "5/5 [==============================] - 0s 3ms/step - loss: -12.2965 - accuracy: 0.0000e+00\n",
      "Epoch 55/100\n",
      "5/5 [==============================] - 0s 4ms/step - loss: -13.2209 - accuracy: 0.0000e+00\n",
      "Epoch 56/100\n",
      "5/5 [==============================] - 0s 4ms/step - loss: -14.3265 - accuracy: 0.0000e+00\n",
      "Epoch 57/100\n",
      "5/5 [==============================] - 0s 4ms/step - loss: -15.6833 - accuracy: 0.0000e+00\n",
      "Epoch 58/100\n",
      "5/5 [==============================] - 0s 4ms/step - loss: -17.4641 - accuracy: 0.0000e+00\n",
      "Epoch 59/100\n",
      "5/5 [==============================] - 0s 5ms/step - loss: -20.0946 - accuracy: 0.0000e+00\n",
      "Epoch 60/100\n",
      "5/5 [==============================] - 0s 4ms/step - loss: -25.0676 - accuracy: 0.0000e+00\n",
      "Epoch 61/100\n",
      "5/5 [==============================] - 0s 4ms/step - loss: -78.4687 - accuracy: 0.0000e+00\n",
      "Epoch 62/100\n",
      "5/5 [==============================] - 0s 3ms/step - loss: -104.2527 - accuracy: 0.0000e+00\n",
      "Epoch 63/100\n",
      "5/5 [==============================] - 0s 3ms/step - loss: -104.2527 - accuracy: 0.0000e+00\n",
      "Epoch 64/100\n",
      "5/5 [==============================] - 0s 4ms/step - loss: -104.2527 - accuracy: 0.0000e+00\n",
      "Epoch 65/100\n",
      "5/5 [==============================] - 0s 4ms/step - loss: -104.2527 - accuracy: 0.0000e+00\n",
      "Epoch 66/100\n",
      "5/5 [==============================] - 0s 3ms/step - loss: -104.2527 - accuracy: 0.0000e+00\n",
      "Epoch 67/100\n",
      "5/5 [==============================] - 0s 4ms/step - loss: -104.2527 - accuracy: 0.0000e+00\n",
      "Epoch 68/100\n",
      "5/5 [==============================] - 0s 4ms/step - loss: -104.2527 - accuracy: 0.0000e+00\n",
      "Epoch 69/100\n",
      "5/5 [==============================] - 0s 4ms/step - loss: -104.2527 - accuracy: 0.0000e+00\n",
      "Epoch 70/100\n",
      "5/5 [==============================] - 0s 3ms/step - loss: -104.2528 - accuracy: 0.0000e+00\n",
      "Epoch 71/100\n",
      "5/5 [==============================] - 0s 3ms/step - loss: -104.2527 - accuracy: 0.0000e+00\n",
      "Epoch 72/100\n",
      "5/5 [==============================] - 0s 3ms/step - loss: -104.2527 - accuracy: 0.0000e+00\n",
      "Epoch 73/100\n",
      "5/5 [==============================] - 0s 3ms/step - loss: -104.2527 - accuracy: 0.0000e+00\n",
      "Epoch 74/100\n",
      "5/5 [==============================] - 0s 4ms/step - loss: -104.2527 - accuracy: 0.0000e+00\n",
      "Epoch 75/100\n",
      "5/5 [==============================] - 0s 4ms/step - loss: -104.2527 - accuracy: 0.0000e+00\n",
      "Epoch 76/100\n",
      "5/5 [==============================] - 0s 4ms/step - loss: -104.2527 - accuracy: 0.0000e+00\n",
      "Epoch 77/100\n",
      "5/5 [==============================] - 0s 4ms/step - loss: -104.2527 - accuracy: 0.0000e+00\n",
      "Epoch 78/100\n",
      "5/5 [==============================] - 0s 4ms/step - loss: -104.2527 - accuracy: 0.0000e+00\n",
      "Epoch 79/100\n",
      "5/5 [==============================] - 0s 4ms/step - loss: -104.2527 - accuracy: 0.0000e+00\n",
      "Epoch 80/100\n"
     ]
    },
    {
     "name": "stdout",
     "output_type": "stream",
     "text": [
      "5/5 [==============================] - 0s 4ms/step - loss: -104.2527 - accuracy: 0.0000e+00\n",
      "Epoch 81/100\n",
      "5/5 [==============================] - 0s 4ms/step - loss: -104.2527 - accuracy: 0.0000e+00\n",
      "Epoch 82/100\n",
      "5/5 [==============================] - 0s 4ms/step - loss: -104.2527 - accuracy: 0.0000e+00\n",
      "Epoch 83/100\n",
      "5/5 [==============================] - 0s 4ms/step - loss: -104.2527 - accuracy: 0.0000e+00\n",
      "Epoch 84/100\n",
      "5/5 [==============================] - 0s 3ms/step - loss: -104.2527 - accuracy: 0.0000e+00\n",
      "Epoch 85/100\n",
      "5/5 [==============================] - 0s 4ms/step - loss: -104.2527 - accuracy: 0.0000e+00\n",
      "Epoch 86/100\n",
      "5/5 [==============================] - 0s 4ms/step - loss: -104.2527 - accuracy: 0.0000e+00\n",
      "Epoch 87/100\n",
      "5/5 [==============================] - 0s 4ms/step - loss: -104.2527 - accuracy: 0.0000e+00\n",
      "Epoch 88/100\n",
      "5/5 [==============================] - 0s 4ms/step - loss: -104.2527 - accuracy: 0.0000e+00\n",
      "Epoch 89/100\n",
      "5/5 [==============================] - 0s 4ms/step - loss: -104.2527 - accuracy: 0.0000e+00\n",
      "Epoch 90/100\n",
      "5/5 [==============================] - 0s 4ms/step - loss: -104.2527 - accuracy: 0.0000e+00\n",
      "Epoch 91/100\n",
      "5/5 [==============================] - 0s 4ms/step - loss: -104.2527 - accuracy: 0.0000e+00\n",
      "Epoch 92/100\n",
      "5/5 [==============================] - 0s 4ms/step - loss: -104.2527 - accuracy: 0.0000e+00\n",
      "Epoch 93/100\n",
      "5/5 [==============================] - 0s 4ms/step - loss: -104.2527 - accuracy: 0.0000e+00\n",
      "Epoch 94/100\n",
      "5/5 [==============================] - 0s 5ms/step - loss: -104.2527 - accuracy: 0.0000e+00\n",
      "Epoch 95/100\n",
      "5/5 [==============================] - 0s 3ms/step - loss: -104.2527 - accuracy: 0.0000e+00\n",
      "Epoch 96/100\n",
      "5/5 [==============================] - 0s 4ms/step - loss: -104.2527 - accuracy: 0.0000e+00\n",
      "Epoch 97/100\n",
      "5/5 [==============================] - 0s 4ms/step - loss: -104.2527 - accuracy: 0.0000e+00\n",
      "Epoch 98/100\n",
      "5/5 [==============================] - 0s 3ms/step - loss: -104.2527 - accuracy: 0.0000e+00\n",
      "Epoch 99/100\n",
      "5/5 [==============================] - 0s 3ms/step - loss: -104.2527 - accuracy: 0.0000e+00\n",
      "Epoch 100/100\n",
      "5/5 [==============================] - 0s 3ms/step - loss: -104.2527 - accuracy: 0.0000e+00\n"
     ]
    }
   ],
   "source": [
    "# Fit the model to the training data\n",
    "fit_model = nn_model.fit(X_train, y_train, epochs=100)"
   ]
  },
  {
   "cell_type": "code",
   "execution_count": 30,
   "id": "44ca971e",
   "metadata": {},
   "outputs": [
    {
     "name": "stdout",
     "output_type": "stream",
     "text": [
      "2/2 - 0s - loss: -1.0241e+02 - accuracy: 0.0000e+00 - 474ms/epoch - 237ms/step\n",
      "Loss: -102.40975189208984, Accuracy: 0.0\n"
     ]
    }
   ],
   "source": [
    "model_loss, model_accuracy = nn_model.evaluate(X_test ,y_test,verbose=2)\n",
    "print(f\"Loss: {model_loss}, Accuracy: {model_accuracy}\")"
   ]
  },
  {
   "cell_type": "code",
   "execution_count": 31,
   "id": "639a5c8e",
   "metadata": {},
   "outputs": [
    {
     "ename": "NameError",
     "evalue": "name 'model' is not defined",
     "output_type": "error",
     "traceback": [
      "\u001b[1;31m---------------------------------------------------------------------------\u001b[0m",
      "\u001b[1;31mNameError\u001b[0m                                 Traceback (most recent call last)",
      "\u001b[1;32m~\\AppData\\Local\\Temp/ipykernel_20748/53772172.py\u001b[0m in \u001b[0;36m<module>\u001b[1;34m\u001b[0m\n\u001b[0;32m      1\u001b[0m \u001b[1;31m# print prediction results\u001b[0m\u001b[1;33m\u001b[0m\u001b[1;33m\u001b[0m\u001b[1;33m\u001b[0m\u001b[0m\n\u001b[1;32m----> 2\u001b[1;33m \u001b[0mprint\u001b[0m\u001b[1;33m(\u001b[0m\u001b[1;34m'Coefficients:'\u001b[0m\u001b[1;33m,\u001b[0m \u001b[0mmodel\u001b[0m\u001b[1;33m.\u001b[0m\u001b[0mcoef_\u001b[0m\u001b[1;33m)\u001b[0m\u001b[1;33m\u001b[0m\u001b[1;33m\u001b[0m\u001b[0m\n\u001b[0m\u001b[0;32m      3\u001b[0m \u001b[0mprint\u001b[0m\u001b[1;33m(\u001b[0m\u001b[1;34m'Intercept:'\u001b[0m\u001b[1;33m,\u001b[0m \u001b[0mmodel\u001b[0m\u001b[1;33m.\u001b[0m\u001b[0mintercept_\u001b[0m\u001b[1;33m)\u001b[0m\u001b[1;33m\u001b[0m\u001b[1;33m\u001b[0m\u001b[0m\n\u001b[0;32m      4\u001b[0m \u001b[0mprint\u001b[0m\u001b[1;33m(\u001b[0m\u001b[1;34m'R2:'\u001b[0m\u001b[1;33m,\u001b[0m \u001b[0mr2_score\u001b[0m\u001b[1;33m(\u001b[0m\u001b[0my_test\u001b[0m\u001b[1;33m,\u001b[0m \u001b[0my_pred\u001b[0m\u001b[1;33m)\u001b[0m\u001b[1;33m)\u001b[0m\u001b[1;33m\u001b[0m\u001b[1;33m\u001b[0m\u001b[0m\n\u001b[0;32m      5\u001b[0m \u001b[0mprint\u001b[0m\u001b[1;33m(\u001b[0m\u001b[1;34m'mean squared error:'\u001b[0m\u001b[1;33m,\u001b[0m \u001b[0mmean_squared_error\u001b[0m\u001b[1;33m(\u001b[0m\u001b[0my_test\u001b[0m\u001b[1;33m,\u001b[0m \u001b[0my_pred\u001b[0m\u001b[1;33m)\u001b[0m\u001b[1;33m)\u001b[0m\u001b[1;33m\u001b[0m\u001b[1;33m\u001b[0m\u001b[0m\n",
      "\u001b[1;31mNameError\u001b[0m: name 'model' is not defined"
     ]
    }
   ],
   "source": [
    "# print prediction results \n",
    "print('Coefficients:', model.coef_)\n",
    "print('Intercept:', model.intercept_)\n",
    "print('R2:', r2_score(y_test, y_pred))\n",
    "print('mean squared error:', mean_squared_error(y_test, y_pred))"
   ]
  },
  {
   "cell_type": "markdown",
   "id": "42eea092-7385-4864-bc3a-a3f52ec14d10",
   "metadata": {},
   "source": [
    "## Evaluate model quality"
   ]
  },
  {
   "cell_type": "code",
   "execution_count": null,
   "id": "b84f3b8a-9a5c-4651-a322-0d1318e63a25",
   "metadata": {},
   "outputs": [],
   "source": [
    "print(model.coef_)\n",
    "print(model.intercept_)"
   ]
  },
  {
   "cell_type": "code",
   "execution_count": null,
   "id": "4a80f4b4-1d35-4541-a4ab-d006e9d36ea9",
   "metadata": {},
   "outputs": [],
   "source": [
    "r2_score(y, y_pred)\n"
   ]
  },
  {
   "cell_type": "code",
   "execution_count": null,
   "id": "b8d9c7f4-4c95-4878-a476-447fc17a7630",
   "metadata": {},
   "outputs": [],
   "source": [
    "mean_squared_error(y, y_pred)"
   ]
  },
  {
   "cell_type": "code",
   "execution_count": null,
   "id": "25e2237d-a4d5-42ef-939a-64e475dcdc08",
   "metadata": {},
   "outputs": [],
   "source": []
  }
 ],
 "metadata": {
  "kernelspec": {
   "display_name": "mlenv",
   "language": "python",
   "name": "mlenv"
  },
  "language_info": {
   "codemirror_mode": {
    "name": "ipython",
    "version": 3
   },
   "file_extension": ".py",
   "mimetype": "text/x-python",
   "name": "python",
   "nbconvert_exporter": "python",
   "pygments_lexer": "ipython3",
   "version": "3.7.11"
  }
 },
 "nbformat": 4,
 "nbformat_minor": 5
}
