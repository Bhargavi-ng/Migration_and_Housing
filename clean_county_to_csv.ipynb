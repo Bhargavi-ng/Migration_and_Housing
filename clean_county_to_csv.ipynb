{
 "cells": [
  {
   "cell_type": "code",
   "execution_count": 5,
   "id": "b2c07d7f",
   "metadata": {},
   "outputs": [],
   "source": [
    "# Import dependencies\n",
    "import pandas as pd\n"
   ]
  },
  {
   "cell_type": "code",
   "execution_count": null,
   "id": "bc65ba05",
   "metadata": {},
   "outputs": [],
   "source": [
    "read_file = pd.read_excel (\".\\Resources\\cleaned-county-to-county-2015-2019-ins-outs-nets-gross.xlsx\")\n",
    "\n",
    "# into csv file\n",
    "read_file.to_csv (\".\\Resources\\cleaned-county-to-county-2015-2019-ins-outs-nets-gross.csv\", \n",
    "                  index = None,header=False)\n",
    "# read csv file and convert \n",
    "# into a dataframe object\n",
    "cleaned_county_df = pd.DataFrame(pd.read_csv(\".\\Resources\\cleaned-county-to-county-2015-2019-ins-outs-nets-gross.csv\"))"
   ]
  },
  {
   "cell_type": "code",
   "execution_count": null,
   "id": "15565ca7",
   "metadata": {},
   "outputs": [],
   "source": []
  }
 ],
 "metadata": {
  "kernelspec": {
   "display_name": "Python 3 (ipykernel)",
   "language": "python",
   "name": "python3"
  },
  "language_info": {
   "codemirror_mode": {
    "name": "ipython",
    "version": 3
   },
   "file_extension": ".py",
   "mimetype": "text/x-python",
   "name": "python",
   "nbconvert_exporter": "python",
   "pygments_lexer": "ipython3",
   "version": "3.7.10"
  }
 },
 "nbformat": 4,
 "nbformat_minor": 5
}
